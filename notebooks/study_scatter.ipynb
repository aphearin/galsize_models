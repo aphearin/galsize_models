{
 "cells": [
  {
   "cell_type": "code",
   "execution_count": 1,
   "metadata": {
    "collapsed": true
   },
   "outputs": [],
   "source": [
    "%matplotlib inline"
   ]
  },
  {
   "cell_type": "code",
   "execution_count": 2,
   "metadata": {},
   "outputs": [
    {
     "name": "stdout",
     "output_type": "stream",
     "text": [
      "Total runtime = 39.43 seconds\n",
      "['obs_sfr', 'icl', 'upid', 'mpeak', 'sfr', 'halo_id', 'mvir', 'rvir', 'vmax_at_mpeak', 'vx', 'a_first_infall', 'sm', 'vy', 'y', 'x', 'vz', 'z', 'dvmax_zscore', 'obs_sm', 'halo_hostid', 'host_halo_rvir', 'host_halo_mvir', 'ssfr', 'is_main_sequence', 'is_green_valley', 'is_quenched', 'logsm', 'rvir_halo_kpc', 'spin_at_infall', 'bt_meert15_random']\n"
     ]
    }
   ],
   "source": [
    "from galsize_models.models.load_baseline_catalogs import load_umachine_mock\n",
    "mock = load_umachine_mock()\n",
    "print(mock.keys())"
   ]
  },
  {
   "cell_type": "code",
   "execution_count": 3,
   "metadata": {},
   "outputs": [
    {
     "name": "stdout",
     "output_type": "stream",
     "text": [
      "['ra', 'dec', 'z', 'bptclass', 'sm', 'sfr', 'specsfr', 'sm_fib', 'sfr_fib', 'specsfr_fib', 'withinr', 'eligiblehost', 'sm_complete', 'eligiblehost2', 'd4000', 'd4000_sub', 'd4000_n', 'd4000_n_sub', 'has_match', 'logM_mendel13', 'logMB_mendel13', 'logMD_mendel13', 'pps_mendel13', 'type_mendel13', 'deltaBD_mendel13', 'dr7_objID', 'has_meert15_match', 'r50_magr_kpc_meert15', 'Magr_tot_meert15', 'Magr_bulge_meert15', 'Magr_disk_meert15', 'gr_bulge_meert15', 'gr_disk_meert15', 'morph_type_T_meert15', 'gr_kcorr_meert15', 'bulge_to_total_rband_meert15', 'ssfr']\n"
     ]
    }
   ],
   "source": [
    "from galsize_models.measurements import load_umachine_sdss_with_meert15\n",
    "full_sdss, behroozi_complete, good_profile_mask = load_umachine_sdss_with_meert15()\n",
    "\n",
    "sdss = full_sdss[behroozi_complete & good_profile_mask]\n",
    "print(sdss.keys())\n"
   ]
  },
  {
   "cell_type": "code",
   "execution_count": 4,
   "metadata": {},
   "outputs": [],
   "source": [
    "from galsize_models.models import bulge_disk_double_power_law as bddpl\n",
    "\n",
    "\n",
    "mock['r50_magr_kpc_meert15'] = bddpl.galaxy_size_vs_rhalo(mock['rvir_halo_kpc'], \n",
    "                                                    mock['bt_meert15_random'], \n",
    "                                                    bddpl.fiducial_norm_bulge, \n",
    "                                                    bddpl.fiducial_norm_disk,\n",
    "                                                    bddpl.fiducial_alpha_bulge,\n",
    "                                                    bddpl.fiducial_alpha_disk,\n",
    "                                                    scatter=0.2)"
   ]
  },
  {
   "cell_type": "code",
   "execution_count": 5,
   "metadata": {
    "collapsed": true
   },
   "outputs": [],
   "source": [
    "from halotools.empirical_models import conditional_abunmatch\n",
    "\n",
    "msg = \"for logsm = {0:.1f}, num_SDSS = {1}, num_mock = {2}\"\n",
    "\n",
    "logsm_bins = np.linspace(9.75, 11, 15)\n",
    "mock['r50_magr_kpc_meert15_cam'] = mock['r50_magr_kpc_meert15']\n",
    "for logsm_low,logsm_high in zip(logsm_bins[:-1],logsm_bins[1:]):\n",
    "    mock_mask = (mock['obs_sm'] >= 10**logsm_low)& (mock['obs_sm'] < 10**logsm_high)\n",
    "    mock_mask *= (mock['ssfr'] > -10.75)\n",
    "    mock_sample = mock[mock_mask]\n",
    "    sdss_mask = (sdss['sm'] >= logsm_low)& (sdss['sm'] < logsm_high)\n",
    "    sdss_mask *= (sdss['ssfr'] > -10.75)\n",
    "    sdss_sample = sdss[sdss_mask]\n",
    "    haloprop = mock_sample['spin_at_infall']\n",
    "    galprop = sdss_sample['r50_magr_kpc_meert15']\n",
    "#     print(msg.format(logsm_low, len(sdss_sample),len(mock_sample)))\n",
    "    model_galprop = conditional_abunmatch(haloprop, galprop)\n",
    "    mock['r50_magr_kpc_meert15_cam'][mock_mask] = model_galprop\n"
   ]
  },
  {
   "cell_type": "code",
   "execution_count": 10,
   "metadata": {
    "collapsed": true
   },
   "outputs": [],
   "source": [
    "def get_rhalf_samples(mock, sdss, sm_low, sm_high, key='r50_magr_kpc_meert15'):\n",
    "    sm_mask = (sdss['sm'] > sm_low) & (sdss['sm'] < sm_high)\n",
    "    sdss_sample = sdss[sm_mask]\n",
    "    sm_mask_mock = (mock['obs_sm'] > 10**sm_low) & (mock['obs_sm'] < 10**sm_high)\n",
    "    mock_sample = mock[sm_mask_mock]\n",
    "    return sdss_sample['r50_magr_kpc_meert15'], mock_sample[key]"
   ]
  },
  {
   "cell_type": "code",
   "execution_count": 11,
   "metadata": {},
   "outputs": [
    {
     "data": {
      "image/png": "[encoded data removed]",
      "text/plain": [
       "<matplotlib.figure.Figure at 0x11f3510d0>"
      ]
     },
     "metadata": {},
     "output_type": "display_data"
    }
   ],
   "source": [
    "fig, ((ax1,ax2),(ax3,ax4)) = plt.subplots(2,2, sharex=True,sharey=True, \n",
    "                                         figsize=(8,8))\n",
    "\n",
    "\n",
    "sm_low1, sm_high1 = 9.75, 10.25\n",
    "sdss_rhalf1, mock_rhalf1 = get_rhalf_samples(mock, sdss, sm_low1, sm_high1)\n",
    "__=ax1.hist(np.log10(sdss_rhalf1), bins=50, normed=True, alpha=0.8, color='blue')\n",
    "__=ax1.hist(np.log10(mock_rhalf1), bins=50, normed=True, alpha=0.8, color='red')\n",
    "\n",
    "sm_low2, sm_high2 = 10.25, 10.75\n",
    "sdss_rhalf2, mock_rhalf2 = get_rhalf_samples(mock, sdss, sm_low2, sm_high2)\n",
    "__=ax2.hist(np.log10(sdss_rhalf2), bins=50, normed=True, alpha=0.8, color='blue')\n",
    "__=ax2.hist(np.log10(mock_rhalf2), bins=50, normed=True, alpha=0.8, color='red')\n",
    "\n",
    "sm_low3, sm_high3 = 10.75, 11.25\n",
    "sdss_rhalf3, mock_rhalf3 = get_rhalf_samples(mock, sdss, sm_low3, sm_high3)\n",
    "__=ax3.hist(np.log10(sdss_rhalf3), bins=50, normed=True, alpha=0.8, color='blue')\n",
    "__=ax3.hist(np.log10(mock_rhalf3), bins=50, normed=True, alpha=0.8, color='red')\n",
    "\n",
    "sm_low4, sm_high4 = 11.25, np.inf\n",
    "sdss_rhalf4, mock_rhalf4 = get_rhalf_samples(mock, sdss, sm_low4, sm_high4)\n",
    "__=ax4.hist(np.log10(sdss_rhalf4), bins=50, normed=True, alpha=0.8, color='blue')\n",
    "__=ax4.hist(np.log10(mock_rhalf4), bins=50, normed=True, alpha=0.8, color='red')\n"
   ]
  },
  {
   "cell_type": "code",
   "execution_count": 12,
   "metadata": {},
   "outputs": [
    {
     "data": {
      "image/png": "[encoded data removed]",
      "text/plain": [
       "<matplotlib.figure.Figure at 0x13f4b4b10>"
      ]
     },
     "metadata": {},
     "output_type": "display_data"
    }
   ],
   "source": [
    "fig, ((ax1,ax2),(ax3,ax4)) = plt.subplots(2,2, sharex=True,sharey=True, \n",
    "                                         figsize=(8,8))\n",
    "\n",
    "\n",
    "sm_low1, sm_high1 = 9.75, 10.25\n",
    "sdss_rhalf1, mock_rhalf1 = get_rhalf_samples(mock, sdss, sm_low1, sm_high1, \n",
    "                                             key='r50_magr_kpc_meert15_cam')\n",
    "__=ax1.hist(np.log10(sdss_rhalf1), bins=50, normed=True, alpha=0.8, color='blue')\n",
    "__=ax1.hist(np.log10(mock_rhalf1), bins=50, normed=True, alpha=0.8, color='red')\n",
    "\n",
    "sm_low2, sm_high2 = 10.25, 10.75\n",
    "sdss_rhalf2, mock_rhalf2 = get_rhalf_samples(mock, sdss, sm_low2, sm_high2,\n",
    "                                            key='r50_magr_kpc_meert15_cam')\n",
    "__=ax2.hist(np.log10(sdss_rhalf2), bins=50, normed=True, alpha=0.8, color='blue')\n",
    "__=ax2.hist(np.log10(mock_rhalf2), bins=50, normed=True, alpha=0.8, color='red')\n",
    "\n",
    "sm_low3, sm_high3 = 10.75, 11.25\n",
    "sdss_rhalf3, mock_rhalf3 = get_rhalf_samples(mock, sdss, sm_low3, sm_high3,\n",
    "                                            key='r50_magr_kpc_meert15_cam')\n",
    "__=ax3.hist(np.log10(sdss_rhalf3), bins=50, normed=True, alpha=0.8, color='blue')\n",
    "__=ax3.hist(np.log10(mock_rhalf3), bins=50, normed=True, alpha=0.8, color='red')\n",
    "\n",
    "sm_low4, sm_high4 = 11.25, np.inf\n",
    "sdss_rhalf4, mock_rhalf4 = get_rhalf_samples(mock, sdss, sm_low4, sm_high4,\n",
    "                                            key='r50_magr_kpc_meert15_cam')\n",
    "__=ax4.hist(np.log10(sdss_rhalf4), bins=50, normed=True, alpha=0.8, color='blue')\n",
    "__=ax4.hist(np.log10(mock_rhalf4), bins=50, normed=True, alpha=0.8, color='red')\n"
   ]
  },
  {
   "cell_type": "code",
   "execution_count": null,
   "metadata": {},
   "outputs": [],
   "source": []
  },
  {
   "cell_type": "code",
   "execution_count": null,
   "metadata": {
    "collapsed": true
   },
   "outputs": [],
   "source": []
  }
 ],
 "metadata": {
  "kernelspec": {
   "display_name": "Python [conda root]",
   "language": "python",
   "name": "conda-root-py"
  },
  "language_info": {
   "codemirror_mode": {
    "name": "ipython",
    "version": 2
   },
   "file_extension": ".py",
   "mimetype": "text/x-python",
   "name": "python",
   "nbconvert_exporter": "python",
   "pygments_lexer": "ipython2",
   "version": "2.7.13"
  }
 },
 "nbformat": 4,
 "nbformat_minor": 2
}
