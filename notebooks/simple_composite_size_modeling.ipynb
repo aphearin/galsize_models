{
 "cells": [
  {
   "cell_type": "code",
   "execution_count": 1,
   "metadata": {
    "collapsed": true
   },
   "outputs": [],
   "source": [
    "%matplotlib inline"
   ]
  },
  {
   "cell_type": "code",
   "execution_count": 2,
   "metadata": {
    "collapsed": true
   },
   "outputs": [],
   "source": [
    "from galsize_models.models import moster13_based_mock\n",
    "mock = moster13_based_mock()"
   ]
  },
  {
   "cell_type": "code",
   "execution_count": 3,
   "metadata": {},
   "outputs": [
    {
     "name": "stdout",
     "output_type": "stream",
     "text": [
      "Number of M*-complete SDSS galaxies with good profile measurements = 229889\n"
     ]
    }
   ],
   "source": [
    "from galsize_models.measurements import load_umachine_sdss_with_meert15\n",
    "full_sdss, behroozi_complete, good_profile_mask = load_umachine_sdss_with_meert15()\n",
    "\n",
    "sdss = full_sdss[behroozi_complete & good_profile_mask]\n",
    "print(\"Number of M*-complete SDSS galaxies with good profile measurements = {0}\".format(len(sdss)))\n",
    "# print(sdss.keys())"
   ]
  },
  {
   "cell_type": "code",
   "execution_count": null,
   "metadata": {},
   "outputs": [],
   "source": [
    "mstar_unity_h = model.mc_stellar_mass(prim_haloprop=halocat.halo_table['halo_mpeak'],\n",
    "                                     redshift=halocat.halo_table['halo_zpeak'])\n",
    "mstar_mpeak = mstar_unity_h/halocat.cosmology.h/halocat.cosmology.h\n",
    "\n",
    "from astropy.table import Table\n",
    "\n",
    "mock = Table()\n",
    "\n",
    "keys_from_halo_catalog = ('halo_upid', 'halo_mpeak', 'halo_scale_factor_mpeak',  \n",
    "                         'halo_x', 'halo_y', 'halo_z', 'halo_zpeak',\n",
    "                         'halo_vx', 'halo_vy', 'halo_vz', \n",
    "                          'halo_mvir_host_halo', 'halo_spin')\n",
    "\n",
    "mstar_mask = mstar_mpeak > 10**9\n",
    "for key in keys_from_halo_catalog:\n",
    "    mock[key[5:]] = halocat.halo_table[key][mstar_mask]\n",
    "\n",
    "cenmask = mock['scale_factor_mpeak'] > 1\n",
    "mock['zpeak0'] = mock['zpeak']\n",
    "mock['zpeak0'][cenmask] = 0.\n",
    "mock['scale_factor_mpeak0'] = mock['scale_factor_mpeak']\n",
    "mock['scale_factor_mpeak0'][cenmask] = 1.\n",
    "\n",
    "mock['mstar_mpeak'] = mstar_mpeak[mstar_mask]\n",
    "print(mock.keys())"
   ]
  },
  {
   "cell_type": "code",
   "execution_count": null,
   "metadata": {},
   "outputs": [],
   "source": [
    "fig, ax = plt.subplots(1, 1)\n",
    "\n",
    "__=ax.scatter(sdss['sm'][::50], sdss['logsm_bell03_meert15'][::50]-sdss['sm'][::50], s=1)\n",
    "\n",
    "xlim=ax.set_xlim(9, 12)\n",
    "ylim = ax.set_ylim(-.1, 1)\n",
    "\n",
    "\n",
    "from halotools.empirical_models import solve_for_polynomial_coefficients\n",
    "\n",
    "abscissa = 9, 10.5, 12\n",
    "ordinates = 0.4, 0.25, 0.5\n",
    "a0, a1, a2 = solve_for_polynomial_coefficients(abscissa, ordinates)\n",
    "\n",
    "x = np.linspace(9, 12, 100)\n",
    "__=ax.plot(x, a0 + a1*x + a2*x*x)\n"
   ]
  },
  {
   "cell_type": "code",
   "execution_count": null,
   "metadata": {},
   "outputs": [],
   "source": [
    "logsm_mpajhu_bins = np.linspace(9.25, 12, 15)\n",
    "logsm_mpajhu_table = 0.5*(logsm_mpajhu_bins[:-1] + logsm_mpajhu_bins[1:])\n",
    "\n",
    "from scipy.stats import binned_statistic\n",
    "\n",
    "logsm_diff = sdss['logsm_bell03_meert15'] - sdss['sm']\n",
    "logsm_correction_table, __, __ = binned_statistic(sdss['sm'], logsm_diff, bins=logsm_mpajhu_bins, \n",
    "                                           statistic='median')\n",
    "\n",
    "fig, ax = plt.subplots(1, 1)\n",
    "\n",
    "__=ax.plot(logsm_mpajhu_table, logsm_correction_table)"
   ]
  },
  {
   "cell_type": "code",
   "execution_count": null,
   "metadata": {
    "collapsed": true
   },
   "outputs": [],
   "source": [
    "logsm_correction = np.interp(np.log10(mock['mstar_mpeak']), \n",
    "                             logsm_mpajhu_table, logsm_correction_table)\n",
    "\n",
    "logsm_mock = np.log10(mock['mstar_mpeak'])\n",
    "logsm_polynomial_correction = a0 + a1*logsm_mock + a2*logsm_mock**2\n",
    "\n",
    "mock['mstar_mpeak_corrected'] = 10**(np.log10(mock['mstar_mpeak']) + logsm_polynomial_correction)"
   ]
  },
  {
   "cell_type": "code",
   "execution_count": null,
   "metadata": {
    "collapsed": true
   },
   "outputs": [],
   "source": [
    "from halotools.empirical_models import halo_mass_to_halo_radius\n",
    "\n",
    "rvir_peak_comoving_unity_h = halo_mass_to_halo_radius(mock['mpeak'], \n",
    "                                halocat.cosmology, mock['zpeak'], 'vir')\n",
    "rvir_peak_physical = rvir_peak_comoving_unity_h*mock['scale_factor_mpeak']/halocat.cosmology.h\n",
    "mock['rvir_halo_zpeak'] = rvir_peak_physical*1000."
   ]
  },
  {
   "cell_type": "code",
   "execution_count": null,
   "metadata": {
    "collapsed": true
   },
   "outputs": [],
   "source": [
    "rvir_peak_comoving_unity_h = halo_mass_to_halo_radius(mock['mpeak'], \n",
    "                                halocat.cosmology, mock['zpeak0'], 'vir')\n",
    "rvir_peak_physical = rvir_peak_comoving_unity_h*mock['scale_factor_mpeak0']/halocat.cosmology.h\n",
    "mock['rvir_halo_zpeak0'] = rvir_peak_physical*1000."
   ]
  },
  {
   "cell_type": "code",
   "execution_count": null,
   "metadata": {
    "collapsed": true
   },
   "outputs": [],
   "source": [
    "from galsize_models.models import component_size_vs_rhalo\n",
    "\n",
    "rvir = mock['rvir_halo_zpeak']\n",
    "normalization_all = 0.0125\n",
    "alpha_all = 1.\n",
    "scatter_all = 0.2\n",
    "size_seed=14041\n",
    "\n",
    "mock['r50'] = component_size_vs_rhalo(rvir, \n",
    "                        normalization_all, alpha_all, \n",
    "                        scatter=scatter_all, seed=size_seed)\n",
    "\n",
    "from scipy.stats import binned_statistic\n",
    "logsm_bins = np.linspace(9, 12, 25)\n",
    "logsm_mids = 0.5*(logsm_bins[:-1] + logsm_bins[1:])\n",
    "\n",
    "median_rhalf_all_mock, __, __ = binned_statistic(\n",
    "        np.log10(mock['mstar_mpeak']), mock['r50'], bins=logsm_bins)\n",
    "median_rhalf_all_mock_corrected, __, __ = binned_statistic(\n",
    "        np.log10(mock['mstar_mpeak_corrected']), mock['r50'], bins=logsm_bins)\n",
    "\n",
    "mock['r50_median'] = np.interp(np.log10(mock['mstar_mpeak']), \n",
    "                              logsm_mids, median_rhalf_all_mock_corrected)\n"
   ]
  },
  {
   "cell_type": "code",
   "execution_count": null,
   "metadata": {
    "collapsed": true
   },
   "outputs": [],
   "source": [
    "rvir = mock['rvir_halo_zpeak']\n",
    "normalization_all = 0.0125\n",
    "alpha_all = 1.\n",
    "scatter_all = 0.25\n",
    "size_seed=14041\n",
    "\n",
    "mock['r50_zpeak0'] = component_size_vs_rhalo(rvir, \n",
    "                        normalization_all, alpha_all, \n",
    "                        scatter=scatter_all, seed=size_seed)"
   ]
  },
  {
   "cell_type": "code",
   "execution_count": null,
   "metadata": {},
   "outputs": [],
   "source": [
    "from matplotlib import ticker \n",
    "\n",
    "fig, ax = plt.subplots(1, 1)\n",
    "\n",
    "__=ax.loglog()\n",
    "\n",
    "__=ax.scatter(10**sdss['logsm_bell03_meert15'][::20], \n",
    "              sdss['r50_magr_kpc_meert15'][::20], \n",
    "             s=1, color='gray', label='.')\n",
    "\n",
    "__=ax.plot(10**logsm_mids, median_rhalf_all_mock_corrected, color='k', lw=2, \n",
    "          label=r'$R_{1/2} = 0.0125R_{\\rm vir}$')\n",
    "\n",
    "\n",
    "xmin, xmax = 10**9, 10**12\n",
    "ymin, ymax = 0.5, 50\n",
    "_xlabel = r'$M_{\\ast}$ $[M_{\\odot}]$'\n",
    "_ylabel = r'$\\langle R_{1/2} \\rangle$ $[{\\rm kpc}]$'\n",
    "xlim = ax.set_xlim(xmin, xmax)\n",
    "ylim = ax.set_ylim(ymin, ymax)\n",
    "__=ax.get_yaxis().set_major_formatter(ticker.ScalarFormatter())\n",
    "__=ax.get_yaxis().set_minor_formatter(ticker.NullFormatter())\n",
    "__=ax.set_yticks((1, 3, 10, 30))\n",
    "\n",
    "ylabel=ax.set_ylabel(_ylabel)\n",
    "xlabel=ax.set_xlabel(_xlabel)\n",
    "\n",
    "leg = ax.legend()\n",
    "\n",
    "figname = 'single_component_model_vs_sdss_one_point.pdf'\n",
    "fig.savefig(figname, bbox_extra_artists=[xlabel, ylabel], bbox_inches='tight')\n"
   ]
  },
  {
   "cell_type": "code",
   "execution_count": null,
   "metadata": {},
   "outputs": [],
   "source": [
    "mpeak_mask = (mock['mpeak'] > 1e12) & (mock['mpeak'] < 2e12)\n",
    "sample = mock[mpeak_mask]\n",
    "\n",
    "cenmask = sample['scale_factor_mpeak'] > 1\n",
    "cens = sample[cenmask]\n",
    "sats = sample[~cenmask]\n",
    "\n",
    "fig, ax = plt.subplots(1, 1)\n",
    "\n",
    "__=ax.hist(np.log10(cens['r50']), bins=50, normed=True, alpha=0.8, color='blue')\n",
    "__=ax.hist(np.log10(sats['r50']), bins=50, normed=True, alpha=0.8, color='red')\n"
   ]
  },
  {
   "cell_type": "code",
   "execution_count": null,
   "metadata": {},
   "outputs": [],
   "source": [
    "all_cens = mock[mock['upid']==-1]\n",
    "all_sats = mock[mock['upid']!=-1]\n",
    "mpeak_bins = np.logspace(11.5, 14.35, 20)\n",
    "mpeak_mids = 10**(0.5*(np.log10(mpeak_bins[:-1]) + np.log10(mpeak_bins[1:])))\n",
    "\n",
    "median_size_cens, __, __ = binned_statistic(all_cens['mpeak'], all_cens['r50'], bins=mpeak_bins)\n",
    "median_size_sats, __, __ = binned_statistic(all_sats['mpeak'], all_sats['r50'], bins=mpeak_bins)\n",
    "\n",
    "fig, ax = plt.subplots(1, 1)\n",
    "__=ax.loglog()\n",
    "\n",
    "xlim = ax.set_xlim(mpeak_bins.min(), mpeak_bins.max())\n",
    "\n",
    "__=ax.plot(mpeak_mids, median_size_cens, color='blue', label='centrals')\n",
    "__=ax.plot(mpeak_mids[:-3], median_size_sats[:-3], color='red', label='satellites')\n",
    "xlabel = ax.set_xlabel(r'$M_{\\rm peak}$ $[M_{\\odot}]$')\n",
    "ylabel = ax.set_ylabel(r'$\\langle R_{1/2}\\rangle$ $[{\\rm kpc}]$')\n",
    "legend = ax.legend()"
   ]
  },
  {
   "cell_type": "code",
   "execution_count": null,
   "metadata": {
    "collapsed": true
   },
   "outputs": [],
   "source": [
    "from halotools.mock_observables import return_xyz_formatted_array, wp\n",
    "\n",
    "def wp_samples(sample, rp_bins=np.logspace(-1, 1.25, 20), pi_max=20., period=250., \n",
    "              size_key='r50'):\n",
    "    \"\"\"\n",
    "    \"\"\"\n",
    "    \n",
    "    pos_all = return_xyz_formatted_array(sample['x'], sample['y'], sample['z'], \n",
    "                    velocity=sample['vz'], velocity_distortion_dimension='z', period=period)\n",
    "    \n",
    "    pos_small = return_xyz_formatted_array(sample['x'], sample['y'], sample['z'], \n",
    "                    velocity=sample['vz'], velocity_distortion_dimension='z', period=period, \n",
    "                    mask=(sample[size_key] < sample['r50_median']))\n",
    "    pos_large = return_xyz_formatted_array(sample['x'], sample['y'], sample['z'], \n",
    "                    velocity=sample['vz'], velocity_distortion_dimension='z', period=period, \n",
    "                    mask=(sample[size_key] >= sample['r50_median']))\n",
    "    \n",
    "    wp_all = wp(pos_all, rp_bins, pi_max, period=period)\n",
    "    wp_small = wp(pos_small, rp_bins, pi_max, period=period)\n",
    "    wp_large = wp(pos_large, rp_bins, pi_max, period=period)\n",
    "\n",
    "    rp_mids = 10**(0.5*(np.log10(rp_bins[:-1]) + np.log10(rp_bins[1:])))\n",
    "    \n",
    "    return rp_mids, wp_all, wp_small, wp_large"
   ]
  },
  {
   "cell_type": "code",
   "execution_count": null,
   "metadata": {
    "collapsed": true
   },
   "outputs": [],
   "source": [
    "sample = mock[mock['mstar_mpeak_corrected'] > 10**9.75]\n",
    "rp_mids, wp_sm9p75_mock, wp_sm9p75_small_mock, wp_sm9p75_large_mock = wp_samples(sample)\n"
   ]
  },
  {
   "cell_type": "code",
   "execution_count": null,
   "metadata": {
    "collapsed": true
   },
   "outputs": [],
   "source": [
    "sample = mock[mock['mstar_mpeak_corrected'] > 10**9.75]\n",
    "result = wp_samples(sample, size_key='r50_zpeak0')\n",
    "rp_mids, wp_sm9p75_mock_zpeak0, wp_sm9p75_small_mock_zpeak0, wp_sm9p75_large_mock_zpeak0 = result\n"
   ]
  },
  {
   "cell_type": "code",
   "execution_count": null,
   "metadata": {
    "collapsed": true
   },
   "outputs": [],
   "source": [
    "sample = mock[mock['mstar_mpeak_corrected'] > 10**10.25]\n",
    "rp_mids, wp_sm10p25_mock, wp_sm10p25_small_mock, wp_sm10p25_large_mock = wp_samples(sample)\n"
   ]
  },
  {
   "cell_type": "code",
   "execution_count": null,
   "metadata": {
    "collapsed": true
   },
   "outputs": [],
   "source": [
    "sample = mock[mock['mstar_mpeak_corrected'] > 10**10.25]\n",
    "result = wp_samples(sample, size_key='r50_zpeak0')\n",
    "rp_mids, wp_sm10p25_mock_zpeak0, wp_sm10p25_small_mock_zpeak0, wp_sm10p25_large_mock_zpeak0 = result\n"
   ]
  },
  {
   "cell_type": "code",
   "execution_count": null,
   "metadata": {
    "collapsed": true
   },
   "outputs": [],
   "source": [
    "sample = mock[mock['mstar_mpeak_corrected'] > 10**10.75]\n",
    "rp_mids, wp_sm10p75_mock, wp_sm10p75_small_mock, wp_sm10p75_large_mock = wp_samples(sample)\n",
    "\n",
    "sample = mock[mock['mstar_mpeak_corrected'] > 10**11.25]\n",
    "rp_mids, wp_sm11p25_mock, wp_sm11p25_small_mock, wp_sm11p25_large_mock = wp_samples(sample)"
   ]
  },
  {
   "cell_type": "code",
   "execution_count": null,
   "metadata": {
    "collapsed": true
   },
   "outputs": [],
   "source": [
    "sample = mock[mock['mstar_mpeak_corrected'] > 10**10.75]\n",
    "result = wp_samples(sample, size_key='r50_zpeak0')\n",
    "rp_mids, wp_sm10p75_mock_zpeak0, wp_sm10p75_small_mock_zpeak0, wp_sm10p75_large_mock_zpeak0 = result\n"
   ]
  },
  {
   "cell_type": "code",
   "execution_count": null,
   "metadata": {
    "collapsed": true
   },
   "outputs": [],
   "source": [
    "sample = mock[mock['mstar_mpeak_corrected'] > 10**11.25]\n",
    "result = wp_samples(sample, size_key='r50_zpeak0')\n",
    "rp_mids, wp_sm11p25_mock_zpeak0, wp_sm11p25_small_mock_zpeak0, wp_sm11p25_large_mock_zpeak0 = result\n"
   ]
  },
  {
   "cell_type": "code",
   "execution_count": null,
   "metadata": {
    "collapsed": true
   },
   "outputs": [],
   "source": [
    "fracdiff_sm9p75_mock = (wp_sm9p75_large_mock-wp_sm9p75_small_mock)/wp_sm9p75_mock\n",
    "fracdiff_sm10p25_mock = (wp_sm10p25_large_mock-wp_sm10p25_small_mock)/wp_sm10p25_mock\n",
    "fracdiff_sm10p75_mock = (wp_sm10p75_large_mock-wp_sm10p75_small_mock)/wp_sm10p75_mock\n",
    "fracdiff_sm11p25_mock = (wp_sm11p25_large_mock-wp_sm11p25_small_mock)/wp_sm11p25_mock"
   ]
  },
  {
   "cell_type": "code",
   "execution_count": null,
   "metadata": {
    "collapsed": true
   },
   "outputs": [],
   "source": [
    "fracdiff_sm9p75_mock_zpeak0 = (wp_sm9p75_large_mock_zpeak0-wp_sm9p75_small_mock_zpeak0)/wp_sm9p75_mock_zpeak0\n",
    "fracdiff_sm10p25_mock_zpeak0 = (wp_sm10p25_large_mock_zpeak0-wp_sm10p25_small_mock_zpeak0)/wp_sm10p25_mock_zpeak0\n",
    "fracdiff_sm10p75_mock_zpeak0 = (wp_sm10p75_large_mock_zpeak0-wp_sm10p75_small_mock_zpeak0)/wp_sm10p75_mock_zpeak0\n",
    "fracdiff_sm11p25_mock_zpeak0 = (wp_sm11p25_large_mock_zpeak0-wp_sm11p25_small_mock_zpeak0)/wp_sm11p25_mock_zpeak0"
   ]
  },
  {
   "cell_type": "code",
   "execution_count": null,
   "metadata": {
    "collapsed": true
   },
   "outputs": [],
   "source": [
    "import os\n",
    "repo_dirname = \"/Users/aphearin/work/repositories/python/galsize_models\"\n",
    "output_subdirname = \"galsize_models/measurements/data/two_point_functions\"\n",
    "output_dirname = os.path.join(repo_dirname, output_subdirname)\n",
    "\n",
    "rp = np.load(os.path.join(output_dirname, 'sdss_sm9p75_smbell_rp.npy'))\n",
    "wp_sdss_sm9p75_smbell = np.load(os.path.join(output_dirname, 'sdss_sm9p75_smbell_wp.npy'))\n",
    "wp_sdss_sm9p75_smbell_small = np.load(os.path.join(output_dirname, 'sdss_sm9p75_smbell_small_wp.npy'))\n",
    "wp_sdss_sm9p75_smbell_large = np.load(os.path.join(output_dirname, 'sdss_sm9p75_smbell_large_wp.npy'))\n",
    "fracdiff_sm9p75_smbell = (wp_sdss_sm9p75_smbell_large-wp_sdss_sm9p75_smbell_small)/wp_sdss_sm9p75_smbell\n",
    "\n",
    "wp_sdss_sm10p0_smbell = np.load(os.path.join(output_dirname, 'sdss_sm10p0_smbell_wp.npy'))\n",
    "wp_sdss_sm10p0_smbell_small = np.load(os.path.join(output_dirname, 'sdss_sm10p0_smbell_small_wp.npy'))\n",
    "wp_sdss_sm10p0_smbell_large = np.load(os.path.join(output_dirname, 'sdss_sm10p0_smbell_large_wp.npy'))\n",
    "fracdiff_sm10p0_smbell = (wp_sdss_sm10p0_smbell_large-wp_sdss_sm10p0_smbell_small)/wp_sdss_sm10p0_smbell\n",
    "\n",
    "wp_sdss_sm10p25_smbell = np.load(os.path.join(output_dirname, 'sdss_sm10p25_smbell_wp.npy'))\n",
    "wp_sdss_sm10p25_smbell_small = np.load(os.path.join(output_dirname, 'sdss_sm10p25_smbell_small_wp.npy'))\n",
    "wp_sdss_sm10p25_smbell_large = np.load(os.path.join(output_dirname, 'sdss_sm10p25_smbell_large_wp.npy'))\n",
    "fracdiff_sm10p25_smbell = (wp_sdss_sm10p25_smbell_large-wp_sdss_sm10p25_smbell_small)/wp_sdss_sm10p25_smbell\n",
    "\n",
    "wp_sdss_sm10p5_smbell = np.load(os.path.join(output_dirname, 'sdss_sm10p5_smbell_wp.npy'))\n",
    "wp_sdss_sm10p5_smbell_small = np.load(os.path.join(output_dirname, 'sdss_sm10p5_smbell_small_wp.npy'))\n",
    "wp_sdss_sm10p5_smbell_large = np.load(os.path.join(output_dirname, 'sdss_sm10p5_smbell_large_wp.npy'))\n",
    "fracdiff_sm10p5_smbell = (wp_sdss_sm10p5_smbell_large-wp_sdss_sm10p5_smbell_small)/wp_sdss_sm10p5_smbell\n",
    "\n",
    "wp_sdss_sm10p75_smbell = np.load(os.path.join(output_dirname, 'sdss_sm10p75_smbell_wp.npy'))\n",
    "wp_sdss_sm10p75_smbell_small = np.load(os.path.join(output_dirname, 'sdss_sm10p75_smbell_small_wp.npy'))\n",
    "wp_sdss_sm10p75_smbell_large = np.load(os.path.join(output_dirname, 'sdss_sm10p75_smbell_large_wp.npy'))\n",
    "fracdiff_sm10p75_smbell = (wp_sdss_sm10p75_smbell_large-wp_sdss_sm10p75_smbell_small)/wp_sdss_sm10p75_smbell\n",
    "\n",
    "wp_sdss_sm11_smbell = np.load(os.path.join(output_dirname, 'sdss_sm11_smbell_wp.npy'))\n",
    "wp_sdss_sm11_smbell_small = np.load(os.path.join(output_dirname, 'sdss_sm11_smbell_small_wp.npy'))\n",
    "wp_sdss_sm11_smbell_large = np.load(os.path.join(output_dirname, 'sdss_sm11_smbell_large_wp.npy'))\n",
    "fracdiff_sm11_smbell = (wp_sdss_sm11_smbell_large-wp_sdss_sm11_smbell_small)/wp_sdss_sm11_smbell\n",
    "\n",
    "wp_sdss_sm11p25_smbell = np.load(os.path.join(output_dirname, 'sdss_sm11p25_smbell_wp.npy'))\n",
    "wp_sdss_sm11p25_smbell_small = np.load(os.path.join(output_dirname, 'sdss_sm11p25_smbell_small_wp.npy'))\n",
    "wp_sdss_sm11p25_smbell_large = np.load(os.path.join(output_dirname, 'sdss_sm11p25_smbell_large_wp.npy'))\n",
    "fracdiff_sm11p25_smbell = (wp_sdss_sm11p25_smbell_large-wp_sdss_sm11p25_smbell_small)/wp_sdss_sm11p25_smbell"
   ]
  },
  {
   "cell_type": "code",
   "execution_count": null,
   "metadata": {},
   "outputs": [],
   "source": [
    "fig, ((ax1, ax2), (ax3, ax4)) = plt.subplots(2, 2, sharex=True, sharey=True, \n",
    "                                             figsize=(8, 8))\n",
    "\n",
    "axes = ax1, ax2, ax3, ax4\n",
    "\n",
    "for ax in axes:\n",
    "    ylim = ax.set_ylim(-1.75, 0.2)\n",
    "    xlim = ax.set_xlim(0.1, 20)\n",
    "    xscale = ax.set_xscale('log')\n",
    "    __=ax.plot(np.logspace(-2, 2, 100), np.zeros(100), '--', color='k')\n",
    "\n",
    "    \n",
    "__=ax1.errorbar(rp, fracdiff_sm11p25_smbell, 0.1, fmt='.', color='red', label='SDSS')\n",
    "__=ax2.errorbar(rp, fracdiff_sm10p75_smbell, 0.1, fmt='.', color='orange')\n",
    "__=ax3.errorbar(rp, fracdiff_sm10p25_smbell, 0.1, fmt='.', color='green')\n",
    "__=ax4.errorbar(rp, fracdiff_sm9p75_smbell, 0.1, fmt='.', color='blue')\n",
    "\n",
    "\n",
    "__=ax1.plot(rp_mids[3:], fracdiff_sm11p25_mock[3:], color='red', \n",
    "            label=r'$R_{\\rm vir}(z_{\\rm peak})$')\n",
    "__=ax2.plot(rp_mids, fracdiff_sm10p75_mock, color='orange')\n",
    "__=ax3.plot(rp_mids, fracdiff_sm10p25_mock, color='green')\n",
    "__=ax4.plot(rp_mids, fracdiff_sm9p75_mock, color='blue')\n",
    "\n",
    "__=ax1.set_title(r'$M_{\\ast} > 10^{11.25}M_{\\odot}$')\n",
    "__=ax2.set_title(r'$M_{\\ast} > 10^{10.75}M_{\\odot}$')\n",
    "__=ax3.set_title(r'$M_{\\ast} > 10^{10.25}M_{\\odot}$')\n",
    "__=ax4.set_title(r'$M_{\\ast} > 10^{9.75}M_{\\odot}$')\n",
    "\n",
    "__=ax1.plot(rp_mids[3:], fracdiff_sm11p25_mock_zpeak0[3:], '--', color='red',\n",
    "           label=r'$R^{\\rm sat}_{\\rm vir}(z_{\\rm peak}); R^{\\rm cen}_{\\rm vir}(z=0)$')\n",
    "__=ax2.plot(rp_mids, fracdiff_sm10p75_mock_zpeak0, '--', color='orange')\n",
    "__=ax3.plot(rp_mids, fracdiff_sm10p25_mock_zpeak0, '--', color='green')\n",
    "__=ax4.plot(rp_mids, fracdiff_sm9p75_mock_zpeak0, '--', color='blue')\n",
    "\n",
    "ylabel1 = ax1.set_ylabel(r'$(w_{\\rm p}^{\\rm large} - w_{\\rm p}^{\\rm small}) / w_{\\rm p}^{\\rm all}$')\n",
    "ylabel3 = ax3.set_ylabel(r'$(w_{\\rm p}^{\\rm large} - w_{\\rm p}^{\\rm small}) / w_{\\rm p}^{\\rm all}$')\n",
    "xlabel3 = ax3.set_xlabel(r'$R_{\\rm p}$  $[{\\rm Mpc}]$')\n",
    "xlabel4 = ax4.set_xlabel(r'$R_{\\rm p}$  $[{\\rm Mpc}]$')\n",
    "\n",
    "leg1 = ax1.legend()\n",
    "\n",
    "figname = 'size_clustering_ratios_alt_model_vs_sdss.pdf'\n",
    "fig.savefig(figname, bbox_extra_artists=[xlabel3, ylabel3], bbox_inches='tight')\n"
   ]
  },
  {
   "cell_type": "code",
   "execution_count": null,
   "metadata": {
    "collapsed": true
   },
   "outputs": [],
   "source": []
  },
  {
   "cell_type": "code",
   "execution_count": null,
   "metadata": {
    "collapsed": true
   },
   "outputs": [],
   "source": []
  },
  {
   "cell_type": "code",
   "execution_count": null,
   "metadata": {
    "collapsed": true
   },
   "outputs": [],
   "source": []
  }
 ],
 "metadata": {
  "kernelspec": {
   "display_name": "Python [conda root]",
   "language": "python",
   "name": "conda-root-py"
  },
  "language_info": {
   "codemirror_mode": {
    "name": "ipython",
    "version": 2
   },
   "file_extension": ".py",
   "mimetype": "text/x-python",
   "name": "python",
   "nbconvert_exporter": "python",
   "pygments_lexer": "ipython2",
   "version": "2.7.13"
  }
 },
 "nbformat": 4,
 "nbformat_minor": 2
}
