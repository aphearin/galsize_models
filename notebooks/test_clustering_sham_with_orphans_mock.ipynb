{
 "cells": [
  {
   "cell_type": "code",
   "execution_count": 1,
   "metadata": {},
   "outputs": [],
   "source": [
    "%matplotlib inline"
   ]
  },
  {
   "cell_type": "code",
   "execution_count": null,
   "metadata": {},
   "outputs": [],
   "source": [
    "from galsize_models.measurements import sdss_measurements"
   ]
  },
  {
   "cell_type": "code",
   "execution_count": 2,
   "metadata": {},
   "outputs": [
    {
     "name": "stdout",
     "output_type": "stream",
     "text": [
      "['upid', 'mpeak', 'rvir', 'mvir', 'vx', 'vy', 'vz', 'uparent_dist', 'vmax', 'desc_id', 'halo_id', 'vmax_at_mpeak', 'y', 'x', 'z', 'dvmax_rank', 'orphan', 'last_snap', 'last_snap_halo_id', 'has_halotools_match', 'mpeak_scale', 'acc_scale', 'first_acc_scale', 'halfmass_scale', 'has_orphan_hlist_match', 'sm', 'vmax_at_mpeak_percentile', 'zpeak', 'halo_rvir_zpeak']\n"
     ]
    }
   ],
   "source": [
    "from galsize_models.models import load_orphan_subhalos\n",
    "subhalos = load_orphan_subhalos()\n",
    "print(subhalos.keys())\n",
    "littleh = 0.7"
   ]
  },
  {
   "cell_type": "code",
   "execution_count": 3,
   "metadata": {},
   "outputs": [],
   "source": [
    "import os\n",
    "smf_dirname = \"/Users/aphearin/work/UniverseMachine/code/UniverseMachine/obs\"\n",
    "smf_basename = \"moustakas_z0.01_z0.20.smf\"\n",
    "smf_fname = os.path.join(smf_dirname, smf_basename)\n",
    "smf = np.loadtxt(smf_fname)"
   ]
  },
  {
   "cell_type": "code",
   "execution_count": 9,
   "metadata": {},
   "outputs": [],
   "source": [
    "rbins = np.logspace(-1, 1.35, 25)\n",
    "rp_bins = np.copy(rbins)\n",
    "rmids = 10**(0.5*(np.log10(rbins[:-1]) + np.log10(rbins[1:])))\n",
    "pi_max = 20.\n"
   ]
  },
  {
   "cell_type": "code",
   "execution_count": 4,
   "metadata": {},
   "outputs": [],
   "source": [
    "from AbundanceMatching import AbundanceFunction\n",
    "log10_sm_table = 0.5*(smf[:, 0] + smf[:, 1])\n",
    "dn_dlog10_sm = smf[:, 2]\n",
    "af = AbundanceFunction(log10_sm_table, dn_dlog10_sm, (8, 12.5), faint_end_first=True)\n",
    "\n",
    "from AbundanceMatching import calc_number_densities\n",
    "Lbox_h0p7 = 250./littleh\n",
    "\n",
    "scatter = 0.2\n",
    "remainder = af.deconvolute(scatter, 20)\n",
    "subhalos['logmstar_scatter'] = af.match(calc_number_densities(subhalos['mpeak'], Lbox_h0p7), \n",
    "                    scatter=scatter, do_add_scatter=True, do_rematch=True)"
   ]
  },
  {
   "cell_type": "code",
   "execution_count": 18,
   "metadata": {},
   "outputs": [],
   "source": [
    "from halotools.mock_observables import return_xyz_formatted_array, tpcf, wp\n",
    "\n",
    "mask1 = subhalos['logmstar_scatter'] > 9.75\n",
    "mask2 = subhalos['logmstar_scatter'] > 10.25\n",
    "mask3 = subhalos['logmstar_scatter'] > 10.75\n",
    "mask4 = subhalos['logmstar_scatter'] > 11.25\n",
    "\n",
    "sample1_pos = return_xyz_formatted_array(subhalos['x'], subhalos['y'], \n",
    "                                        subhalos['z'], mask=mask1, period=250, \n",
    "                                        velocity=subhalos['vz'], \n",
    "                                        velocity_distortion_dimension='z')\n",
    "sample2_pos = return_xyz_formatted_array(subhalos['x'], subhalos['y'], \n",
    "                                        subhalos['z'], mask=mask2, period=250, \n",
    "                                        velocity=subhalos['vz'], \n",
    "                                        velocity_distortion_dimension='z')\n",
    "sample3_pos = return_xyz_formatted_array(subhalos['x'], subhalos['y'], \n",
    "                                        subhalos['z'], mask=mask3, period=250, \n",
    "                                        velocity=subhalos['vz'], \n",
    "                                        velocity_distortion_dimension='z')\n",
    "sample4_pos = return_xyz_formatted_array(subhalos['x'], subhalos['y'], \n",
    "                                        subhalos['z'], mask=mask4, period=250, \n",
    "                                        velocity=subhalos['vz'], \n",
    "                                        velocity_distortion_dimension='z')\n",
    "\n",
    "\n",
    "wp1 = wp(sample1_pos, rp_bins, pi_max, period=250.)\n",
    "wp2 = wp(sample2_pos, rp_bins, pi_max, period=250.)\n",
    "wp3 = wp(sample3_pos, rp_bins, pi_max, period=250.)\n",
    "wp4 = wp(sample4_pos, rp_bins, pi_max, period=250.)"
   ]
  },
  {
   "cell_type": "code",
   "execution_count": null,
   "metadata": {},
   "outputs": [],
   "source": [
    "\n"
   ]
  },
  {
   "cell_type": "code",
   "execution_count": 20,
   "metadata": {},
   "outputs": [
    {
     "data": {
      "image/png": "[encoded data removed]",
      "text/plain": [
       "<matplotlib.figure.Figure at 0x12de92650>"
      ]
     },
     "metadata": {},
     "output_type": "display_data"
    }
   ],
   "source": [
    "fig, ax = plt.subplots(1, 1)\n",
    "\n",
    "__=ax.loglog()\n",
    "\n",
    "# __=ax.errorbar(sdss_measurements.rp*littleh, \n",
    "#                sdss_measurements.wp_sdss_mpajhu_sm9p75*littleh, \n",
    "#                sdss_measurements.wperr_sdss_mpajhu_sm9p75*littleh, \n",
    "#                fmt='.', color='blue', label=r'$M_{\\ast}>9.75$')\n",
    "# __=ax.plot(rmids, wp1, color='blue')\n",
    "\n",
    "\n",
    "# __=ax.errorbar(sdss_measurements.rp*littleh, \n",
    "#                sdss_measurements.wp_sdss_mpajhu_sm10p25*littleh, \n",
    "#                sdss_measurements.wperr_sdss_mpajhu_sm10p25*littleh, \n",
    "#                fmt='.', color='green', label=r'$M_{\\ast}>10.25$')\n",
    "# __=ax.plot(rmids, wp2, color='green')\n",
    "\n",
    "\n",
    "# __=ax.errorbar(sdss_measurements.rp*littleh, \n",
    "#                sdss_measurements.wp_sdss_mpajhu_sm10p75*littleh, \n",
    "#                sdss_measurements.wperr_sdss_mpajhu_sm10p75*littleh, \n",
    "#                fmt='.', color='orange', label=r'$M_{\\ast}>10.75$')\n",
    "# __=ax.plot(rmids, wp3, color='orange')\n",
    "\n",
    "__=ax.errorbar(sdss_measurements.rp*littleh, \n",
    "               sdss_measurements.wp_sdss_mpajhu_sm11p25*littleh, \n",
    "               sdss_measurements.wperr_sdss_mpajhu_sm11p25*littleh, \n",
    "               fmt='.', color='red', label=r'$M_{\\ast}>11.25$')\n",
    "__=ax.plot(rmids, wp4, color='red')\n",
    "\n",
    "legend = ax.legend()"
   ]
  },
  {
   "cell_type": "code",
   "execution_count": 21,
   "metadata": {},
   "outputs": [
    {
     "name": "stdout",
     "output_type": "stream",
     "text": [
      "['upid', 'mpeak', 'rvir', 'mvir', 'vx', 'vy', 'vz', 'uparent_dist', 'vmax', 'desc_id', 'halo_id', 'vmax_at_mpeak', 'y', 'x', 'z', 'dvmax_rank', 'orphan', 'last_snap', 'last_snap_halo_id', 'has_halotools_match', 'mpeak_scale', 'acc_scale', 'first_acc_scale', 'halfmass_scale', 'has_orphan_hlist_match', 'sm', 'vmax_at_mpeak_percentile', 'zpeak', 'halo_rvir_zpeak', 'logmstar_scatter']\n"
     ]
    }
   ],
   "source": [
    "print(subhalos.keys())"
   ]
  },
  {
   "cell_type": "code",
   "execution_count": null,
   "metadata": {},
   "outputs": [],
   "source": []
  },
  {
   "cell_type": "code",
   "execution_count": null,
   "metadata": {},
   "outputs": [],
   "source": []
  },
  {
   "cell_type": "code",
   "execution_count": null,
   "metadata": {},
   "outputs": [],
   "source": []
  },
  {
   "cell_type": "code",
   "execution_count": null,
   "metadata": {},
   "outputs": [],
   "source": []
  },
  {
   "cell_type": "code",
   "execution_count": null,
   "metadata": {},
   "outputs": [],
   "source": []
  },
  {
   "cell_type": "code",
   "execution_count": null,
   "metadata": {},
   "outputs": [],
   "source": []
  }
 ],
 "metadata": {
  "kernelspec": {
   "display_name": "Python [conda root]",
   "language": "python",
   "name": "conda-root-py"
  },
  "language_info": {
   "codemirror_mode": {
    "name": "ipython",
    "version": 2
   },
   "file_extension": ".py",
   "mimetype": "text/x-python",
   "name": "python",
   "nbconvert_exporter": "python",
   "pygments_lexer": "ipython2",
   "version": "2.7.14"
  }
 },
 "nbformat": 4,
 "nbformat_minor": 2
}
