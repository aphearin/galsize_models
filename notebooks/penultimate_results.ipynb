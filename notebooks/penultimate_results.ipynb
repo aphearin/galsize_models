{
 "cells": [
  {
   "cell_type": "code",
   "execution_count": 40,
   "metadata": {},
   "outputs": [],
   "source": [
    "%matplotlib inline\n",
    "from matplotlib import ticker \n"
   ]
  },
  {
   "cell_type": "markdown",
   "metadata": {},
   "source": [
    "### Load SDSS data and compute $P(R_{1/2} | M_{\\ast})$ "
   ]
  },
  {
   "cell_type": "code",
   "execution_count": 35,
   "metadata": {},
   "outputs": [],
   "source": [
    "from galsize_models.measurements import load_umachine_sdss_with_meert15\n",
    "full_sdss, behroozi_complete, good_profile_mask = load_umachine_sdss_with_meert15()\n",
    "\n",
    "sdss = full_sdss[behroozi_complete & good_profile_mask]\n",
    "\n",
    "from galsize_models.measurements import sdss_measurements as sdss_wp\n",
    "\n",
    "from slidingpercentile import python_sliding_rank\n",
    "x = sdss['logsm_bell03_meert15']\n",
    "y = sdss['r50_magr_kpc_meert15']\n",
    "window_length = 1001\n",
    "\n",
    "sliding_rank_orders = python_sliding_rank(x, y, window_length)\n",
    "size_percentile = (1. + sliding_rank_orders)/float(window_length+1)\n",
    "sdss['r50_percentile'] = size_percentile"
   ]
  },
  {
   "cell_type": "markdown",
   "metadata": {},
   "source": [
    "### Load baseline model and compute $R_{1/2}$"
   ]
  },
  {
   "cell_type": "code",
   "execution_count": 69,
   "metadata": {},
   "outputs": [],
   "source": [
    "from galsize_models.models import load_orphan_mock\n",
    "\n",
    "mock = load_orphan_mock()\n",
    "\n",
    "from galsize_models.models import component_size_vs_rhalo\n",
    "\n",
    "rvir = mock['rvir_zpeak']\n",
    "normalization_all = 0.0125\n",
    "alpha_all = 1.\n",
    "scatter_all = 0.2\n",
    "size_seed=14041\n",
    "\n",
    "mock['r50_nocorr'] = component_size_vs_rhalo(rvir, \n",
    "                        normalization_all, alpha_all, \n",
    "                        scatter=scatter_all)"
   ]
  },
  {
   "cell_type": "markdown",
   "metadata": {},
   "source": [
    "### Compute and plot one-point function"
   ]
  },
  {
   "cell_type": "code",
   "execution_count": 75,
   "metadata": {},
   "outputs": [
    {
     "data": {
      "image/png": "[encoded data removed]",
      "text/plain": [
       "<matplotlib.figure.Figure at 0x11cabdf10>"
      ]
     },
     "metadata": {},
     "output_type": "display_data"
    }
   ],
   "source": [
    "from scipy.special import erf, erfinv\n",
    "def _percentile_from_z_score(z_score):\n",
    "    return 0.5*(1 + erf(z_score/np.sqrt(2)))\n",
    "low_percentile_1sigma, high_percentile_1sigma = _percentile_from_z_score(-1), _percentile_from_z_score(1)\n",
    "low_percentile_3sigma, high_percentile_3sigma = _percentile_from_z_score(-3), _percentile_from_z_score(3)\n",
    "\n",
    "logsm_table = np.linspace(9, 12.25, 35)\n",
    "dlogsm = 0.05\n",
    "\n",
    "r50_table_median = np.zeros_like(logsm_table)\n",
    "r50_table_1sigma_low = np.zeros_like(logsm_table)\n",
    "r50_table_1sigma_high = np.zeros_like(logsm_table)\n",
    "r50_table_3sigma_low = np.zeros_like(logsm_table)\n",
    "r50_table_3sigma_high = np.zeros_like(logsm_table)\n",
    "\n",
    "for i, logsm in enumerate(logsm_table):\n",
    "    mask = np.abs(sdss['logsm_bell03_meert15'] - logsm) < dlogsm\n",
    "    assert np.count_nonzero(mask) > 100, logsm\n",
    "    sample_r50 = sdss['r50_magr_kpc_meert15'][mask]\n",
    "    sample_r50_percentile = sdss['r50_percentile'][mask]\n",
    "    \n",
    "    mask_median = np.abs(sample_r50_percentile - 0.5) < 0.01\n",
    "    r50_table_median[i] = np.median(sample_r50[mask_median])\n",
    "    \n",
    "    mask_p50 = (sample_r50_percentile > 0.25) & (sample_r50_percentile < 0.75)\n",
    "    r50_table_1sigma_low[i] = np.min(sample_r50[mask_p50])\n",
    "    r50_table_1sigma_high[i] = np.max(sample_r50[mask_p50])\n",
    "\n",
    "    mask_p90 = (sample_r50_percentile > 0.05) & (sample_r50_percentile < 0.95)\n",
    "    r50_table_3sigma_low[i] = np.min(sample_r50[mask_p90])\n",
    "    r50_table_3sigma_high[i] = np.max(sample_r50[mask_p90])\n",
    "\n",
    "from scipy.stats import binned_statistic\n",
    "mock_r50_median, __, __ = binned_statistic(\n",
    "        np.log10(mock['mstar'][~mock['orphan']]), mock['r50_nocorr'][~mock['orphan']], bins=logsm_table)\n",
    "logsm_mids = 0.5*(logsm_table[:-1] + logsm_table[1:])\n",
    "\n",
    "fig, ax = plt.subplots(1, 1)\n",
    "__=ax.loglog()\n",
    "\n",
    "xmin, xmax = 10**9.5, 10**12\n",
    "ymin, ymax = 0.5, 30\n",
    "_xlabel = r'$M_{\\ast}$ $[M_{\\odot}]$'\n",
    "_ylabel = r'$\\langle R_{1/2} \\rangle$ $[{\\rm kpc}]$'\n",
    "xlim = ax.set_xlim(xmin, xmax)\n",
    "ylim = ax.set_ylim(ymin, ymax)\n",
    "__=ax.get_yaxis().set_major_formatter(ticker.ScalarFormatter())\n",
    "__=ax.get_yaxis().set_minor_formatter(ticker.NullFormatter())\n",
    "__=ax.set_yticks((1, 3, 10, 30))\n",
    "\n",
    "ylabel=ax.set_ylabel(_ylabel)\n",
    "xlabel=ax.set_xlabel(_xlabel)\n",
    "\n",
    "__=ax.plot(10**logsm_table, r50_table_median, color='k', label='SDSS')\n",
    "__=ax.plot(10**logsm_mids, mock_r50_median, color='blue', \n",
    "           label=r'model: $R_{1/2}=0.0125R_{\\rm vir}$')\n",
    "\n",
    "y1, y2 = r50_table_3sigma_low, r50_table_3sigma_high\n",
    "__=ax.fill_between(10**logsm_table, y1, y2, facecolor='lightgray', alpha=0.8)\n",
    "\n",
    "y1, y2 = r50_table_1sigma_low, r50_table_1sigma_high\n",
    "__=ax.fill_between(10**logsm_table, y1, y2, facecolor='gray', alpha=0.8)\n",
    "\n",
    "\n",
    "leg = ax.legend()\n",
    "\n",
    "figname = 'rhalf_vs_mstar_fiducial_model.pdf'\n",
    "fig.savefig(figname, bbox_extra_artists=[xlabel, ylabel], bbox_inches='tight')\n"
   ]
  },
  {
   "cell_type": "markdown",
   "metadata": {},
   "source": [
    "## Generate predictions for several alternative models"
   ]
  },
  {
   "cell_type": "code",
   "execution_count": 94,
   "metadata": {},
   "outputs": [],
   "source": [
    "from galsize_models.models import component_size_vs_rhalo\n",
    "\n",
    "rvir = mock['rvir_zpeak']\n",
    "normalization_all = 0.0125\n",
    "alpha_all = 1.\n",
    "scatter_all = 0.2\n",
    "size_seed=14041\n",
    "\n",
    "mock['r50_maxcorr'] = component_size_vs_rhalo(rvir, \n",
    "                        normalization_all, alpha_all, \n",
    "                        scatter=scatter_all,\n",
    "                        uran=1-mock['vmax_at_mpeak_percentile'])\n",
    "\n",
    "mock['r50_midcorr'] = component_size_vs_rhalo(rvir, \n",
    "                        normalization_all, alpha_all, \n",
    "                        scatter=scatter_all,\n",
    "                        uran=1-mock['noisy_vmax_at_mpeak_percentile'])\n",
    "\n",
    "loc = np.interp(np.log10(mock['mstar']),logsm_table, np.log10(r50_table_median))\n",
    "mock['r50_mstar'] = 10**np.random.normal(loc=loc, scale=0.2)"
   ]
  },
  {
   "cell_type": "code",
   "execution_count": null,
   "metadata": {},
   "outputs": [],
   "source": []
  },
  {
   "cell_type": "code",
   "execution_count": 113,
   "metadata": {},
   "outputs": [],
   "source": [
    "mock['r50'] = mock['r50_mstar']\n",
    "median_rhalf_mock, __, __ = binned_statistic(\n",
    "        np.log10(mock['mstar'][~mock['orphan']]), mock['r50'][~mock['orphan']], \n",
    "            bins=logsm_bins)\n",
    "\n",
    "mock['r50_median'] = np.interp(np.log10(mock['mstar']), \n",
    "                              logsm_mids, median_rhalf_mock)\n",
    "\n",
    "result = single_component_ratios(mock[~mock['orphan']], num_gals_max=int(1e5))\n",
    "rp_mids, fracdiff_sm9p75_mock_mstar_no_orphans, fracdiff_sm10p25_mock_mstar_no_orphans, \\\n",
    "fracdiff_sm10p75_mock_mstar_no_orphans, fracdiff_sm11p25_mock_mstar_no_orphans = result\n"
   ]
  },
  {
   "cell_type": "code",
   "execution_count": 100,
   "metadata": {},
   "outputs": [],
   "source": [
    "from galsize_models.measurements import single_component_ratios\n",
    "logsm_bins = np.linspace(9, 12.25, 35)\n",
    "logsm_mids = 0.5*(logsm_bins[:-1] + logsm_bins[1:])\n",
    "\n",
    "mock['r50'] = mock['r50_nocorr']\n",
    "median_rhalf_mock, __, __ = binned_statistic(\n",
    "        np.log10(mock['mstar'][~mock['orphan']]), mock['r50'][~mock['orphan']], \n",
    "            bins=logsm_bins)\n",
    "\n",
    "mock['r50_median'] = np.interp(np.log10(mock['mstar']), \n",
    "                              logsm_mids, median_rhalf_mock)\n",
    "\n",
    "result = single_component_ratios(mock[~mock['orphan']], num_gals_max=int(1e5))\n",
    "rp_mids, fracdiff_sm9p75_mock_nocorr_no_orphans, fracdiff_sm10p25_mock_nocorr_no_orphans, \\\n",
    "fracdiff_sm10p75_mock_nocorr_no_orphans, fracdiff_sm11p25_mock_nocorr_no_orphans = result\n"
   ]
  },
  {
   "cell_type": "code",
   "execution_count": 101,
   "metadata": {},
   "outputs": [],
   "source": [
    "mock['r50'] = mock['r50_maxcorr']\n",
    "median_rhalf_mock, __, __ = binned_statistic(\n",
    "        np.log10(mock['mstar'][~mock['orphan']]), mock['r50'][~mock['orphan']], \n",
    "            bins=logsm_bins)\n",
    "\n",
    "mock['r50_median'] = np.interp(np.log10(mock['mstar']), \n",
    "                              logsm_mids, median_rhalf_mock)\n",
    "\n",
    "result = single_component_ratios(mock[~mock['orphan']], num_gals_max=int(1e5))\n",
    "rp_mids, fracdiff_sm9p75_mock_maxcorr_no_orphans, fracdiff_sm10p25_mock_maxcorr_no_orphans, \\\n",
    "fracdiff_sm10p75_mock_maxcorr_no_orphans, fracdiff_sm11p25_mock_maxcorr_no_orphans = result\n"
   ]
  },
  {
   "cell_type": "code",
   "execution_count": null,
   "metadata": {},
   "outputs": [],
   "source": [
    "fig, ((ax1, ax2), (ax3, ax4)) = plt.subplots(2, 2, sharex=True, sharey=True, \n",
    "                                             figsize=(8, 8))\n",
    "\n",
    "axes = ax1, ax2, ax3, ax4\n",
    "\n",
    "for ax in axes:\n",
    "    ylim = ax.set_ylim(-1.55, 0.75)\n",
    "    xlim = ax.set_xlim(0.1, 20)\n",
    "    xscale = ax.set_xscale('log')\n",
    "    __=ax.plot(np.logspace(-2, 2, 100), np.zeros(100), '--', color='gray')\n",
    "\n",
    "    \n",
    "__=ax4.errorbar(sdss_wp.rp, sdss_wp.fracdiff_sm11p25_smbell, sdss_wp.fracdiff_sm11p25_smbell_err, \n",
    "                fmt='.', color='red')\n",
    "__=ax3.errorbar(sdss_wp.rp, sdss_wp.fracdiff_sm10p75_smbell, sdss_wp.fracdiff_sm10p75_smbell_err, \n",
    "                fmt='.', color='orange')\n",
    "__=ax2.errorbar(sdss_wp.rp, sdss_wp.fracdiff_sm10p25_smbell, sdss_wp.fracdiff_sm10p25_smbell_err, \n",
    "                fmt='.', color='green')\n",
    "__=ax1.errorbar(sdss_wp.rp, sdss_wp.fracdiff_sm9p75_smbell, sdss_wp.fracdiff_sm9p75_smbell_err, \n",
    "                fmt='.', color='blue', label='SDSS')\n",
    "\n",
    "#  Maximum correlation, no orphans\n",
    "__=ax4.plot(rp_mids[3:], fracdiff_sm11p25_mock_maxcorr_no_orphans[3:], color='red')\n",
    "__=ax3.plot(rp_mids, fracdiff_sm10p75_mock_maxcorr_no_orphans, color='orange')\n",
    "__=ax2.plot(rp_mids, fracdiff_sm10p25_mock_maxcorr_no_orphans, color='green', \n",
    "           label='co-evolution model')\n",
    "__=ax1.plot(rp_mids, fracdiff_sm9p75_mock_maxcorr_no_orphans, color='blue')\n",
    "\n",
    "\n",
    "#  zero correlation, no orphans\n",
    "__=ax4.plot(rp_mids[3:], fracdiff_sm11p25_mock_nocorr_no_orphans[3:], '--', color='red')\n",
    "__=ax3.plot(rp_mids, fracdiff_sm10p75_mock_nocorr_no_orphans, '--', color='orange', label=r'$R_{\\rm vir}-$only model')\n",
    "__=ax2.plot(rp_mids, fracdiff_sm10p25_mock_nocorr_no_orphans, '--', color='green')\n",
    "__=ax1.plot(rp_mids, fracdiff_sm9p75_mock_nocorr_no_orphans, '--', color='blue')\n",
    "\n",
    "#  mstar model, no orphans\n",
    "__=ax4.plot(rp_mids[3:], fracdiff_sm11p25_mock_mstar_no_orphans[3:], ':', color='red', \n",
    "           label=r'$M_{\\ast}-$only model')\n",
    "__=ax3.plot(rp_mids, fracdiff_sm10p75_mock_mstar_no_orphans, ':', color='orange')\n",
    "__=ax2.plot(rp_mids, fracdiff_sm10p25_mock_mstar_no_orphans, ':', color='green')\n",
    "__=ax1.plot(rp_mids, fracdiff_sm9p75_mock_mstar_no_orphans, ':', color='blue')\n",
    "\n",
    "__=ax4.set_title(r'$M_{\\ast} > 10^{11.25}M_{\\odot}$')\n",
    "__=ax3.set_title(r'$M_{\\ast} > 10^{10.75}M_{\\odot}$')\n",
    "__=ax2.set_title(r'$M_{\\ast} > 10^{10.25}M_{\\odot}$')\n",
    "__=ax1.set_title(r'$M_{\\ast} > 10^{9.75}M_{\\odot}$')\n",
    "\n",
    "ylabel1 = ax1.set_ylabel(r'$(w_{\\rm p}^{\\rm large} - w_{\\rm p}^{\\rm small}) / w_{\\rm p}^{\\rm all}$')\n",
    "ylabel3 = ax3.set_ylabel(r'$(w_{\\rm p}^{\\rm large} - w_{\\rm p}^{\\rm small}) / w_{\\rm p}^{\\rm all}$')\n",
    "xlabel3 = ax3.set_xlabel(r'$R_{\\rm p}$  $[{\\rm Mpc}]$')\n",
    "xlabel4 = ax4.set_xlabel(r'$R_{\\rm p}$  $[{\\rm Mpc}]$')\n",
    "\n",
    "leg1 = ax1.legend()\n",
    "leg2 = ax2.legend()\n",
    "leg3 = ax3.legend()\n",
    "leg4 = ax4.legend()\n",
    "\n",
    "\n",
    "figname = 'penultimate_clustering_ratios_no_orphans.pdf'\n",
    "fig.savefig(figname, bbox_extra_artists=[xlabel3, ylabel3], bbox_inches='tight')\n"
   ]
  },
  {
   "cell_type": "code",
   "execution_count": 104,
   "metadata": {},
   "outputs": [],
   "source": []
  },
  {
   "cell_type": "code",
   "execution_count": null,
   "metadata": {},
   "outputs": [],
   "source": []
  }
 ],
 "metadata": {
  "kernelspec": {
   "display_name": "Python [conda root]",
   "language": "python",
   "name": "conda-root-py"
  },
  "language_info": {
   "codemirror_mode": {
    "name": "ipython",
    "version": 2
   },
   "file_extension": ".py",
   "mimetype": "text/x-python",
   "name": "python",
   "nbconvert_exporter": "python",
   "pygments_lexer": "ipython2",
   "version": "2.7.13"
  }
 },
 "nbformat": 4,
 "nbformat_minor": 2
}
