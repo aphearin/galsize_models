{
 "cells": [
  {
   "cell_type": "code",
   "execution_count": 1,
   "metadata": {
    "collapsed": true
   },
   "outputs": [],
   "source": [
    "%matplotlib inline"
   ]
  },
  {
   "cell_type": "code",
   "execution_count": 3,
   "metadata": {},
   "outputs": [
    {
     "name": "stdout",
     "output_type": "stream",
     "text": [
      "Number of M*-complete SDSS galaxies with good profile measurements = 229889\n",
      "['ra', 'dec', 'z', 'bptclass', 'sm', 'sfr', 'specsfr', 'sm_fib', 'sfr_fib', 'specsfr_fib', 'withinr', 'eligiblehost', 'sm_complete', 'eligiblehost2', 'd4000', 'd4000_sub', 'd4000_n', 'd4000_n_sub', 'has_match', 'logM_mendel13', 'logMB_mendel13', 'logMD_mendel13', 'pps_mendel13', 'type_mendel13', 'deltaBD_mendel13', 'dr7_objID', 'has_meert15_match', 'r50_magr_kpc_meert15', 'Magr_tot_meert15', 'Magr_bulge_meert15', 'Magr_disk_meert15', 'gr_bulge_meert15', 'gr_disk_meert15', 'morph_type_T_meert15', 'gr_kcorr_meert15', 'bulge_to_total_rband_meert15', 'logsm_bell03_meert15', 'ssfr']\n"
     ]
    }
   ],
   "source": [
    "from galsize_models.measurements import load_umachine_sdss_with_meert15\n",
    "full_sdss, behroozi_complete, good_profile_mask = load_umachine_sdss_with_meert15()\n",
    "\n",
    "sdss = full_sdss[behroozi_complete & good_profile_mask]\n",
    "print(\"Number of M*-complete SDSS galaxies with good profile measurements = {0}\".format(len(sdss)))\n",
    "\n",
    "print(sdss.keys())"
   ]
  },
  {
   "cell_type": "code",
   "execution_count": 4,
   "metadata": {
    "collapsed": true
   },
   "outputs": [],
   "source": [
    "from slidingpercentile import python_sliding_rank\n",
    "\n",
    "x = sdss['logsm_bell03_meert15']\n",
    "y = sdss['r50_magr_kpc_meert15']\n",
    "window_length = 201\n",
    "\n",
    "sliding_rank_orders = python_sliding_rank(x, y, window_length)\n",
    "size_percentile = (1. + sliding_rank_orders)/float(window_length+1)\n",
    "sdss['r50_magr_kpc_meert15_percentile'] = size_percentile"
   ]
  },
  {
   "cell_type": "code",
   "execution_count": 11,
   "metadata": {
    "collapsed": true
   },
   "outputs": [],
   "source": [
    "from halotools.sim_manager import CachedHaloCatalog\n",
    "halocat = CachedHaloCatalog(simname='bolplanck', redshift=0)\n",
    "nhalos = len(halocat.halo_table)\n",
    "\n",
    "from halotools.empirical_models import Moster13SmHm\n",
    "model = Moster13SmHm()\n"
   ]
  },
  {
   "cell_type": "code",
   "execution_count": 15,
   "metadata": {},
   "outputs": [],
   "source": [
    "zpeak = 1./halocat.halo_table['halo_scale_factor_mpeak'] - 1.\n",
    "\n",
    "mstar_unity_h = model.mc_stellar_mass(prim_haloprop=halocat.halo_table['halo_mpeak'],\n",
    "                                     redshift=zpeak)\n",
    "mstar_mpeak = mstar_unity_h/halocat.cosmology.h/halocat.cosmology.h\n",
    "\n",
    "from astropy.table import Table\n",
    "\n",
    "mock = Table()\n",
    "\n",
    "keys_from_halo_catalog = ('halo_upid', 'halo_mpeak', 'halo_scale_factor_mpeak', \n",
    "                         'halo_x', 'halo_y', 'halo_z', \n",
    "                         'halo_vx', 'halo_vy', 'halo_vz', \n",
    "                          'halo_mvir_host_halo', 'halo_spin')\n",
    "\n",
    "mstar_mask = mstar_mpeak > 10**9\n",
    "for key in keys_from_halo_catalog:\n",
    "    mock[key[5:]] = halocat.halo_table[key][mstar_mask]\n",
    "mock['zpeak'] = zpeak[mstar_mask]\n",
    "\n",
    "mock['mstar_mpeak'] = mstar_mpeak[mstar_mask]\n",
    "\n",
    "logsm_mpajhu_bins = np.linspace(9.5, 11.75, 15)\n",
    "logsm_mpajhu_table = 0.5*(logsm_mpajhu_bins[:-1] + logsm_mpajhu_bins[1:])\n",
    "\n",
    "from scipy.stats import binned_statistic\n",
    "\n",
    "logsm_diff = sdss['logsm_bell03_meert15'] - sdss['sm']\n",
    "logsm_correction_table, __, __ = binned_statistic(sdss['sm'], logsm_diff, bins=logsm_mpajhu_bins, \n",
    "                                           statistic='median')\n",
    "\n",
    "from halotools.empirical_models import halo_mass_to_halo_radius\n",
    "\n",
    "rvir_peak_comoving_unity_h = halo_mass_to_halo_radius(mock['mpeak'], \n",
    "                                halocat.cosmology, mock['zpeak'], 'vir')\n",
    "rvir_peak_physical = rvir_peak_comoving_unity_h*mock['scale_factor_mpeak']/halocat.cosmology.h\n",
    "mock['rvir_halo_zpeak'] = rvir_peak_physical*1000."
   ]
  },
  {
   "cell_type": "code",
   "execution_count": 17,
   "metadata": {},
   "outputs": [],
   "source": [
    "from galsize_models.models.bulge_disk_double_power_law import component_size_vs_rhalo\n",
    "\n",
    "rvir_halo_kpc = mock['rvir_halo_zpeak']\n",
    "normalization_all = 0.008\n",
    "alpha_all = 1.\n",
    "scatter_all = 0.2\n",
    "size_seed=14041\n",
    "\n",
    "mock['r50_magr_kpc_meert15'] = component_size_vs_rhalo(rvir_halo_kpc, \n",
    "                        normalization_all, alpha_all, \n",
    "                        scatter=scatter_all, seed=size_seed)"
   ]
  },
  {
   "cell_type": "code",
   "execution_count": 20,
   "metadata": {},
   "outputs": [
    {
     "data": {
      "text/plain": [
       "0.24275957650226432"
      ]
     },
     "execution_count": 20,
     "metadata": {},
     "output_type": "execute_result"
    }
   ],
   "source": [
    "mask = (mock['mstar_mpeak'] > 1e10) & (mock['mstar_mpeak'] < 1.2e10)\n",
    "np.count_nonzero(mask)\n",
    "np.std(np.log10(mock['r50_magr_kpc_meert15'][mask]))"
   ]
  },
  {
   "cell_type": "code",
   "execution_count": 28,
   "metadata": {},
   "outputs": [
    {
     "data": {
      "text/plain": [
       "(0.20277884938264953, 10.666828137289055)"
      ]
     },
     "execution_count": 28,
     "metadata": {},
     "output_type": "execute_result"
    }
   ],
   "source": [
    "mask = (mock['mpeak'] > 1e12) & (mock['mpeak'] < 1.2e12)\n",
    "\n",
    "np.std(np.log10(mock['mstar_mpeak'][mask])), np.median(np.log10(mock['mstar_mpeak'][mask]))"
   ]
  },
  {
   "cell_type": "code",
   "execution_count": null,
   "metadata": {
    "collapsed": true
   },
   "outputs": [],
   "source": []
  },
  {
   "cell_type": "markdown",
   "metadata": {
    "collapsed": true
   },
   "source": [
    "## Check $\\sigma(R_{1/2})$ reduction when using same seed for $M_{\\ast}$ as for $R_{1/2}$"
   ]
  },
  {
   "cell_type": "code",
   "execution_count": 61,
   "metadata": {},
   "outputs": [],
   "source": [
    "mean_mstar_unity_h = model.mean_stellar_mass(prim_haloprop=halocat.halo_table['halo_mpeak'],\n",
    "                                     redshift=zpeak)\n",
    "mean_mstar_mpeak = mean_mstar_unity_h/halocat.cosmology.h/halocat.cosmology.h\n",
    "\n",
    "mean_logmstar_mpeak = np.log10(mean_mstar_mpeak)\n",
    "\n",
    "uran = np.random.rand(len(mean_logmstar_mpeak))\n",
    "\n",
    "from scipy.stats import norm\n",
    "\n",
    "mc_logmstar_mpeak = norm.isf(1-uran, loc=mean_logmstar_mpeak, \n",
    "                             scale=model.param_dict[u'scatter_model_param1'])\n",
    "mc_mstar_mpeak = 10**mc_logmstar_mpeak\n",
    "\n",
    "mstar_mask2 = mc_mstar_mpeak > 10**9\n",
    "\n",
    "mock2 = Table()\n",
    "\n",
    "keys_from_halo_catalog = ('halo_upid', 'halo_mpeak', 'halo_scale_factor_mpeak', \n",
    "                         'halo_x', 'halo_y', 'halo_z', \n",
    "                         'halo_vx', 'halo_vy', 'halo_vz', \n",
    "                          'halo_mvir_host_halo', 'halo_spin')\n",
    "\n",
    "mstar_mask = mstar_mpeak > 10**9\n",
    "for key in keys_from_halo_catalog:\n",
    "    mock2[key[5:]] = halocat.halo_table[key][mstar_mask2]\n",
    "\n",
    "mock2['mstar_mpeak'] = mc_mstar_mpeak[mstar_mask2]\n",
    "mock2['uran'] = uran[mstar_mask2]\n",
    "zpeak = 1./halocat.halo_table['halo_scale_factor_mpeak'] - 1.\n",
    "mock2['zpeak'] = zpeak[mstar_mask2]\n"
   ]
  },
  {
   "cell_type": "code",
   "execution_count": 62,
   "metadata": {},
   "outputs": [
    {
     "data": {
      "text/plain": [
       "(0.20409148593002457, 10.667291997982419)"
      ]
     },
     "execution_count": 62,
     "metadata": {},
     "output_type": "execute_result"
    }
   ],
   "source": [
    "mask = (mock2['mpeak'] > 1e12) & (mock2['mpeak'] < 1.2e12)\n",
    "\n",
    "np.std(np.log10(mock2['mstar_mpeak'][mask])), np.median(np.log10(mock2['mstar_mpeak'][mask]))"
   ]
  },
  {
   "cell_type": "code",
   "execution_count": 71,
   "metadata": {},
   "outputs": [],
   "source": [
    "from halotools.empirical_models import halo_mass_to_halo_radius\n",
    "\n",
    "rvir_peak_comoving_unity_h = halo_mass_to_halo_radius(mock2['mpeak'], \n",
    "                                halocat.cosmology, mock2['zpeak'], 'vir')\n",
    "rvir_peak_physical = rvir_peak_comoving_unity_h*mock2['scale_factor_mpeak']/halocat.cosmology.h\n",
    "mock2['rvir_halo_zpeak'] = rvir_peak_physical*1000.\n",
    "\n",
    "rvir_halo_kpc = mock2['rvir_halo_zpeak']\n",
    "normalization_all = 0.008\n",
    "alpha_all = 1.\n",
    "scatter_all = 0.25\n",
    "size_seed=14041\n",
    "\n",
    "mean_size = normalization_all*(rvir_halo_kpc)**alpha_all\n",
    "log_mean_size = np.log10(mean_size)\n",
    "\n",
    "mc_logrhalf2_mpeak = norm.isf(1-mock2['uran'], loc=log_mean_size, \n",
    "                             scale=scatter_all)\n",
    "mock2['r50_magr_kpc_meert15_uran'] = 10**mc_logrhalf2_mpeak\n",
    "\n",
    "mock2['r50_magr_kpc_meert15'] = component_size_vs_rhalo(rvir_halo_kpc, \n",
    "                        normalization_all, alpha_all, \n",
    "                        scatter=scatter_all, seed=size_seed)"
   ]
  },
  {
   "cell_type": "code",
   "execution_count": 72,
   "metadata": {},
   "outputs": [
    {
     "name": "stdout",
     "output_type": "stream",
     "text": [
      "(0.28545019830768498, 0.23931561546780455)\n",
      "(10.039381910107195, 10.039381910107195)\n"
     ]
    }
   ],
   "source": [
    "mask = (mock2['mstar_mpeak'] > 1e10) & (mock2['mstar_mpeak'] < 1.2e10)\n",
    "\n",
    "print(np.std(np.log10(mock2['r50_magr_kpc_meert15'][mask])), np.std(np.log10(mock2['r50_magr_kpc_meert15_uran'][mask])))\n",
    "\n",
    "print(np.median(np.log10(mock2['mstar_mpeak'][mask])), np.median(np.log10(mock2['mstar_mpeak'][mask])))"
   ]
  },
  {
   "cell_type": "code",
   "execution_count": null,
   "metadata": {
    "collapsed": true
   },
   "outputs": [],
   "source": [
    "from matplotlib import ticker \n",
    "\n",
    "fig, ax = plt.subplots(1, 1)\n",
    "\n",
    "__=ax.loglog()\n",
    "\n",
    "__=ax.scatter(10**sdss['logsm_bell03_meert15'][::20], \n",
    "              sdss['r50_magr_kpc_meert15'][::20], \n",
    "             s=1, color='gray')\n",
    "\n",
    "__=ax.plot(10**logsm_mids, median_rhalf_all_mock, color='k', lw=2)\n",
    "\n",
    "\n",
    "xmin, xmax = 10**9.5, 10**12\n",
    "ymin, ymax = 0.5, 30\n",
    "xlabel = r'$M_{\\ast}$ $[M_{\\odot}]$'\n",
    "ylabel = r'$\\langle R_{1/2} \\rangle$ $[{\\rm kpc}]$'\n",
    "xlim = ax.set_xlim(xmin, xmax)\n",
    "ylim = ax.set_ylim(ymin, ymax)\n",
    "__=ax.get_yaxis().set_major_formatter(ticker.ScalarFormatter())\n",
    "__=ax.get_yaxis().set_minor_formatter(ticker.NullFormatter())\n",
    "__=ax.set_yticks((1, 3, 10, 30))\n",
    "\n",
    "__=ax.set_ylabel(ylabel)\n",
    "__=ax.set_xlabel(xlabel)\n",
    "\n",
    "title = ax.set_title(r'all galaxies')\n"
   ]
  }
 ],
 "metadata": {
  "kernelspec": {
   "display_name": "Python [conda root]",
   "language": "python",
   "name": "conda-root-py"
  },
  "language_info": {
   "codemirror_mode": {
    "name": "ipython",
    "version": 2
   },
   "file_extension": ".py",
   "mimetype": "text/x-python",
   "name": "python",
   "nbconvert_exporter": "python",
   "pygments_lexer": "ipython2",
   "version": "2.7.13"
  }
 },
 "nbformat": 4,
 "nbformat_minor": 2
}
