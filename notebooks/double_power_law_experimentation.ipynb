{
 "cells": [
  {
   "cell_type": "code",
   "execution_count": 1,
   "metadata": {
    "collapsed": true
   },
   "outputs": [],
   "source": [
    "%matplotlib inline"
   ]
  },
  {
   "cell_type": "code",
   "execution_count": 2,
   "metadata": {},
   "outputs": [
    {
     "name": "stdout",
     "output_type": "stream",
     "text": [
      "['ra', 'dec', 'z', 'bptclass', 'sm', 'sfr', 'specsfr', 'sm_fib', 'sfr_fib', 'specsfr_fib', 'withinr', 'eligiblehost', 'sm_complete', 'eligiblehost2', 'd4000', 'd4000_sub', 'd4000_n', 'd4000_n_sub', 'has_match', 'logM_mendel13', 'logMB_mendel13', 'logMD_mendel13', 'pps_mendel13', 'type_mendel13', 'deltaBD_mendel13', 'dr7_objID', 'has_meert15_match', 'r50_magr_kpc_meert15', 'Magr_tot_meert15', 'Magr_bulge_meert15', 'Magr_disk_meert15', 'gr_bulge_meert15', 'gr_disk_meert15', 'morph_type_T_meert15', 'gr_kcorr_meert15', 'bulge_to_total_rband_meert15', 'ssfr']\n",
      "\n",
      "Number of galaxies in complete sample = 229889\n"
     ]
    }
   ],
   "source": [
    "from galsize_models.measurements import load_umachine_sdss_with_meert15\n",
    "full_sdss, behroozi_complete = load_umachine_sdss_with_meert15()\n",
    "no_data_mask = np.isnan(full_sdss['Magr_tot_meert15'])\n",
    "\n",
    "mask = ~no_data_mask & behroozi_complete\n",
    "sdss = full_sdss[mask]\n",
    "print(sdss.keys())\n",
    "print(\"\\nNumber of galaxies in complete sample = {0}\".format(len(sdss)))"
   ]
  },
  {
   "cell_type": "code",
   "execution_count": 3,
   "metadata": {
    "collapsed": true
   },
   "outputs": [],
   "source": [
    "from galsize_models.models.kravtsov13 import halo_radius_vs_stellar_mass\n",
    "sdss['rvir_halo_kpc'] = halo_radius_vs_stellar_mass(10**sdss['sm'])"
   ]
  },
  {
   "cell_type": "code",
   "execution_count": null,
   "metadata": {},
   "outputs": [
    {
     "name": "stdout",
     "output_type": "stream",
     "text": [
      "  data  alpha norm\n",
      "------- ----- ----\n",
      "   SDSS  0.65 0.08\n",
      "Model 1  0.65 0.08\n",
      "Model 2   0.5  0.2\n"
     ]
    }
   ],
   "source": [
    "from galsize_models.models import component_size_vs_rhalo, galaxy_size_vs_rhalo\n",
    "scatter = 0.2\n",
    "norm_bulge, norm_disk = 0.08, 0.08\n",
    "alpha_bulge, alpha_disk = 0.65, 0.65\n",
    "size_model1 = galaxy_size_vs_rhalo(sdss['rvir_halo_kpc'], sdss['bulge_to_total_rband_meert15'], \n",
    "                                   norm_bulge, norm_disk, alpha_bulge, alpha_disk, \n",
    "                                   scatter=scatter)\n",
    "\n",
    "scatter = 0.15\n",
    "norm_bulge, norm_disk = 0.02, 0.1\n",
    "alpha_bulge, alpha_disk = 0.7, 0.7\n",
    "size_model2 = galaxy_size_vs_rhalo(sdss['rvir_halo_kpc'], sdss['bulge_to_total_rband_meert15'], \n",
    "                                   norm_bulge, norm_disk, alpha_bulge, alpha_disk, \n",
    "                                   scatter=scatter)\n",
    "\n",
    "\n",
    "from galsize_models.measurements.rhalf_rvir_power_law_fit import rvir_rhalf_power_law_index_and_normalization as c1_c0_fit\n",
    "\n",
    "alpha_true_all, norm_true_all = c1_c0_fit(sdss['r50_magr_kpc_meert15'], sdss['rvir_halo_kpc'])\n",
    "alpha_model1_all, norm_model1_all = c1_c0_fit(size_model1, sdss['rvir_halo_kpc'])\n",
    "alpha_model2_all, norm_model2_all = c1_c0_fit(size_model2, sdss['rvir_halo_kpc'])\n",
    "\n",
    "from astropy.table import Table\n",
    "t = Table()\n",
    "t['data'] = ['SDSS', 'Model 1', 'Model 2']\n",
    "t['alpha'] = [round(alpha_true_all, 2), round(alpha_model1_all, 2), round(alpha_model2_all, 2)]\n",
    "t['norm'] = [round(norm_true_all, 2), round(norm_model1_all, 2), round(norm_model2_all, 2)]\n",
    "print(t)"
   ]
  },
  {
   "cell_type": "code",
   "execution_count": null,
   "metadata": {},
   "outputs": [],
   "source": []
  },
  {
   "cell_type": "code",
   "execution_count": null,
   "metadata": {},
   "outputs": [],
   "source": [
    "fig, ax = plt.subplots(1, 1, figsize=(8, 8))\n",
    "__=ax.loglog()\n",
    "\n",
    "nskip = 20\n",
    "__=ax.scatter(sdss['rvir_halo_kpc'][::nskip], \n",
    "              sdss['r50_magr_kpc_meert15'][::nskip], \n",
    "              color='gray', s=1, label='')\n",
    "\n",
    "__=ax.scatter(sdss['rvir_halo_kpc'][::nskip], \n",
    "              size_model1[::nskip], \n",
    "              color='k', s=1, label='')\n",
    "\n",
    "__=ax.scatter(sdss['rvir_halo_kpc'][::nskip], \n",
    "              size_model2[::nskip], \n",
    "              color='red', s=1, label='')\n",
    "\n",
    "rhalo_abscissa = np.linspace(10, 25000, 200)\n",
    "__=ax.plot(rhalo_abscissa, norm_true_all*rhalo_abscissa**alpha_true_all, \n",
    "          color='k', label='all galaxies')\n",
    "\n",
    "# __=ax.plot(0.01*rhalo_abscissa, norm_sf*rhalo_abscissa**alpha_sf, \n",
    "#           color='blue', label='star-forming galaxies')\n",
    "# __=ax.plot(0.01*rhalo_abscissa, norm_gv*rhalo_abscissa**alpha_gv, \n",
    "#           color='green', label='green valley galaxies')\n",
    "# __=ax.plot(0.01*rhalo_abscissa, norm_q*rhalo_abscissa**alpha_q, \n",
    "#           color='red', label='quenched galaxies')\n",
    "\n",
    "\n",
    "xlim = ax.set_xlim(50, 3000)\n",
    "ylim = ax.set_ylim(0.5, 30)\n",
    "__=ax.set_xticks((50, 100, 300, 500, 1000, 2000, 3000))\n",
    "__=ax.set_yticks((1, 10, 30))\n",
    "from matplotlib import ticker\n",
    "__=ax.get_xaxis().set_major_formatter(ticker.ScalarFormatter())\n",
    "__=ax.get_xaxis().set_minor_formatter(ticker.NullFormatter())\n",
    "__=ax.get_yaxis().set_major_formatter(ticker.ScalarFormatter())\n",
    "__=ax.get_yaxis().set_minor_formatter(ticker.NullFormatter())\n",
    "\n",
    "xlabel = ax.set_xlabel(r'$R_{\\rm vir}$ [kpc]')\n",
    "ylabel = ax.set_ylabel(r'$R_{1/2}$ [kpc]')\n",
    "title = ax.set_title('galaxy size vs. halo radius')\n",
    "# legend = ax.legend()\n"
   ]
  },
  {
   "cell_type": "code",
   "execution_count": null,
   "metadata": {
    "collapsed": true
   },
   "outputs": [],
   "source": []
  },
  {
   "cell_type": "code",
   "execution_count": null,
   "metadata": {
    "collapsed": true
   },
   "outputs": [],
   "source": []
  },
  {
   "cell_type": "code",
   "execution_count": null,
   "metadata": {
    "collapsed": true
   },
   "outputs": [],
   "source": [
    "mask_sf = sdss['ssfr'] >= -10.75\n",
    "mask_gv = (sdss['ssfr'] < -10.75) & (sdss['ssfr'] >= -11.25)\n",
    "mask_q = (sdss['ssfr'] < -11.25)"
   ]
  },
  {
   "cell_type": "code",
   "execution_count": null,
   "metadata": {
    "collapsed": true
   },
   "outputs": [],
   "source": []
  },
  {
   "cell_type": "code",
   "execution_count": null,
   "metadata": {},
   "outputs": [],
   "source": [
    "fig, ((ax1, ax2), (ax3, ax4)) = plt.subplots(2, 2, sharex=True, sharey=True, \n",
    "                                            figsize=(10, 10))\n",
    "\n",
    "__=ax1.loglog(); __=ax2.loglog(); __=ax3.loglog(); __=ax4.loglog()\n",
    "\n",
    "nskip = 20\n",
    "__=ax1.scatter(sdss['rvir_halo_kpc'][mask_sf][::nskip], \n",
    "              sdss['r50_magr_kpc_meert15'][mask_sf][::nskip], \n",
    "              color='blue', s=1, label='')\n",
    "__=ax1.scatter(sdss['rvir_halo_kpc'][mask_sf][::nskip], \n",
    "              size_model2[mask_sf][::nskip], \n",
    "              color='cyan', s=1, label='')\n",
    "\n",
    "__=ax2.scatter(sdss['rvir_halo_kpc'][mask_q][::nskip], \n",
    "              sdss['r50_magr_kpc_meert15'][mask_q][::nskip], \n",
    "              color='red', s=1, label='')\n",
    "__=ax2.scatter(sdss['rvir_halo_kpc'][mask_q][::nskip], \n",
    "              size_model2[mask_q][::nskip], \n",
    "              color='orange', s=1, label='')\n",
    "\n",
    "__=ax3.scatter(sdss['rvir_halo_kpc'][mask_gv][::nskip], \n",
    "              sdss['r50_magr_kpc_meert15'][mask_gv][::nskip], \n",
    "              color='green', s=1, label='')\n",
    "__=ax3.scatter(sdss['rvir_halo_kpc'][mask_gv][::nskip], \n",
    "              size_model2[mask_gv][::nskip], \n",
    "              color='purple', s=1, label='')\n",
    "\n",
    "__=ax4.scatter(sdss['rvir_halo_kpc'][::2*nskip], \n",
    "              sdss['r50_magr_kpc_meert15'][::2*nskip], \n",
    "              color='gray', s=1, label='')\n",
    "__=ax4.scatter(sdss['rvir_halo_kpc'][::2*nskip], \n",
    "              size_model2[::2*nskip], \n",
    "              color='k', s=1, label='')\n",
    "\n",
    "\n",
    "# rhalo_abscissa = np.linspace(10, 50000, 200)\n",
    "# __=ax1.plot(rhalo_abscissa, norm_sf*rhalo_abscissa**alpha_sf, color='k')\n",
    "# __=ax1.plot(rhalo_abscissa, norm_q*rhalo_abscissa**alpha_q, color='red')\n",
    "\n",
    "# __=ax2.plot(rhalo_abscissa, 0.1*rhalo_abscissa**alpha_sf, color='blue')\n",
    "# __=ax2.plot(rhalo_abscissa, norm_q*rhalo_abscissa**alpha_q, color='k')\n",
    "\n",
    "# __=ax3.plot(rhalo_abscissa, norm_gv*rhalo_abscissa**alpha_gv, color='k')\n",
    "\n",
    "# __=ax4.plot(rhalo_abscissa, norm_sf*rhalo_abscissa**alpha_sf, color='blue')\n",
    "# __=ax4.plot(rhalo_abscissa, norm_q*rhalo_abscissa**alpha_q, color='red')\n",
    "# __=ax4.plot(rhalo_abscissa, norm_gv*rhalo_abscissa**alpha_gv, color='green')\n",
    "\n",
    "\n",
    "xlim1 = ax1.set_xlim(50, 2500)\n",
    "xlim2 = ax2.set_xlim(50, 2500)\n",
    "xlim3 = ax3.set_xlim(50, 2500)\n",
    "xlim4 = ax4.set_xlim(50, 2500)\n",
    "ylim1 = ax1.set_ylim(.5, 30)\n",
    "ylim2 = ax2.set_ylim(.5, 30)\n",
    "ylim3 = ax3.set_ylim(.5, 30)\n",
    "ylim4 = ax4.set_ylim(.5, 30)\n",
    "\n",
    "__=ax1.set_xticks((50, 100, 200, 500, 1000, 2500))\n",
    "__=ax1.set_yticks((1, 10, 30))\n",
    "from matplotlib import ticker\n",
    "__=ax1.get_xaxis().set_major_formatter(ticker.ScalarFormatter())\n",
    "__=ax1.get_xaxis().set_minor_formatter(ticker.NullFormatter())\n",
    "__=ax1.get_yaxis().set_major_formatter(ticker.ScalarFormatter())\n",
    "__=ax1.get_yaxis().set_minor_formatter(ticker.NullFormatter())\n",
    "__=ax2.get_xaxis().set_major_formatter(ticker.ScalarFormatter())\n",
    "__=ax2.get_xaxis().set_minor_formatter(ticker.NullFormatter())\n",
    "__=ax2.get_yaxis().set_major_formatter(ticker.ScalarFormatter())\n",
    "__=ax2.get_yaxis().set_minor_formatter(ticker.NullFormatter())\n",
    "__=ax3.get_xaxis().set_major_formatter(ticker.ScalarFormatter())\n",
    "__=ax3.get_xaxis().set_minor_formatter(ticker.NullFormatter())\n",
    "__=ax3.get_yaxis().set_major_formatter(ticker.ScalarFormatter())\n",
    "__=ax3.get_yaxis().set_minor_formatter(ticker.NullFormatter())\n",
    "__=ax4.get_xaxis().set_major_formatter(ticker.ScalarFormatter())\n",
    "__=ax4.get_xaxis().set_minor_formatter(ticker.NullFormatter())\n",
    "__=ax4.get_yaxis().set_major_formatter(ticker.ScalarFormatter())\n",
    "__=ax4.get_yaxis().set_minor_formatter(ticker.NullFormatter())\n",
    "\n",
    "xlabel3 = ax3.set_xlabel(r'$R_{\\rm vir}$ [kpc]')\n",
    "ylabel1 = ax1.set_ylabel(r'$R_{1/2}$ [kpc]')\n",
    "xlabel4 = ax4.set_xlabel(r'$R_{\\rm vir}$ [kpc]')\n",
    "ylabel3 = ax3.set_ylabel(r'$R_{1/2}$ [kpc]')\n",
    "title1 = ax1.set_title('star-forming')\n",
    "title2 = ax2.set_title('quiescent')\n",
    "title3 = ax3.set_title('green valley')\n",
    "title4 = ax4.set_title('all')\n",
    "\n",
    "fig.savefig('galsize_vs_rhalo_double_power_law_fits.pdf', \n",
    "            bbox_extra_artists=[xlabel, ylabel], bbox_inches='tight')\n"
   ]
  },
  {
   "cell_type": "code",
   "execution_count": null,
   "metadata": {
    "collapsed": true
   },
   "outputs": [],
   "source": []
  }
 ],
 "metadata": {
  "kernelspec": {
   "display_name": "Python [conda root]",
   "language": "python",
   "name": "conda-root-py"
  },
  "language_info": {
   "codemirror_mode": {
    "name": "ipython",
    "version": 2
   },
   "file_extension": ".py",
   "mimetype": "text/x-python",
   "name": "python",
   "nbconvert_exporter": "python",
   "pygments_lexer": "ipython2",
   "version": "2.7.13"
  }
 },
 "nbformat": 4,
 "nbformat_minor": 2
}
