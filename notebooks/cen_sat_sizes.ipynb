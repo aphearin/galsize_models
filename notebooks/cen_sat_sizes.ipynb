{
 "cells": [
  {
   "cell_type": "code",
   "execution_count": 1,
   "metadata": {
    "collapsed": true
   },
   "outputs": [],
   "source": [
    "%matplotlib inline"
   ]
  },
  {
   "cell_type": "code",
   "execution_count": 2,
   "metadata": {},
   "outputs": [
    {
     "name": "stdout",
     "output_type": "stream",
     "text": [
      "Number of model galaxies with logM* > 9.0 = 1.21e+06\n"
     ]
    }
   ],
   "source": [
    "from galsize_models.models import moster13_based_mock\n",
    "mock = moster13_based_mock()\n",
    "print(\"Number of model galaxies with logM* > {0:.1f} = {1:.2e}\".format(np.log10(mock['mstar'].min()),len(mock)))"
   ]
  },
  {
   "cell_type": "code",
   "execution_count": 5,
   "metadata": {},
   "outputs": [
    {
     "name": "stdout",
     "output_type": "stream",
     "text": [
      "['upid', 'mpeak', 'scale_factor_mpeak', 'x', 'y', 'z', 'zpeak', 'vmax_mpeak', 'mvir', 'scale_factor_firstacc', 'mvir_firstacc', 'halfmass_scale_factor', 'vx', 'vy', 'vz', 'rvir_zpeak', 'vmax_at_mpeak_percentile', 'mvir_host_halo', 'spin', 'uran', 'mstar', 'mstar_moster13', 'r50']\n"
     ]
    }
   ],
   "source": [
    "from galsize_models.models import component_size_vs_rhalo\n",
    "\n",
    "rvir = mock['rvir_zpeak']\n",
    "normalization_all = 0.0125\n",
    "alpha_all = 1.\n",
    "scatter_all = 0.15\n",
    "size_seed=14041\n",
    "\n",
    "mock['r50'] = component_size_vs_rhalo(rvir, \n",
    "                        normalization_all, alpha_all, \n",
    "                        scatter=scatter_all, seed=size_seed)\n",
    "print(mock.keys())"
   ]
  },
  {
   "cell_type": "code",
   "execution_count": 40,
   "metadata": {
    "collapsed": true
   },
   "outputs": [],
   "source": [
    "mpeak_mask1 = (mock['mpeak'] > 10**11.75) & (mock['mpeak'] < 10**12.)\n",
    "mpeak_mask2 = (mock['mpeak'] > 10**12.75) & (mock['mpeak'] < 10**13.25)\n",
    "\n",
    "cen_mask1 = mpeak_mask1 & (mock['upid'] == -1)\n",
    "true_cen_mask1 = cen_mask1 & (mock['scale_factor_firstacc'] > 1)\n",
    "bsp_cen_mask1 = cen_mask1 & (mock['scale_factor_firstacc'] < 0.9) \n",
    "sat_mask1 = mpeak_mask1  & (mock['upid'] != -1)\n",
    "\n",
    "cen_mask2 = mpeak_mask2 & (mock['upid'] == -1)\n",
    "true_cen_mask2 = cen_mask2 & (mock['scale_factor_firstacc'] > 1)\n",
    "bsp_cen_mask2 = cen_mask2 & (mock['scale_factor_firstacc'] < 1)\n",
    "sat_mask2 = mpeak_mask2  & (mock['upid'] != -1)"
   ]
  },
  {
   "cell_type": "code",
   "execution_count": 57,
   "metadata": {},
   "outputs": [
    {
     "data": {
      "image/png": "[encoded data removed]",
      "text/plain": [
       "<matplotlib.figure.Figure at 0x121311850>"
      ]
     },
     "metadata": {},
     "output_type": "display_data"
    }
   ],
   "source": [
    "fig, ax = plt.subplots(1, 1)\n",
    "xscale = ax.set_xscale('log')\n",
    "xlim = ax.set_xlim(0.2, 50)\n",
    "\n",
    "r50_bins1 = np.logspace(-1, 1.25, 50)\n",
    "__=ax.hist(mock['r50'][bsp_cen_mask1], bins=r50_bins1, normed=True, alpha=0.8,\n",
    "          color='green', label='splashback centrals')\n",
    "__=ax.hist(mock['r50'][sat_mask1], bins=r50_bins1, normed=True, alpha=0.8,\n",
    "          color='red', label='satellites')\n",
    "__=ax.hist(mock['r50'][true_cen_mask1], bins=r50_bins1, normed=True, alpha=0.8,\n",
    "          color='blue', label='true centrals')\n",
    "\n",
    "leg = ax.legend(loc=1)\n",
    "xlabel = ax.set_xlabel(r'$R_{1/2}$ $[{\\rm kpc}]$')\n",
    "ylabel = ax.set_ylabel(r'PDF')\n",
    "title = ax.set_title(r'$M_{\\rm halo} \\approx 10^{12} M_{\\odot}$')\n",
    "\n",
    "figname = 'cen_sat_sizes.pdf'\n",
    "fig.savefig(figname, bbox_extra_artists=[xlabel, ylabel], bbox_inches='tight')"
   ]
  },
  {
   "cell_type": "code",
   "execution_count": 42,
   "metadata": {},
   "outputs": [
    {
     "data": {
      "image/png": "[encoded data removed]",
      "text/plain": [
       "<matplotlib.figure.Figure at 0x121e3b290>"
      ]
     },
     "metadata": {},
     "output_type": "display_data"
    }
   ],
   "source": [
    "fig, ax = plt.subplots(1, 1)\n",
    "xscale = ax.set_xscale('log')\n",
    "xlim = ax.set_xlim(1, 30)\n",
    "\n",
    "r50_bins2 = np.logspace(0, 1.5, 30)\n",
    "__=ax.hist(mock['r50'][true_cen_mask2], bins=r50_bins2, normed=True, alpha=0.8,\n",
    "          color='blue', label='true centrals')\n",
    "__=ax.hist(mock['r50'][bsp_cen_mask2], bins=r50_bins2, normed=True, alpha=0.8,\n",
    "          color='green', label='splashback centrals')\n",
    "__=ax.hist(mock['r50'][sat_mask2], bins=r50_bins2, normed=True, alpha=0.8,\n",
    "          color='red', label='satellites')\n",
    "\n",
    "leg = ax.legend()\n"
   ]
  },
  {
   "cell_type": "code",
   "execution_count": null,
   "metadata": {
    "collapsed": true
   },
   "outputs": [],
   "source": []
  }
 ],
 "metadata": {
  "kernelspec": {
   "display_name": "Python [conda root]",
   "language": "python",
   "name": "conda-root-py"
  },
  "language_info": {
   "codemirror_mode": {
    "name": "ipython",
    "version": 2
   },
   "file_extension": ".py",
   "mimetype": "text/x-python",
   "name": "python",
   "nbconvert_exporter": "python",
   "pygments_lexer": "ipython2",
   "version": "2.7.13"
  }
 },
 "nbformat": 4,
 "nbformat_minor": 2
}
