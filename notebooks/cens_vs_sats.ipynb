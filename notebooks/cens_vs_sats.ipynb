{
 "cells": [
  {
   "cell_type": "code",
   "execution_count": 1,
   "metadata": {
    "collapsed": true
   },
   "outputs": [],
   "source": [
    "%matplotlib inline"
   ]
  },
  {
   "cell_type": "code",
   "execution_count": 2,
   "metadata": {},
   "outputs": [
    {
     "name": "stdout",
     "output_type": "stream",
     "text": [
      "Total runtime = 33.26 seconds\n",
      "['obs_sfr', 'icl', 'upid', 'mpeak', 'sfr', 'halo_id', 'mvir', 'rvir', 'vmax_at_mpeak', 'vx', 'a_first_infall', 'sm', 'vy', 'y', 'x', 'vz', 'z', 'dvmax_zscore', 'obs_sm', 'halo_hostid', 'host_halo_rvir', 'host_halo_mvir', 'ssfr', 'is_main_sequence', 'is_green_valley', 'is_quenched', 'logsm', 'rvir_halo_kpc', 'rvir_halo_kpc_present_day', 'spin_at_infall', 'bt_meert15_random']\n"
     ]
    }
   ],
   "source": [
    "from galsize_models.models.load_baseline_catalogs import load_umachine_mock\n",
    "mock = load_umachine_mock()\n"
   ]
  },
  {
   "cell_type": "code",
   "execution_count": 3,
   "metadata": {
    "collapsed": true
   },
   "outputs": [],
   "source": [
    "from galsize_models.models.bulge_disk_double_power_law import galaxy_size_vs_rhalo\n",
    "\n",
    "norm_bulge = 0.002\n",
    "bulge_to_disk_size_ratio = 1/7.\n",
    "alpha_bulge = 1.25\n",
    "alpha_disk = 1\n",
    "scatter = 0.2\n",
    "\n",
    "norm_disk = norm_bulge/bulge_to_disk_size_ratio\n",
    "\n",
    "rvir_halo_kpc = mock['rvir_halo_kpc']\n",
    "bt = mock['bt_meert15_random']\n",
    "\n",
    "size_seed=14041\n",
    "\n",
    "mock['r50_magr_kpc_meert15'] = galaxy_size_vs_rhalo(rvir_halo_kpc, bt, \n",
    "                    norm_bulge, norm_disk, \n",
    "                     alpha_bulge, alpha_disk, scatter=scatter, seed=size_seed)\n",
    "\n",
    "\n",
    "bulge_dominated_mask_mock = mock['bt_meert15_random'] > 0.75\n",
    "disk_dominated_mask_mock = mock['bt_meert15_random'] < 0.25\n",
    "mixed_morphology_mask_mock = ~disk_dominated_mask_mock & ~bulge_dominated_mask_mock\n"
   ]
  },
  {
   "cell_type": "code",
   "execution_count": 4,
   "metadata": {},
   "outputs": [
    {
     "name": "stdout",
     "output_type": "stream",
     "text": [
      "['obs_sfr', 'icl', 'upid', 'mpeak', 'sfr', 'halo_id', 'mvir', 'rvir', 'vmax_at_mpeak', 'vx', 'a_first_infall', 'sm', 'vy', 'y', 'x', 'vz', 'z', 'dvmax_zscore', 'obs_sm', 'halo_hostid', 'host_halo_rvir', 'host_halo_mvir', 'ssfr', 'is_main_sequence', 'is_green_valley', 'is_quenched', 'logsm', 'rvir_halo_kpc', 'rvir_halo_kpc_present_day', 'spin_at_infall', 'bt_meert15_random', 'r50_magr_kpc_meert15']\n"
     ]
    }
   ],
   "source": [
    "print(mock.keys())"
   ]
  },
  {
   "cell_type": "code",
   "execution_count": 7,
   "metadata": {},
   "outputs": [],
   "source": [
    "mpeak_mask = (mock['mpeak'] > 1e12) & (mock['mpeak'] < 2e12)\n",
    "mpeak_sample = mock[mpeak_mask]\n",
    "\n",
    "cenmask = sample['upid'] == -1\n",
    "cens = sample[cenmask]\n",
    "sats = sample[~cenmask]"
   ]
  },
  {
   "cell_type": "code",
   "execution_count": 8,
   "metadata": {},
   "outputs": [
    {
     "data": {
      "text/plain": [
       "(3.4251843638852852, 2.3850696803107589)"
      ]
     },
     "execution_count": 8,
     "metadata": {},
     "output_type": "execute_result"
    }
   ],
   "source": [
    "np.median(cens['r50_magr_kpc_meert15']), np.median(sats['r50_magr_kpc_meert15'])"
   ]
  },
  {
   "cell_type": "code",
   "execution_count": 10,
   "metadata": {},
   "outputs": [
    {
     "data": {
      "text/plain": [
       "(0.33642220419102375, 0.48295337028970392)"
      ]
     },
     "execution_count": 10,
     "metadata": {},
     "output_type": "execute_result"
    }
   ],
   "source": [
    "np.median(cens['bt_meert15_random']), np.median(sats['bt_meert15_random'])"
   ]
  },
  {
   "cell_type": "code",
   "execution_count": 28,
   "metadata": {},
   "outputs": [
    {
     "data": {
      "image/png": "[encoded data removed]",
      "text/plain": [
       "<matplotlib.figure.Figure at 0x131be60d0>"
      ]
     },
     "metadata": {},
     "output_type": "display_data"
    }
   ],
   "source": [
    "fig, ax = plt.subplots(1, 1)\n",
    "\n",
    "bt_bin_edges = np.linspace(0, 1, 25)\n",
    "bt_bin_mids = 0.5*(bt_bin_edges[:-1] + bt_bin_edges[1:])\n",
    "cens_bt_pdf, __ = np.histogram(cens['bt_meert15_random'], bins=bt_bin_edges, density=True)\n",
    "sats_bt_pdf, __ = np.histogram(sats['bt_meert15_random'], bins=bt_bin_edges, density=True)\n",
    "\n",
    "__=ax.errorbar(bt_bin_mids, cens_bt_pdf, 0.4, fmt='.', color='purple', label='centrals')\n",
    "__=ax.errorbar(bt_bin_mids, sats_bt_pdf, 0.4, fmt='.', color='orange', label='satellites')\n",
    "\n",
    "\n",
    "title = ax.set_title(r'$M_{\\rm halo} \\approx 10^{12}M_{\\odot}$')\n",
    "legend = ax.legend()\n",
    "xlabel = ax.set_xlabel(r'B/T')\n",
    "ylabel = ax.set_ylabel(r'PDF')\n",
    "figname = 'random_bt_centrals_vs_satellites.pdf'\n",
    "fig.savefig(figname, bbox_extra_artists=[xlabel], bbox_inches='tight')\n"
   ]
  },
  {
   "cell_type": "code",
   "execution_count": null,
   "metadata": {
    "collapsed": true
   },
   "outputs": [],
   "source": []
  },
  {
   "cell_type": "code",
   "execution_count": null,
   "metadata": {
    "collapsed": true
   },
   "outputs": [],
   "source": []
  }
 ],
 "metadata": {
  "kernelspec": {
   "display_name": "Python [conda root]",
   "language": "python",
   "name": "conda-root-py"
  },
  "language_info": {
   "codemirror_mode": {
    "name": "ipython",
    "version": 2
   },
   "file_extension": ".py",
   "mimetype": "text/x-python",
   "name": "python",
   "nbconvert_exporter": "python",
   "pygments_lexer": "ipython2",
   "version": "2.7.13"
  }
 },
 "nbformat": 4,
 "nbformat_minor": 2
}
