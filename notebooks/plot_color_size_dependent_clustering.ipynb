{
 "cells": [
  {
   "cell_type": "code",
   "execution_count": 1,
   "metadata": {},
   "outputs": [],
   "source": [
    "%matplotlib inline"
   ]
  },
  {
   "cell_type": "code",
   "execution_count": 2,
   "metadata": {},
   "outputs": [],
   "source": [
    "from galsize_models.measurements import sdss_measurements\n",
    "littleh = 0.7\n"
   ]
  },
  {
   "cell_type": "code",
   "execution_count": 27,
   "metadata": {},
   "outputs": [
    {
     "data": {
      "image/png": "[encoded data removed]",
      "text/plain": [
       "<matplotlib.figure.Figure at 0x125ea4fd0>"
      ]
     },
     "metadata": {},
     "output_type": "display_data"
    }
   ],
   "source": [
    "from matplotlib import ticker \n",
    "\n",
    "fig, ax = plt.subplots(1, 1)\n",
    "\n",
    "\n",
    "__=ax.loglog()\n",
    "xlim = ax.set_xlim(0.1, 12)\n",
    "xlabel = ax.set_xlabel(r'$r$  $[{\\rm Mpc}]$')\n",
    "ylabel = ax.set_ylabel(r'$w_{\\rm p}$ $[{\\rm Mpc}]$')\n",
    "# title = ax.set_title(r'$SDSS: 10^{9.75}M_{\\odot} < M_{\\ast} < 10^{10.25}M_{\\odot}$')\n",
    "\n",
    "title = ax.set_title(r'${\\rm SDSS}: 9.75 < \\log_{10}M_{\\ast}/M_{\\odot} < 10.25$')\n",
    "\n",
    "x = sdss_measurements.rp*littleh\n",
    "large_red_label = r'${\\rm large\\ red\\ galaxies}$'\n",
    "small_red_label = r'${\\rm small\\ red\\ galaxies}$'\n",
    "large_blue_label = r'${\\rm large\\ blue\\ galaxies}$'\n",
    "small_blue_label = r'${\\rm small\\ blue\\ galaxies}$'\n",
    "\n",
    "large_red_points=ax.errorbar(x, \n",
    "               sdss_measurements.wp_sdss_mpajhu_red_sm9p75_sm10p25_large*littleh, \n",
    "               sdss_measurements.wperr_sdss_mpajhu_red_sm9p75_sm10p25*littleh, \n",
    "               fmt='.', color='red', label=large_red_label)\n",
    "small_red_points=ax.errorbar(x, \n",
    "               sdss_measurements.wp_sdss_mpajhu_red_sm9p75_sm10p25_small*littleh, \n",
    "               sdss_measurements.wperr_sdss_mpajhu_red_sm9p75_sm10p25*littleh, \n",
    "               fmt='.', color='orange', label=small_red_label)\n",
    "large_blue_points=ax.errorbar(x, \n",
    "               sdss_measurements.wp_sdss_mpajhu_blue_sm9p75_sm10p25_large*littleh, \n",
    "               sdss_measurements.wperr_sdss_mpajhu_blue_sm9p75_sm10p25*littleh, \n",
    "               fmt='.', color='blue', label=large_blue_label)\n",
    "small_blue_points=ax.errorbar(x, \n",
    "               sdss_measurements.wp_sdss_mpajhu_blue_sm9p75_sm10p25_small*littleh, \n",
    "               sdss_measurements.wperr_sdss_mpajhu_blue_sm9p75_sm10p25*littleh, \n",
    "               fmt='.', color='purple', label=small_blue_label)\n",
    "\n",
    "ylim = ax.set_ylim(5, 2000)\n",
    "__=ax.get_xaxis().set_major_formatter(ticker.ScalarFormatter())\n",
    "__=ax.get_xaxis().set_minor_formatter(ticker.NullFormatter())\n",
    "__=ax.set_xticks((0.1, 0.3, 1, 3, 10))\n",
    "\n",
    "\n",
    "from matplotlib import lines as mlines\n",
    "small_red_error_bars = mlines.Line2D([], [], c='red', marker='.', \n",
    "                           linewidth=3, label=small_red_label)\n",
    "leg1 = ax.legend([large_red_points, small_red_points], \n",
    "                 [large_red_label, small_red_label], \n",
    "                 loc='upper right')\n",
    "ax.add_artist(leg1)\n",
    "leg2 = ax.legend([large_blue_points, small_blue_points], \n",
    "                 [large_blue_label, small_blue_label], loc='lower left')\n",
    "ax.add_artist(leg2)\n",
    "\n",
    "figname = 'color_selected_size_dependent_clustering.pdf'\n",
    "fig.savefig(figname, bbox_extra_artists=[xlabel, ylabel], bbox_inches='tight')\n"
   ]
  },
  {
   "cell_type": "code",
   "execution_count": null,
   "metadata": {},
   "outputs": [],
   "source": [
    "\n"
   ]
  },
  {
   "cell_type": "code",
   "execution_count": null,
   "metadata": {},
   "outputs": [],
   "source": []
  }
 ],
 "metadata": {
  "kernelspec": {
   "display_name": "Python [conda root]",
   "language": "python",
   "name": "conda-root-py"
  },
  "language_info": {
   "codemirror_mode": {
    "name": "ipython",
    "version": 2
   },
   "file_extension": ".py",
   "mimetype": "text/x-python",
   "name": "python",
   "nbconvert_exporter": "python",
   "pygments_lexer": "ipython2",
   "version": "2.7.14"
  }
 },
 "nbformat": 4,
 "nbformat_minor": 2
}
