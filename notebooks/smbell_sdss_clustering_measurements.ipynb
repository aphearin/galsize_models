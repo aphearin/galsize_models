{
 "cells": [
  {
   "cell_type": "code",
   "execution_count": 1,
   "metadata": {
    "collapsed": true
   },
   "outputs": [],
   "source": [
    "%matplotlib inline"
   ]
  },
  {
   "cell_type": "code",
   "execution_count": 2,
   "metadata": {},
   "outputs": [
    {
     "name": "stdout",
     "output_type": "stream",
     "text": [
      "Number of M*-complete SDSS galaxies with good profile measurements = 229889\n"
     ]
    }
   ],
   "source": [
    "from galsize_models.measurements import load_umachine_sdss_with_meert15\n",
    "full_sdss, behroozi_complete, good_profile_mask = load_umachine_sdss_with_meert15()\n",
    "\n",
    "sdss = full_sdss[behroozi_complete & good_profile_mask]\n",
    "print(\"Number of M*-complete SDSS galaxies with good profile measurements = {0}\".format(len(sdss)))\n"
   ]
  },
  {
   "cell_type": "code",
   "execution_count": 3,
   "metadata": {},
   "outputs": [
    {
     "name": "stdout",
     "output_type": "stream",
     "text": [
      "['ra', 'dec', 'z', 'bptclass', 'sm', 'sfr', 'specsfr', 'sm_fib', 'sfr_fib', 'specsfr_fib', 'withinr', 'eligiblehost', 'sm_complete', 'eligiblehost2', 'd4000', 'd4000_sub', 'd4000_n', 'd4000_n_sub', 'has_match', 'logM_mendel13', 'logMB_mendel13', 'logMD_mendel13', 'pps_mendel13', 'type_mendel13', 'deltaBD_mendel13', 'dr7_objID', 'has_meert15_match', 'r50_magr_kpc_meert15', 'Magr_tot_meert15', 'Magr_bulge_meert15', 'Magr_disk_meert15', 'gr_bulge_meert15', 'gr_disk_meert15', 'morph_type_T_meert15', 'gr_kcorr_meert15', 'bulge_to_total_rband_meert15', 'logsm_bell03_meert15', 'ssfr']\n"
     ]
    }
   ],
   "source": [
    "print(sdss.keys())"
   ]
  },
  {
   "cell_type": "code",
   "execution_count": 11,
   "metadata": {
    "collapsed": true
   },
   "outputs": [],
   "source": [
    "from slidingpercentile import python_sliding_rank\n",
    "\n",
    "x = sdss['logsm_bell03_meert15']\n",
    "y = sdss['r50_magr_kpc_meert15']\n",
    "window_length = 201\n",
    "\n",
    "sliding_rank_orders = python_sliding_rank(x, y, window_length)\n",
    "size_percentile = (1. + sliding_rank_orders)/float(window_length+1)\n",
    "sdss['r50_magr_kpc_meert15_percentile'] = size_percentile"
   ]
  },
  {
   "cell_type": "code",
   "execution_count": 4,
   "metadata": {
    "collapsed": true
   },
   "outputs": [],
   "source": [
    "from galsize_models.measurements.measure_sdss_clustering import save_wp_measurement\n",
    "\n",
    "import os\n",
    "repo_dirname = \"/Users/aphearin/work/repositories/python/galsize_models\"\n",
    "output_subdirname = \"galsize_models/measurements/data/two_point_functions\"\n",
    "output_dirname = os.path.join(repo_dirname, output_subdirname)\n",
    "\n",
    "logsm_high = 15\n",
    "\n",
    "sdss['orig_sm'] = np.copy(sdss['sm'])"
   ]
  },
  {
   "cell_type": "code",
   "execution_count": 23,
   "metadata": {},
   "outputs": [
    {
     "name": "stdout",
     "output_type": "stream",
     "text": [
      "Measuring wp for sdss_sm9p75_smbell sample of 203143 galaxies\n"
     ]
    }
   ],
   "source": [
    "sdss['sm'] = sdss['logsm_bell03_meert15']\n",
    "\n",
    "logsm_min = 9.75\n",
    "sm_mask = sdss['sm'] > logsm_min\n",
    "save_wp_measurement(sdss[sm_mask], output_dirname, 'sdss_sm9p75_smbell', logsm_min, logsm_high)\n",
    "\n",
    "small_mask = sm_mask & (sdss['r50_magr_kpc_meert15_percentile'] < 0.5)\n",
    "save_wp_measurement(sdss[small_mask], output_dirname, 'sdss_sm9p75_smbell_small', logsm_min, logsm_high)\n",
    "\n",
    "large_mask = sm_mask & (sdss['r50_magr_kpc_meert15_percentile'] >= 0.5)\n",
    "save_wp_measurement(sdss[large_mask], output_dirname, 'sdss_sm9p75_smbell_large', logsm_min, logsm_high)"
   ]
  },
  {
   "cell_type": "code",
   "execution_count": 5,
   "metadata": {
    "collapsed": true
   },
   "outputs": [],
   "source": [
    "rp = np.load(os.path.join(output_dirname, 'sdss_sm9p75_smbell_rp.npy'))\n",
    "wp_sdss_sm9p75_smbell = np.load(os.path.join(output_dirname, 'sdss_sm9p75_smbell_wp.npy'))\n",
    "wp_sdss_sm9p75_smbell_small = np.load(os.path.join(output_dirname, 'sdss_sm9p75_smbell_small_wp.npy'))\n",
    "wp_sdss_sm9p75_smbell_large = np.load(os.path.join(output_dirname, 'sdss_sm9p75_smbell_large_wp.npy'))\n",
    "fracdiff_sm9p75_smbell = (wp_sdss_sm9p75_smbell_large-wp_sdss_sm9p75_smbell_small)/wp_sdss_sm9p75_smbell"
   ]
  },
  {
   "cell_type": "code",
   "execution_count": 34,
   "metadata": {},
   "outputs": [
    {
     "name": "stdout",
     "output_type": "stream",
     "text": [
      "Measuring wp for sdss_sm10p0_smbell sample of 192983 galaxies\n",
      "Measuring wp for sdss_sm10p0_smbell_small sample of 95961 galaxies\n",
      "Measuring wp for sdss_sm10p0_smbell_large sample of 97022 galaxies\n"
     ]
    }
   ],
   "source": [
    "logsm_min = 10\n",
    "sm_mask = sdss['sm'] > logsm_min\n",
    "save_wp_measurement(sdss[sm_mask], output_dirname, 'sdss_sm10p0_smbell', logsm_min, logsm_high)\n",
    "\n",
    "small_mask = sm_mask & (sdss['r50_magr_kpc_meert15_percentile'] < 0.5)\n",
    "save_wp_measurement(sdss[small_mask], output_dirname, 'sdss_sm10p0_smbell_small', logsm_min, logsm_high)\n",
    "\n",
    "large_mask = sm_mask & (sdss['r50_magr_kpc_meert15_percentile'] >= 0.5)\n",
    "save_wp_measurement(sdss[large_mask], output_dirname, 'sdss_sm10p0_smbell_large', logsm_min, logsm_high)"
   ]
  },
  {
   "cell_type": "code",
   "execution_count": 6,
   "metadata": {
    "collapsed": true
   },
   "outputs": [],
   "source": [
    "rp = np.load(os.path.join(output_dirname, 'sdss_sm10p0_smbell_rp.npy'))\n",
    "wp_sdss_sm10p0_smbell = np.load(os.path.join(output_dirname, 'sdss_sm10p0_smbell_wp.npy'))\n",
    "wp_sdss_sm10p0_smbell_small = np.load(os.path.join(output_dirname, 'sdss_sm10p0_smbell_small_wp.npy'))\n",
    "wp_sdss_sm10p0_smbell_large = np.load(os.path.join(output_dirname, 'sdss_sm10p0_smbell_large_wp.npy'))\n",
    "fracdiff_sm10p0_smbell = (wp_sdss_sm10p0_smbell_large-wp_sdss_sm10p0_smbell_small)/wp_sdss_sm10p0_smbell"
   ]
  },
  {
   "cell_type": "code",
   "execution_count": 35,
   "metadata": {},
   "outputs": [
    {
     "name": "stdout",
     "output_type": "stream",
     "text": [
      "Measuring wp for sdss_sm10p25_smbell sample of 181218 galaxies\n",
      "Measuring wp for sdss_sm10p25_smbell_small sample of 90105 galaxies\n",
      "Measuring wp for sdss_sm10p25_smbell_large sample of 91113 galaxies\n"
     ]
    }
   ],
   "source": [
    "logsm_min = 10.25\n",
    "sm_mask = sdss['sm'] > logsm_min\n",
    "save_wp_measurement(sdss[sm_mask], output_dirname, 'sdss_sm10p25_smbell', logsm_min, logsm_high)\n",
    "\n",
    "small_mask = sm_mask & (sdss['r50_magr_kpc_meert15_percentile'] < 0.5)\n",
    "save_wp_measurement(sdss[small_mask], output_dirname, 'sdss_sm10p25_smbell_small', logsm_min, logsm_high)\n",
    "\n",
    "large_mask = sm_mask & (sdss['r50_magr_kpc_meert15_percentile'] >= 0.5)\n",
    "save_wp_measurement(sdss[large_mask], output_dirname, 'sdss_sm10p25_smbell_large', logsm_min, logsm_high)"
   ]
  },
  {
   "cell_type": "code",
   "execution_count": 7,
   "metadata": {
    "collapsed": true
   },
   "outputs": [],
   "source": [
    "rp = np.load(os.path.join(output_dirname, 'sdss_sm10p25_smbell_rp.npy'))\n",
    "wp_sdss_sm10p25_smbell = np.load(os.path.join(output_dirname, 'sdss_sm10p25_smbell_wp.npy'))\n",
    "wp_sdss_sm10p25_smbell_small = np.load(os.path.join(output_dirname, 'sdss_sm10p25_smbell_small_wp.npy'))\n",
    "wp_sdss_sm10p25_smbell_large = np.load(os.path.join(output_dirname, 'sdss_sm10p25_smbell_large_wp.npy'))\n",
    "fracdiff_sm10p25_smbell = (wp_sdss_sm10p25_smbell_large-wp_sdss_sm10p25_smbell_small)/wp_sdss_sm10p25_smbell"
   ]
  },
  {
   "cell_type": "code",
   "execution_count": 36,
   "metadata": {},
   "outputs": [
    {
     "name": "stdout",
     "output_type": "stream",
     "text": [
      "Measuring wp for sdss_sm10p5_smbell sample of 163171 galaxies\n",
      "Measuring wp for sdss_sm10p5_smbell_small sample of 81155 galaxies\n",
      "Measuring wp for sdss_sm10p5_smbell_large sample of 82016 galaxies\n"
     ]
    }
   ],
   "source": [
    "logsm_min = 10.5\n",
    "sm_mask = sdss['sm'] > logsm_min\n",
    "save_wp_measurement(sdss[sm_mask], output_dirname, 'sdss_sm10p5_smbell', logsm_min, logsm_high)\n",
    "\n",
    "small_mask = sm_mask & (sdss['r50_magr_kpc_meert15_percentile'] < 0.5)\n",
    "save_wp_measurement(sdss[small_mask], output_dirname, 'sdss_sm10p5_smbell_small', logsm_min, logsm_high)\n",
    "\n",
    "large_mask = sm_mask & (sdss['r50_magr_kpc_meert15_percentile'] >= 0.5)\n",
    "save_wp_measurement(sdss[large_mask], output_dirname, 'sdss_sm10p5_smbell_large', logsm_min, logsm_high)"
   ]
  },
  {
   "cell_type": "code",
   "execution_count": 8,
   "metadata": {
    "collapsed": true
   },
   "outputs": [],
   "source": [
    "rp = np.load(os.path.join(output_dirname, 'sdss_sm10p5_smbell_rp.npy'))\n",
    "wp_sdss_sm10p5_smbell = np.load(os.path.join(output_dirname, 'sdss_sm10p5_smbell_wp.npy'))\n",
    "wp_sdss_sm10p5_smbell_small = np.load(os.path.join(output_dirname, 'sdss_sm10p5_smbell_small_wp.npy'))\n",
    "wp_sdss_sm10p5_smbell_large = np.load(os.path.join(output_dirname, 'sdss_sm10p5_smbell_large_wp.npy'))\n",
    "fracdiff_sm10p5_smbell = (wp_sdss_sm10p5_smbell_large-wp_sdss_sm10p5_smbell_small)/wp_sdss_sm10p5_smbell"
   ]
  },
  {
   "cell_type": "code",
   "execution_count": 37,
   "metadata": {},
   "outputs": [
    {
     "name": "stdout",
     "output_type": "stream",
     "text": [
      "Measuring wp for sdss_sm10p75_smbell sample of 135083 galaxies\n",
      "Measuring wp for sdss_sm10p75_smbell_small sample of 67187 galaxies\n",
      "Measuring wp for sdss_sm10p75_smbell_large sample of 67896 galaxies\n"
     ]
    }
   ],
   "source": [
    "logsm_min = 10.75\n",
    "sm_mask = sdss['sm'] > logsm_min\n",
    "save_wp_measurement(sdss[sm_mask], output_dirname, 'sdss_sm10p75_smbell', logsm_min, logsm_high)\n",
    "\n",
    "small_mask = sm_mask & (sdss['r50_magr_kpc_meert15_percentile'] < 0.5)\n",
    "save_wp_measurement(sdss[small_mask], output_dirname, 'sdss_sm10p75_smbell_small', logsm_min, logsm_high)\n",
    "\n",
    "large_mask = sm_mask & (sdss['r50_magr_kpc_meert15_percentile'] >= 0.5)\n",
    "save_wp_measurement(sdss[large_mask], output_dirname, 'sdss_sm10p75_smbell_large', logsm_min, logsm_high)"
   ]
  },
  {
   "cell_type": "code",
   "execution_count": 9,
   "metadata": {
    "collapsed": true
   },
   "outputs": [],
   "source": [
    "rp = np.load(os.path.join(output_dirname, 'sdss_sm10p75_smbell_rp.npy'))\n",
    "wp_sdss_sm10p75_smbell = np.load(os.path.join(output_dirname, 'sdss_sm10p75_smbell_wp.npy'))\n",
    "wp_sdss_sm10p75_smbell_small = np.load(os.path.join(output_dirname, 'sdss_sm10p75_smbell_small_wp.npy'))\n",
    "wp_sdss_sm10p75_smbell_large = np.load(os.path.join(output_dirname, 'sdss_sm10p75_smbell_large_wp.npy'))\n",
    "fracdiff_sm10p75_smbell = (wp_sdss_sm10p75_smbell_large-wp_sdss_sm10p75_smbell_small)/wp_sdss_sm10p75_smbell"
   ]
  },
  {
   "cell_type": "code",
   "execution_count": 38,
   "metadata": {},
   "outputs": [
    {
     "name": "stdout",
     "output_type": "stream",
     "text": [
      "Measuring wp for sdss_sm11_smbell sample of 96961 galaxies\n",
      "Measuring wp for sdss_sm11_smbell_small sample of 48245 galaxies\n",
      "Measuring wp for sdss_sm11_smbell_large sample of 48716 galaxies\n"
     ]
    }
   ],
   "source": [
    "logsm_min = 11\n",
    "sm_mask = sdss['sm'] > logsm_min\n",
    "save_wp_measurement(sdss[sm_mask], output_dirname, 'sdss_sm11_smbell', logsm_min, logsm_high)\n",
    "\n",
    "small_mask = sm_mask & (sdss['r50_magr_kpc_meert15_percentile'] < 0.5)\n",
    "save_wp_measurement(sdss[small_mask], output_dirname, 'sdss_sm11_smbell_small', logsm_min, logsm_high)\n",
    "\n",
    "large_mask = sm_mask & (sdss['r50_magr_kpc_meert15_percentile'] >= 0.5)\n",
    "save_wp_measurement(sdss[large_mask], output_dirname, 'sdss_sm11_smbell_large', logsm_min, logsm_high)"
   ]
  },
  {
   "cell_type": "code",
   "execution_count": 10,
   "metadata": {
    "collapsed": true
   },
   "outputs": [],
   "source": [
    "rp = np.load(os.path.join(output_dirname, 'sdss_sm11_smbell_rp.npy'))\n",
    "wp_sdss_sm11_smbell = np.load(os.path.join(output_dirname, 'sdss_sm11_smbell_wp.npy'))\n",
    "wp_sdss_sm11_smbell_small = np.load(os.path.join(output_dirname, 'sdss_sm11_smbell_small_wp.npy'))\n",
    "wp_sdss_sm11_smbell_large = np.load(os.path.join(output_dirname, 'sdss_sm11_smbell_large_wp.npy'))\n",
    "fracdiff_sm11_smbell = (wp_sdss_sm11_smbell_large-wp_sdss_sm11_smbell_small)/wp_sdss_sm11_smbell"
   ]
  },
  {
   "cell_type": "code",
   "execution_count": 40,
   "metadata": {},
   "outputs": [
    {
     "name": "stdout",
     "output_type": "stream",
     "text": [
      "Measuring wp for sdss_sm11p25_smbell sample of 58274 galaxies\n",
      "Measuring wp for sdss_sm11p25_smbell_small sample of 29023 galaxies\n",
      "Measuring wp for sdss_sm11p25_smbell_large sample of 29251 galaxies\n"
     ]
    }
   ],
   "source": [
    "logsm_min = 11.25\n",
    "sm_mask = sdss['sm'] > logsm_min\n",
    "save_wp_measurement(sdss[sm_mask], output_dirname, 'sdss_sm11p25_smbell', logsm_min, logsm_high)\n",
    "\n",
    "small_mask = sm_mask & (sdss['r50_magr_kpc_meert15_percentile'] < 0.5)\n",
    "save_wp_measurement(sdss[small_mask], output_dirname, 'sdss_sm11p25_smbell_small', logsm_min, logsm_high)\n",
    "\n",
    "large_mask = sm_mask & (sdss['r50_magr_kpc_meert15_percentile'] >= 0.5)\n",
    "save_wp_measurement(sdss[large_mask], output_dirname, 'sdss_sm11p25_smbell_large', logsm_min, logsm_high)"
   ]
  },
  {
   "cell_type": "code",
   "execution_count": null,
   "metadata": {
    "collapsed": true
   },
   "outputs": [],
   "source": [
    "rp = np.load(os.path.join(output_dirname, 'sdss_sm11p25_smbell_rp.npy'))\n",
    "wp_sdss_sm11p25_smbell = np.load(os.path.join(output_dirname, 'sdss_sm11p25_smbell_wp.npy'))\n",
    "wp_sdss_sm11p25_smbell_small = np.load(os.path.join(output_dirname, 'sdss_sm11p25_smbell_small_wp.npy'))\n",
    "wp_sdss_sm11p25_smbell_large = np.load(os.path.join(output_dirname, 'sdss_sm11p25_smbell_large_wp.npy'))\n",
    "fracdiff_sm11p25_smbell = (wp_sdss_sm11p25_smbell_large-wp_sdss_sm11p25_smbell_small)/wp_sdss_sm11p25_smbell"
   ]
  },
  {
   "cell_type": "code",
   "execution_count": 51,
   "metadata": {},
   "outputs": [
    {
     "data": {
      "image/png": "[encoded data removed]",
      "text/plain": [
       "<matplotlib.figure.Figure at 0x12572de90>"
      ]
     },
     "metadata": {},
     "output_type": "display_data"
    }
   ],
   "source": [
    "fig, ax = plt.subplots(1, 1)\n",
    "\n",
    "xscale = ax.set_xscale('log')\n",
    "\n",
    "\n",
    "__=ax.errorbar(rp, fracdiff_sm11p25_smbell, 0.1, fmt='.', \n",
    "               label=r'$M_{\\ast} > 10^{11.25}M_{\\odot}$')\n",
    "\n",
    "__=ax.errorbar(rp, fracdiff_sm10p75_smbell, 0.1, fmt='.', \n",
    "               label=r'$M_{\\ast} > 10^{10.75}M_{\\odot}$')\n",
    "\n",
    "__=ax.errorbar(rp, fracdiff_sm10p25_smbell, 0.1, fmt='.', \n",
    "               label=r'$M_{\\ast} > 10^{10.25}M_{\\odot}$')\n",
    "\n",
    "__=ax.errorbar(rp, fracdiff_sm9p75_smbell, 0.1, fmt='.', \n",
    "               label=r'$M_{\\ast} > 10^{9.75}M_{\\odot}$')\n",
    "\n",
    "\n",
    "ylim = ax.set_ylim(-1.75, 0.2)\n",
    "xlim = ax.set_xlim(0.1, 20)\n",
    "\n",
    "__=ax.plot(np.logspace(-2, 2, 100), np.zeros(100), '--', color='k')\n",
    "\n",
    "leg = ax.legend()"
   ]
  },
  {
   "cell_type": "code",
   "execution_count": null,
   "metadata": {
    "collapsed": true
   },
   "outputs": [],
   "source": []
  },
  {
   "cell_type": "code",
   "execution_count": null,
   "metadata": {
    "collapsed": true
   },
   "outputs": [],
   "source": []
  },
  {
   "cell_type": "code",
   "execution_count": null,
   "metadata": {
    "collapsed": true
   },
   "outputs": [],
   "source": []
  }
 ],
 "metadata": {
  "kernelspec": {
   "display_name": "Python [conda root]",
   "language": "python",
   "name": "conda-root-py"
  },
  "language_info": {
   "codemirror_mode": {
    "name": "ipython",
    "version": 2
   },
   "file_extension": ".py",
   "mimetype": "text/x-python",
   "name": "python",
   "nbconvert_exporter": "python",
   "pygments_lexer": "ipython2",
   "version": "2.7.13"
  }
 },
 "nbformat": 4,
 "nbformat_minor": 2
}
