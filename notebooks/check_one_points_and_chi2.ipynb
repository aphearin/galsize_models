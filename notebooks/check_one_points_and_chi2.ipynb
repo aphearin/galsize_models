{
 "cells": [
  {
   "cell_type": "code",
   "execution_count": 1,
   "metadata": {
    "collapsed": true
   },
   "outputs": [],
   "source": [
    "%matplotlib inline"
   ]
  },
  {
   "cell_type": "code",
   "execution_count": 2,
   "metadata": {
    "collapsed": true
   },
   "outputs": [],
   "source": [
    "from galsize_models.measurements import load_umachine_sdss_with_meert15\n",
    "full_sdss, behroozi_complete = load_umachine_sdss_with_meert15()\n",
    "no_data_mask = np.isnan(full_sdss['Magr_tot_meert15'])\n",
    "\n",
    "mask = ~no_data_mask & behroozi_complete\n",
    "sdss = full_sdss[mask]\n",
    "\n",
    "mask_sf = sdss['ssfr'] >= -10.75\n",
    "mask_gv = (sdss['ssfr'] < -10.75) & (sdss['ssfr'] >= -11.25)\n",
    "mask_q = (sdss['ssfr'] < -11.25)\n",
    "\n",
    "from galsize_models.measurements.sdss_covariance import sdss_measurements_and_cov\n",
    "sdss_data_vector, sdss_cov = sdss_measurements_and_cov()"
   ]
  },
  {
   "cell_type": "code",
   "execution_count": 3,
   "metadata": {},
   "outputs": [
    {
     "name": "stdout",
     "output_type": "stream",
     "text": [
      "Total runtime = 41.01 seconds\n"
     ]
    }
   ],
   "source": [
    "from galsize_models.models.load_baseline_catalogs import load_umachine_mock\n",
    "mock = load_umachine_mock()"
   ]
  },
  {
   "cell_type": "markdown",
   "metadata": {},
   "source": [
    "# Inspect specific model"
   ]
  },
  {
   "cell_type": "code",
   "execution_count": 13,
   "metadata": {},
   "outputs": [
    {
     "name": "stdout",
     "output_type": "stream",
     "text": [
      "norm_bulge bulge_to_disk_size_ratio alpha_bulge alpha_disk scatter  lnprob\n",
      "---------- ------------------------ ----------- ---------- ------- -------\n",
      "    0.0032                   0.4143      1.1449      1.084  0.1059 -6.0373\n"
     ]
    }
   ],
   "source": [
    "from galsize_models.models.bulge_disk_double_power_law import data_vector_prediction\n",
    "from galsize_models.measurements.sdss_covariance import logsm_bins, logsm_mids\n",
    "from astropy.table import Table \n",
    "\n",
    "chain_fname = \"bulge_disk_power_law_chain_aggressive_priors.dat\"\n",
    "\n",
    "itest = -1\n",
    "try:\n",
    "    chain = Table.read(chain_fname, format='ascii')\n",
    "    chain.sort('lnprob')\n",
    "    row = chain[itest]\n",
    "    params = [row[key] for key in row.colnames if key != 'lnprob']\n",
    "    lnprob = row['lnprob']\n",
    "    print(row)\n",
    "except:\n",
    "    norm_bulge = 0.0032\n",
    "    bulge_to_disk_size_ratio = 0.4143\n",
    "    alpha_bulge = 1.1449\n",
    "    alpha_disk = 1.084\n",
    "    scatter = 0.1059\n",
    "    params = norm_bulge, bulge_to_disk_size_ratio, alpha_bulge, alpha_disk, scatter\n",
    "    \n",
    "model_data_vector = data_vector_prediction(params, mock, logsm_bins)\n",
    "\n"
   ]
  },
  {
   "cell_type": "code",
   "execution_count": 104,
   "metadata": {
    "collapsed": true
   },
   "outputs": [],
   "source": [
    "norm_bulge = 0.0032\n",
    "bulge_to_disk_size_ratio = 0.4143\n",
    "alpha_bulge = 1.1449\n",
    "alpha_disk = 1.084\n",
    "scatter = 0.1059\n",
    "\n",
    "norm_bulge = 0.002\n",
    "bulge_to_disk_size_ratio = 0.12\n",
    "alpha_bulge = 1.15\n",
    "alpha_disk = 1.\n",
    "scatter = 0.1\n",
    "\n",
    "params2 = norm_bulge, bulge_to_disk_size_ratio, alpha_bulge, alpha_disk, scatter  \n",
    "model_data_vector2 = data_vector_prediction(params2, mock, logsm_bins)\n"
   ]
  },
  {
   "cell_type": "code",
   "execution_count": null,
   "metadata": {},
   "outputs": [],
   "source": []
  },
  {
   "cell_type": "code",
   "execution_count": 105,
   "metadata": {},
   "outputs": [
    {
     "data": {
      "image/png": "[encoded data removed]",
      "text/plain": [
       "<matplotlib.figure.Figure at 0x12c20af10>"
      ]
     },
     "metadata": {},
     "output_type": "display_data"
    }
   ],
   "source": [
    "from galsize_models.measurements.sdss_covariance import _get_ifirst_ilast_indices\n",
    "from matplotlib import ticker\n",
    "\n",
    "fig, axes = plt.subplots(2, 2, figsize=(8, 8), sharex=True)\n",
    "(ax1, ax2), (ax3, ax4) = axes\n",
    "axis_list = (ax1, ax2, ax3, ax4)\n",
    "__=ax1.loglog(); __=ax2.loglog(); __=ax3.loglog(); __=ax4.set_xscale('log')\n",
    "\n",
    "for ax in axis_list[:-1]:\n",
    "    ylim = ax.set_ylim(1, 10)\n",
    "    __=ax.get_yaxis().set_major_formatter(ticker.ScalarFormatter())\n",
    "    __=ax.get_yaxis().set_minor_formatter(ticker.NullFormatter())\n",
    "    __=ax.set_yticks((1, 2, 3, 5, 10))\n",
    "\n",
    "\n",
    "\n",
    "ifirst, ilast = _get_ifirst_ilast_indices(0)\n",
    "nskip = ilast-ifirst\n",
    "__=ax1.plot(10**logsm_mids[:nskip], sdss_data_vector[ifirst:ilast], color='blue')\n",
    "__=ax1.plot(10**logsm_mids[:nskip], model_data_vector[ifirst:ilast], '--', color='blue')\n",
    "__=ax1.plot(10**logsm_mids[:nskip], model_data_vector2[ifirst:ilast], '-.', color='blue')\n",
    "\n",
    "ifirst, ilast = _get_ifirst_ilast_indices(1)\n",
    "nskip = ilast-ifirst\n",
    "__=ax2.plot(10**logsm_mids[:nskip], sdss_data_vector[ifirst:ilast], color='green')\n",
    "__=ax2.plot(10**logsm_mids[:nskip], model_data_vector[ifirst:ilast], '--', color='green')\n",
    "__=ax2.plot(10**logsm_mids[:nskip], model_data_vector2[ifirst:ilast], '-.', color='green')\n",
    "\n",
    "ifirst, ilast = _get_ifirst_ilast_indices(2)\n",
    "nskip = ilast-ifirst\n",
    "__=ax3.plot(10**logsm_mids[:nskip], sdss_data_vector[ifirst:ilast], color='red')\n",
    "__=ax3.plot(10**logsm_mids[:nskip], model_data_vector[ifirst:ilast], '--', color='red')\n",
    "__=ax3.plot(10**logsm_mids[:nskip], model_data_vector2[ifirst:ilast], '-.', color='red')\n",
    "\n",
    "ifirst, ilast = _get_ifirst_ilast_indices(3)\n",
    "_x = np.logspace(9, 12, len(logsm_mids))\n",
    "y_data = np.zeros_like(logsm_mids) + sdss_data_vector[ifirst]\n",
    "y_model = np.zeros_like(logsm_mids) + model_data_vector[ifirst]\n",
    "y_model2 = np.zeros_like(logsm_mids) + model_data_vector2[ifirst]\n",
    "__=ax4.plot(_x, y_data, color='blue')\n",
    "__=ax4.plot(_x, y_model, '--', color='blue')\n",
    "__=ax4.plot(_x, y_model2, '-.', color='blue')\n",
    "# ifirst, ilast = _get_ifirst_ilast_indices(5)\n",
    "# y_data = np.zeros_like(logsm_mids) + sdss_data_vector[ifirst]\n",
    "# y_model = np.zeros_like(logsm_mids) + model_data_vector[ifirst]\n",
    "# __=ax4.plot(_x, y_data, color='red')\n",
    "# __=ax4.plot(_x, y_model, '--', color='red')\n",
    "\n",
    "\n",
    "for ax in axis_list:\n",
    "    xlim = ax.set_xlim(10**9.5, 10**11.5)\n",
    "\n",
    "ylim4 = ax.set_ylim(0, 0.3)\n"
   ]
  },
  {
   "cell_type": "code",
   "execution_count": null,
   "metadata": {
    "collapsed": true
   },
   "outputs": [],
   "source": []
  },
  {
   "cell_type": "code",
   "execution_count": null,
   "metadata": {
    "collapsed": true
   },
   "outputs": [],
   "source": []
  }
 ],
 "metadata": {
  "kernelspec": {
   "display_name": "Python [conda root]",
   "language": "python",
   "name": "conda-root-py"
  },
  "language_info": {
   "codemirror_mode": {
    "name": "ipython",
    "version": 2
   },
   "file_extension": ".py",
   "mimetype": "text/x-python",
   "name": "python",
   "nbconvert_exporter": "python",
   "pygments_lexer": "ipython2",
   "version": "2.7.13"
  }
 },
 "nbformat": 4,
 "nbformat_minor": 2
}
