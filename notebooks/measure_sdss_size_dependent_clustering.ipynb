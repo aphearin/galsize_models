{
 "cells": [
  {
   "cell_type": "code",
   "execution_count": 1,
   "metadata": {
    "collapsed": true
   },
   "outputs": [],
   "source": [
    "%matplotlib inline"
   ]
  },
  {
   "cell_type": "code",
   "execution_count": 2,
   "metadata": {
    "collapsed": true
   },
   "outputs": [],
   "source": [
    "from galsize_models.measurements import load_umachine_sdss_with_meert15\n",
    "umachine_sdss, is_complete = load_umachine_sdss_with_meert15()"
   ]
  },
  {
   "cell_type": "code",
   "execution_count": 3,
   "metadata": {},
   "outputs": [],
   "source": [
    "from scipy.stats import binned_statistic\n",
    "\n",
    "goodmask = ~np.isnan(umachine_sdss['r50_magr_kpc_meert15'])\n",
    "x = umachine_sdss['sm'][goodmask]\n",
    "values = umachine_sdss['r50_magr_kpc_meert15'][goodmask]\n",
    "median_size_all, sm_bins_all, __  = binned_statistic(x, values, statistic='median')\n",
    "sm_mids_all = 0.5*(sm_bins_all[:-1] + sm_bins_all[1:])\n",
    "size_cut_all = np.interp(umachine_sdss['sm'], sm_mids_all, median_size_all)\n",
    "low_size_mask_all = umachine_sdss['r50_magr_kpc_meert15'] < size_cut_all\n",
    "high_size_mask_all = umachine_sdss['r50_magr_kpc_meert15'] >= size_cut_all\n",
    "\n",
    "qmask = goodmask & (umachine_sdss['ssfr'] < -11)\n",
    "x = umachine_sdss['sm'][qmask]\n",
    "values = umachine_sdss['r50_magr_kpc_meert15'][qmask]\n",
    "median_size_q, sm_bins_q, __ = binned_statistic(x, values, statistic='median')\n",
    "sm_mids_q = 0.5*(sm_bins_q[:-1] + sm_bins_q[1:])\n",
    "size_cut_q = np.interp(umachine_sdss['sm'], sm_mids_q, median_size_q)\n",
    "low_size_mask_q = (umachine_sdss['r50_magr_kpc_meert15'] < size_cut_q)*(umachine_sdss['ssfr'] < -11)\n",
    "high_size_mask_q = (umachine_sdss['r50_magr_kpc_meert15'] >= size_cut_q)*(umachine_sdss['ssfr'] < -11)\n",
    "\n",
    "sfmask = goodmask & (umachine_sdss['ssfr'] < -11)\n",
    "x = umachine_sdss['sm'][sfmask]\n",
    "values = umachine_sdss['r50_magr_kpc_meert15'][sfmask]\n",
    "median_size_sf, sm_bins_sf, __ = binned_statistic(x, values, statistic='median')\n",
    "sm_mids_sf = 0.5*(sm_bins_sf[:-1] + sm_bins_sf[1:])\n",
    "size_cut_sf = np.interp(umachine_sdss['sm'], sm_mids_sf, median_size_sf)\n",
    "low_size_mask_sf = (umachine_sdss['r50_magr_kpc_meert15'] < size_cut_sf)*(umachine_sdss['ssfr'] >= -11)\n",
    "high_size_mask_sf = (umachine_sdss['r50_magr_kpc_meert15'] >= size_cut_sf)*(umachine_sdss['ssfr'] >= -11)\n"
   ]
  },
  {
   "cell_type": "code",
   "execution_count": 4,
   "metadata": {},
   "outputs": [],
   "source": [
    "from galsize_models.measurements.measure_sdss_clustering import get_wp_measurements, write_umachine_ascii\n",
    "import os\n",
    "dirname = \"/Users/aphearin/work/repositories/python/galsize_models/build/lib.macosx-10.9-x86_64-2.7\"\n",
    "\n",
    "q_fname = os.path.join(dirname, 'q.dat')\n",
    "sf_fname = os.path.join(dirname, 'sf.dat')\n",
    "\n",
    "low_sizes_q_fname = os.path.join(dirname, 'low_sizes_q.dat')\n",
    "low_sizes_sf_fname = os.path.join(dirname, 'low_sizes_sf.dat')\n",
    "high_sizes_q_fname = os.path.join(dirname, 'high_sizes_q.dat')\n",
    "high_sizes_sf_fname = os.path.join(dirname, 'high_sizes_sf.dat')\n",
    "\n",
    "low_sizes_all_fname = os.path.join(dirname, 'low_sizes_all.dat')\n",
    "high_sizes_all_fname = os.path.join(dirname, 'high_sizes_all.dat')\n",
    "\n",
    "\n",
    "write_umachine_ascii(umachine_sdss[low_size_mask_q], low_sizes_q_fname, overwrite=True)\n",
    "write_umachine_ascii(umachine_sdss[high_size_mask_q], high_sizes_q_fname, overwrite=True)\n",
    "write_umachine_ascii(umachine_sdss[low_size_mask_sf], low_sizes_sf_fname, overwrite=True)\n",
    "write_umachine_ascii(umachine_sdss[high_size_mask_sf], high_sizes_sf_fname, overwrite=True)\n",
    "write_umachine_ascii(umachine_sdss[high_size_mask_all], high_sizes_all_fname, overwrite=True)\n",
    "write_umachine_ascii(umachine_sdss[low_size_mask_all], low_sizes_all_fname, overwrite=True)\n",
    "\n",
    "\n",
    "write_umachine_ascii(umachine_sdss[qmask], q_fname, overwrite=True)\n",
    "write_umachine_ascii(umachine_sdss[sfmask], sf_fname, overwrite=True)\n"
   ]
  },
  {
   "cell_type": "code",
   "execution_count": 5,
   "metadata": {
    "collapsed": true
   },
   "outputs": [],
   "source": [
    "low_size_q_results = get_wp_measurements(low_sizes_q_fname, 9.75, 10.25, 20)\n",
    "rp_low_size_q, wp_low_size_q, wperr_low_size_q = low_size_q_results[:, 0], low_size_q_results[:, 1], low_size_q_results[:, 2]\n",
    "\n",
    "low_size_sf_results = get_wp_measurements(low_sizes_sf_fname, 9.75, 10.25, 20)\n",
    "rp_low_size_sf, wp_low_size_sf, wperr_low_size_sf = low_size_sf_results[:, 0], low_size_sf_results[:, 1], low_size_sf_results[:, 2]"
   ]
  },
  {
   "cell_type": "code",
   "execution_count": null,
   "metadata": {
    "collapsed": true
   },
   "outputs": [],
   "source": [
    "high_size_q_results = get_wp_measurements(high_sizes_q_fname, 9.75, 10.25, 20)\n",
    "rp_high_size_q, wp_high_size_q, wperr_high_size_q = high_size_q_results[:, 0], high_size_q_results[:, 1], high_size_q_results[:, 2]\n",
    "\n",
    "high_size_sf_results = get_wp_measurements(high_sizes_sf_fname, 9.75, 10.25, 20)\n",
    "rp_high_size_sf, wp_high_size_sf, wperr_high_size_sf = high_size_sf_results[:, 0], high_size_sf_results[:, 1], high_size_sf_results[:, 2]"
   ]
  },
  {
   "cell_type": "code",
   "execution_count": null,
   "metadata": {},
   "outputs": [],
   "source": [
    "low_size_all_results = get_wp_measurements(low_sizes_all_fname, 9.75, 10.25, 20)\n",
    "rp_low_size_all, wp_low_size_all, wperr_low_size_all = low_size_all_results[:, 0], low_size_all_results[:, 1], low_size_all_results[:, 2]\n",
    "\n",
    "high_size_all_results = get_wp_measurements(high_sizes_all_fname, 9.75, 10.25, 20)\n",
    "rp_high_size_all, wp_high_size_all, wperr_high_size_all = high_size_all_results[:, 0], high_size_all_results[:, 1], high_size_all_results[:, 2]\n"
   ]
  },
  {
   "cell_type": "code",
   "execution_count": null,
   "metadata": {
    "collapsed": true
   },
   "outputs": [],
   "source": [
    "q_results = get_wp_measurements(q_fname, 9.75, 10.25, 20)\n",
    "rp_q, wp_q, wperr_q = q_results[:, 0], q_results[:, 1], q_results[:, 2]\n",
    "\n",
    "sf_results = get_wp_measurements(sf_fname, 9.75, 10.25, 20)\n",
    "rp_sf, wp_sf, wperr_sf = sf_results[:, 0], sf_results[:, 1], sf_results[:, 2]\n"
   ]
  },
  {
   "cell_type": "code",
   "execution_count": null,
   "metadata": {},
   "outputs": [],
   "source": [
    "wp_low_size_q_interp = np.interp(rp_q, rp_low_size_q, wp_low_size_q)\n",
    "wp_low_size_sf_interp = np.interp(rp_sf, rp_low_size_sf, wp_low_size_sf)\n",
    "wp_high_size_q_interp = np.interp(rp_q, rp_high_size_q, wp_high_size_q)\n",
    "wp_high_size_sf_interp = np.interp(rp_sf, rp_high_size_sf, wp_high_size_sf)\n",
    "\n",
    "fracdiff_q = (wp_low_size_q_interp - wp_high_size_q_interp)/wp_q\n",
    "fracdiff_sf = (wp_low_size_sf_interp - wp_high_size_sf_interp)/wp_sf\n",
    "\n",
    "fig, ax = plt.subplots(1, 1)\n",
    "\n",
    "xscale = ax.set_xscale('log')\n",
    "\n",
    "__=ax.plot(rp_q, fracdiff_q, color='red')\n",
    "__=ax.plot(rp_sf, fracdiff_sf, color='blue')\n",
    "\n",
    "xlim = ax.set_xlim(0.1, 20)\n",
    "ylim = ax.set_ylim(-1, 1)"
   ]
  },
  {
   "cell_type": "code",
   "execution_count": null,
   "metadata": {},
   "outputs": [],
   "source": [
    "fig, ax = plt.subplots(1, 1)\n",
    "\n",
    "__=ax.loglog()\n",
    "\n",
    "__=ax.plot(rp_low_size_q, wp_low_size_q, color='red')\n",
    "__=ax.plot(rp_high_size_q, wp_high_size_q, '--', color='red')\n",
    "\n",
    "__=ax.plot(rp_low_size_sf, wp_low_size_sf, color='blue')\n",
    "__=ax.plot(rp_high_size_sf, wp_high_size_sf, '--', color='blue')\n",
    "\n",
    "xlim = ax.set_xlim(0.1, 20)\n"
   ]
  },
  {
   "cell_type": "code",
   "execution_count": null,
   "metadata": {
    "collapsed": true
   },
   "outputs": [],
   "source": []
  }
 ],
 "metadata": {
  "kernelspec": {
   "display_name": "Python [conda root]",
   "language": "python",
   "name": "conda-root-py"
  },
  "language_info": {
   "codemirror_mode": {
    "name": "ipython",
    "version": 2
   },
   "file_extension": ".py",
   "mimetype": "text/x-python",
   "name": "python",
   "nbconvert_exporter": "python",
   "pygments_lexer": "ipython2",
   "version": "2.7.13"
  }
 },
 "nbformat": 4,
 "nbformat_minor": 2
}
