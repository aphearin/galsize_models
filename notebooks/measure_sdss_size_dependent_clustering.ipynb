{
 "cells": [
  {
   "cell_type": "code",
   "execution_count": 1,
   "metadata": {
    "collapsed": true
   },
   "outputs": [],
   "source": [
    "%matplotlib inline"
   ]
  },
  {
   "cell_type": "code",
   "execution_count": 2,
   "metadata": {
    "collapsed": true
   },
   "outputs": [],
   "source": [
    "from galsize_models.measurements.measure_sdss_clustering import get_wp_measurements, write_umachine_ascii"
   ]
  },
  {
   "cell_type": "code",
   "execution_count": 3,
   "metadata": {
    "collapsed": true
   },
   "outputs": [],
   "source": [
    "from galsize_models.measurements import load_umachine_sdss_with_meert15\n",
    "umachine_sdss, is_complete = load_umachine_sdss_with_meert15()"
   ]
  },
  {
   "cell_type": "code",
   "execution_count": 4,
   "metadata": {},
   "outputs": [
    {
     "name": "stdout",
     "output_type": "stream",
     "text": [
      "['ra', 'dec', 'z', 'bptclass', 'sm', 'sfr', 'specsfr', 'sm_fib', 'sfr_fib', 'specsfr_fib', 'withinr', 'eligiblehost', 'sm_complete', 'eligiblehost2', 'd4000', 'd4000_sub', 'd4000_n', 'd4000_n_sub', 'has_match', 'logM_mendel13', 'logMB_mendel13', 'logMD_mendel13', 'pps_mendel13', 'type_mendel13', 'deltaBD_mendel13', 'dr7_objID', 'has_meert15_match', 'r50_magr_kpc_meert15', 'Magr_tot_meert15', 'Magr_bulge_meert15', 'Magr_disk_meert15', 'gr_bulge_meert15', 'gr_disk_meert15', 'morph_type_T_meert15', 'gr_kcorr_meert15', 'bulge_to_total_rband_meert15']\n"
     ]
    }
   ],
   "source": [
    "print(umachine_sdss.keys())"
   ]
  },
  {
   "cell_type": "code",
   "execution_count": 5,
   "metadata": {},
   "outputs": [
    {
     "data": {
      "image/png": "[encoded data removed]",
      "text/plain": [
       "<matplotlib.figure.Figure at 0x1131de6d0>"
      ]
     },
     "metadata": {},
     "output_type": "display_data"
    }
   ],
   "source": [
    "sm_bin_edges = np.arange(9.5, 11.5+0.15, 0.15)\n",
    "\n",
    "sm_mids = 0.5*(sm_bin_edges[:-1] + sm_bin_edges[1:])\n",
    "\n",
    "median_size = np.zeros_like(sm_mids)\n",
    "\n",
    "for ism, sm_low, sm_high in zip(range(len(sm_mids)), sm_bin_edges[:-1], sm_bin_edges[1:]):\n",
    "    mask = (umachine_sdss['sm'] >= sm_low) & (umachine_sdss['sm'] < sm_high)\n",
    "    mask *= ~np.isnan(umachine_sdss['r50_magr_kpc_meert15'])\n",
    "    \n",
    "#     msg = \"Number of galaxies in bin {0} with {1:.2f} < sm < {2:.2f} = {3}\"\n",
    "#     print(msg.format(ism, sm_low, sm_high, np.count_nonzero(mask)))\n",
    "    median_size[ism] = np.median(umachine_sdss['r50_magr_kpc_meert15'][mask])\n",
    "    \n",
    "fig, ax = plt.subplots(1, 1)\n",
    "\n",
    "__=ax.plot(sm_mids, median_size)"
   ]
  },
  {
   "cell_type": "code",
   "execution_count": 6,
   "metadata": {},
   "outputs": [],
   "source": [
    "size_cut = np.interp(umachine_sdss['sm'], sm_mids, median_size)\n",
    "low_size_mask = umachine_sdss['r50_magr_kpc_meert15'] < size_cut"
   ]
  },
  {
   "cell_type": "code",
   "execution_count": 7,
   "metadata": {},
   "outputs": [],
   "source": [
    "import os\n",
    "dirname = \"/Users/aphearin/work/repositories/python/galsize_models/build/lib.macosx-10.9-x86_64-2.7\"\n",
    "low_sizes_fname = os.path.join(dirname, 'low_sizes.dat')\n",
    "high_sizes_fname = os.path.join(dirname, 'high_sizes.dat')\n",
    "write_umachine_ascii(umachine_sdss[low_size_mask], low_sizes_fname, overwrite=True)\n",
    "write_umachine_ascii(umachine_sdss[~low_size_mask], high_sizes_fname, overwrite=True)"
   ]
  },
  {
   "cell_type": "code",
   "execution_count": 17,
   "metadata": {},
   "outputs": [
    {
     "data": {
      "image/png": "[encoded data removed]",
      "text/plain": [
       "<matplotlib.figure.Figure at 0x119f7a4d0>"
      ]
     },
     "metadata": {},
     "output_type": "display_data"
    }
   ],
   "source": [
    "\n",
    "low_size_results = get_wp_measurements(low_sizes_fname, 9.75, 10.25, 20)\n",
    "rp_low_size, wp_low_size, wperr_low_size = low_size_results[:, 0], low_size_results[:, 1], low_size_results[:, 2]\n",
    "\n",
    "high_size_results = get_wp_measurements(high_sizes_fname, 9.75, 10.25, 20)\n",
    "rp_high_size, wp_high_size, wperr_high_size = high_size_results[:, 0], high_size_results[:, 1], high_size_results[:, 2]\n",
    "\n",
    "fig, ax = plt.subplots(1, 1)\n",
    "\n",
    "ax.loglog()\n",
    "\n",
    "__=ax.plot(rp_low_size, wp_low_size, label='low size')\n",
    "__=ax.plot(rp_high_size, wp_high_size, label='high size')\n",
    "legend = ax.legend()"
   ]
  },
  {
   "cell_type": "code",
   "execution_count": null,
   "metadata": {},
   "outputs": [],
   "source": []
  },
  {
   "cell_type": "code",
   "execution_count": null,
   "metadata": {},
   "outputs": [],
   "source": []
  },
  {
   "cell_type": "code",
   "execution_count": null,
   "metadata": {
    "collapsed": true
   },
   "outputs": [],
   "source": [
    "\n"
   ]
  },
  {
   "cell_type": "code",
   "execution_count": null,
   "metadata": {
    "collapsed": true
   },
   "outputs": [],
   "source": []
  }
 ],
 "metadata": {
  "kernelspec": {
   "display_name": "Python [conda root]",
   "language": "python",
   "name": "conda-root-py"
  },
  "language_info": {
   "codemirror_mode": {
    "name": "ipython",
    "version": 2
   },
   "file_extension": ".py",
   "mimetype": "text/x-python",
   "name": "python",
   "nbconvert_exporter": "python",
   "pygments_lexer": "ipython2",
   "version": "2.7.13"
  }
 },
 "nbformat": 4,
 "nbformat_minor": 2
}
