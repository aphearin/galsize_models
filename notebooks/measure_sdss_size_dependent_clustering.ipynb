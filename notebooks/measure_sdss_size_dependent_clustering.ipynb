{
 "cells": [
  {
   "cell_type": "code",
   "execution_count": 1,
   "metadata": {
    "collapsed": true
   },
   "outputs": [],
   "source": [
    "%matplotlib inline"
   ]
  },
  {
   "cell_type": "code",
   "execution_count": 2,
   "metadata": {},
   "outputs": [
    {
     "name": "stdout",
     "output_type": "stream",
     "text": [
      "Number of M*-complete SDSS galaxies with good profile measurements = 223253\n"
     ]
    }
   ],
   "source": [
    "from galsize_models.measurements import load_umachine_sdss_with_meert15\n",
    "umachine_sdss, is_complete = load_umachine_sdss_with_meert15()\n",
    "\n",
    "good_profile_mask = ~np.isnan(umachine_sdss['r50_magr_kpc_meert15'])\n",
    "good_profile_mask *= ~np.isnan(umachine_sdss['logMB_mendel13'])\n",
    "good_profile_mask *= ~np.isnan(umachine_sdss['logMD_mendel13'])\n",
    "good_profile_mask *= umachine_sdss['logMD_mendel13'] > 0\n",
    "good_profile_mask *= umachine_sdss['logMB_mendel13'] > 0\n",
    "\n",
    "mask = is_complete & good_profile_mask\n",
    "sdss = umachine_sdss[mask]\n",
    "print(\"Number of M*-complete SDSS galaxies with good profile measurements = {0}\".format(len(sdss)))\n"
   ]
  },
  {
   "cell_type": "code",
   "execution_count": 3,
   "metadata": {
    "collapsed": true
   },
   "outputs": [],
   "source": [
    "from galsize_models.measurements import mendel13_bulge_to_total\n",
    "\n",
    "sf_mask = sdss['ssfr'] >= -10.75\n",
    "q_mask = sdss['ssfr'] < -11.25\n",
    "gv_mask = ~sf_mask & ~q_mask\n",
    "\n",
    "sm10p0_mask = sdss['sm'] > 10\n",
    "sm10p5_mask = sdss['sm'] > 10.5\n",
    "\n",
    "meert15_bulge_dom_mask = sdss['bulge_to_total_rband_meert15'] > 0.75\n",
    "meert15_disk_dom_mask = sdss['bulge_to_total_rband_meert15'] < 0.25\n",
    "\n",
    "mendel13_bulge_dom_mask = mendel13_bulge_to_total(sdss) > 0.75\n",
    "mendel13_disk_dom_mask = mendel13_bulge_to_total(sdss) < 0.25"
   ]
  },
  {
   "cell_type": "code",
   "execution_count": 4,
   "metadata": {},
   "outputs": [],
   "source": [
    "sdss_sm10p0 = sdss[sm10p0_mask]\n",
    "sdss_sm10p5 = sdss[sm10p5_mask]\n",
    "\n",
    "sdss_sm10p0_sf = sdss[sm10p0_mask & sf_mask]\n",
    "sdss_sm10p5_sf = sdss[sm10p5_mask & sf_mask]\n",
    "\n",
    "sdss_sm10p0_gv = sdss[sm10p0_mask & gv_mask]\n",
    "sdss_sm10p5_gv = sdss[sm10p5_mask & gv_mask]\n",
    "\n",
    "sdss_sm10p0_q = sdss[sm10p0_mask & q_mask]\n",
    "sdss_sm10p5_q = sdss[sm10p5_mask & q_mask]\n",
    "\n",
    "sdss_sm10p0_meert15_bulge_dom = sdss[sm10p0_mask & meert15_bulge_dom_mask]\n",
    "sdss_sm10p5_meert15_bulge_dom = sdss[sm10p5_mask & meert15_bulge_dom_mask]\n",
    "\n",
    "sdss_sm10p0_mendel13_bulge_dom = sdss[sm10p0_mask & mendel13_bulge_dom_mask]\n",
    "sdss_sm10p5_mendel13_bulge_dom = sdss[sm10p5_mask & mendel13_bulge_dom_mask]\n",
    "\n",
    "sdss_sm10p0_meert15_disk_dom = sdss[sm10p0_mask & meert15_disk_dom_mask]\n",
    "sdss_sm10p5_meert15_disk_dom = sdss[sm10p5_mask & meert15_disk_dom_mask]\n",
    "\n",
    "sdss_sm10p0_mendel13_disk_dom = sdss[sm10p0_mask & mendel13_disk_dom_mask]\n",
    "sdss_sm10p5_mendel13_disk_dom = sdss[sm10p5_mask & mendel13_disk_dom_mask]\n",
    "\n",
    "sdss_sm10p0_sf_meert15_bulge_dom = sdss[sm10p0_mask & sf_mask & meert15_bulge_dom_mask]\n",
    "sdss_sm10p5_sf_meert15_bulge_dom = sdss[sm10p5_mask & sf_mask & meert15_bulge_dom_mask]\n",
    "\n",
    "sdss_sm10p0_gv_meert15_bulge_dom = sdss[sm10p0_mask & gv_mask & meert15_bulge_dom_mask]\n",
    "sdss_sm10p5_gv_meert15_bulge_dom = sdss[sm10p5_mask & gv_mask & meert15_bulge_dom_mask]\n",
    "\n",
    "sdss_sm10p0_q_meert15_bulge_dom = sdss[sm10p0_mask & q_mask & meert15_bulge_dom_mask]\n",
    "sdss_sm10p5_q_meert15_bulge_dom = sdss[sm10p5_mask & q_mask & meert15_bulge_dom_mask]\n",
    "\n",
    "sdss_sm10p0_sf_mendel13_bulge_dom = sdss[sm10p0_mask & sf_mask & mendel13_bulge_dom_mask]\n",
    "sdss_sm10p5_sf_mendel13_bulge_dom = sdss[sm10p5_mask & sf_mask & mendel13_bulge_dom_mask]\n",
    "\n",
    "sdss_sm10p0_gv_mendel13_bulge_dom = sdss[sm10p0_mask & gv_mask & mendel13_bulge_dom_mask]\n",
    "sdss_sm10p5_gv_mendel13_bulge_dom = sdss[sm10p5_mask & gv_mask & mendel13_bulge_dom_mask]\n",
    "\n",
    "sdss_sm10p0_q_mendel13_bulge_dom = sdss[sm10p0_mask & q_mask & mendel13_bulge_dom_mask]\n",
    "sdss_sm10p5_q_mendel13_bulge_dom = sdss[sm10p5_mask & q_mask & mendel13_bulge_dom_mask]\n",
    "\n",
    "sdss_sm10p0_sf_meert15_disk_dom = sdss[sm10p0_mask & sf_mask & meert15_disk_dom_mask]\n",
    "sdss_sm10p5_sf_meert15_disk_dom = sdss[sm10p5_mask & sf_mask & meert15_disk_dom_mask]\n",
    "\n",
    "sdss_sm10p0_gv_meert15_disk_dom = sdss[sm10p0_mask & gv_mask & meert15_disk_dom_mask]\n",
    "sdss_sm10p5_gv_meert15_disk_dom = sdss[sm10p5_mask & gv_mask & meert15_disk_dom_mask]\n",
    "\n",
    "sdss_sm10p0_q_meert15_disk_dom = sdss[sm10p0_mask & q_mask & meert15_disk_dom_mask]\n",
    "sdss_sm10p5_q_meert15_disk_dom = sdss[sm10p5_mask & q_mask & meert15_disk_dom_mask]\n",
    "\n",
    "sdss_sm10p0_sf_mendel13_disk_dom = sdss[sm10p0_mask & sf_mask & mendel13_disk_dom_mask]\n",
    "sdss_sm10p5_sf_mendel13_disk_dom = sdss[sm10p5_mask & sf_mask & mendel13_disk_dom_mask]\n",
    "\n",
    "sdss_sm10p0_gv_mendel13_disk_dom = sdss[sm10p0_mask & gv_mask & mendel13_disk_dom_mask]\n",
    "sdss_sm10p5_gv_mendel13_disk_dom = sdss[sm10p5_mask & gv_mask & mendel13_disk_dom_mask]\n",
    "\n",
    "sdss_sm10p0_q_mendel13_disk_dom = sdss[sm10p0_mask & q_mask & mendel13_disk_dom_mask]\n",
    "sdss_sm10p5_q_mendel13_disk_dom = sdss[sm10p5_mask & q_mask & mendel13_disk_dom_mask]"
   ]
  },
  {
   "cell_type": "code",
   "execution_count": 5,
   "metadata": {
    "collapsed": true
   },
   "outputs": [],
   "source": [
    "from galsize_models.measurements.split_sdss_sample_rhalf import sdss_sample_below_median_size\n",
    "\n",
    "_small_size_mask = sdss_sample_below_median_size(sdss_sm10p0)\n",
    "sdss_sm10p0_small = sdss_sm10p0[_small_size_mask]\n",
    "sdss_sm10p0_large = sdss_sm10p0[~_small_size_mask]\n",
    "\n",
    "_small_size_mask = sdss_sample_below_median_size(sdss_sm10p5)\n",
    "sdss_sm10p5_small = sdss_sm10p5[_small_size_mask]\n",
    "sdss_sm10p5_large = sdss_sm10p5[~_small_size_mask]\n",
    "\n",
    "_small_size_mask = sdss_sample_below_median_size(sdss_sm10p0_sf)\n",
    "sdss_sm10p0_sf_small = sdss_sm10p0_sf[_small_size_mask]\n",
    "sdss_sm10p0_sf_large = sdss_sm10p0_sf[~_small_size_mask]\n",
    "\n",
    "_small_size_mask = sdss_sample_below_median_size(sdss_sm10p5_sf)\n",
    "sdss_sm10p5_sf_small = sdss_sm10p5_sf[_small_size_mask]\n",
    "sdss_sm10p5_sf_large = sdss_sm10p5_sf[~_small_size_mask]\n",
    "\n",
    "_small_size_mask = sdss_sample_below_median_size(sdss_sm10p0_gv)\n",
    "sdss_sm10p0_gv_small = sdss_sm10p0_gv[_small_size_mask]\n",
    "sdss_sm10p0_gv_large = sdss_sm10p0_gv[~_small_size_mask]\n",
    "\n",
    "_small_size_mask = sdss_sample_below_median_size(sdss_sm10p5_gv)\n",
    "sdss_sm10p5_gv_small = sdss_sm10p5_gv[_small_size_mask]\n",
    "sdss_sm10p5_gv_large = sdss_sm10p5_gv[~_small_size_mask]\n",
    "\n",
    "_small_size_mask = sdss_sample_below_median_size(sdss_sm10p0_q)\n",
    "sdss_sm10p0_q_small = sdss_sm10p0_q[_small_size_mask]\n",
    "sdss_sm10p0_q_large = sdss_sm10p0_q[~_small_size_mask]\n",
    "\n",
    "_small_size_mask = sdss_sample_below_median_size(sdss_sm10p5_q)\n",
    "sdss_sm10p5_q_small = sdss_sm10p5_q[_small_size_mask]\n",
    "sdss_sm10p5_q_large = sdss_sm10p5_q[~_small_size_mask]\n",
    "\n",
    "_small_size_mask = sdss_sample_below_median_size(sdss_sm10p0_meert15_disk_dom)\n",
    "sdss_sm10p0_meert15_disk_dom_small = sdss_sm10p0_meert15_disk_dom[_small_size_mask]\n",
    "sdss_sm10p0_meert15_disk_dom_large = sdss_sm10p0_meert15_disk_dom[~_small_size_mask]\n",
    "\n",
    "_small_size_mask = sdss_sample_below_median_size(sdss_sm10p0_meert15_bulge_dom)\n",
    "sdss_sm10p0_meert15_bulge_dom_small = sdss_sm10p0_meert15_bulge_dom[_small_size_mask]\n",
    "sdss_sm10p0_meert15_bulge_dom_large = sdss_sm10p0_meert15_bulge_dom[~_small_size_mask]\n",
    "\n",
    "_small_size_mask = sdss_sample_below_median_size(sdss_sm10p5_meert15_disk_dom)\n",
    "sdss_sm10p5_meert15_disk_dom_small = sdss_sm10p5_meert15_disk_dom[_small_size_mask]\n",
    "sdss_sm10p5_meert15_disk_dom_large = sdss_sm10p5_meert15_disk_dom[~_small_size_mask]\n",
    "\n",
    "_small_size_mask = sdss_sample_below_median_size(sdss_sm10p5_meert15_bulge_dom)\n",
    "sdss_sm10p5_meert15_bulge_dom_small = sdss_sm10p5_meert15_bulge_dom[_small_size_mask]\n",
    "sdss_sm10p5_meert15_bulge_dom_large = sdss_sm10p5_meert15_bulge_dom[~_small_size_mask]\n"
   ]
  },
  {
   "cell_type": "code",
   "execution_count": null,
   "metadata": {
    "collapsed": true
   },
   "outputs": [],
   "source": []
  },
  {
   "cell_type": "code",
   "execution_count": null,
   "metadata": {
    "collapsed": true
   },
   "outputs": [],
   "source": []
  },
  {
   "cell_type": "code",
   "execution_count": null,
   "metadata": {
    "collapsed": true
   },
   "outputs": [],
   "source": []
  },
  {
   "cell_type": "code",
   "execution_count": null,
   "metadata": {
    "collapsed": true
   },
   "outputs": [],
   "source": []
  },
  {
   "cell_type": "code",
   "execution_count": null,
   "metadata": {
    "collapsed": true
   },
   "outputs": [],
   "source": []
  },
  {
   "cell_type": "code",
   "execution_count": 6,
   "metadata": {},
   "outputs": [],
   "source": [
    "from galsize_models.measurements.measure_sdss_clustering import save_wp_measurement\n",
    "\n",
    "import os\n",
    "repo_dirname = \"/Users/aphearin/work/repositories/python/galsize_models\"\n",
    "output_subdirname = \"galsize_models/measurements/data/two_point_functions\"\n",
    "output_dirname = os.path.join(repo_dirname, output_subdirname)\n",
    "\n",
    "sm_high = 12\n"
   ]
  },
  {
   "cell_type": "code",
   "execution_count": 7,
   "metadata": {},
   "outputs": [
    {
     "name": "stdout",
     "output_type": "stream",
     "text": [
      "Measuring wp for sdss_sm10p0 sample of 180459 galaxies\n",
      "Measuring wp for sdss_sm10p5 sample of 138231 galaxies\n",
      "\u0007\n"
     ]
    }
   ],
   "source": [
    "save_wp_measurement(sdss_sm10p0, output_dirname, 'sdss_sm10p0', 10., sm_high)\n",
    "save_wp_measurement(sdss_sm10p5, output_dirname, 'sdss_sm10p5', 10.5, sm_high)\n",
    "print(\"\\a\")"
   ]
  },
  {
   "cell_type": "code",
   "execution_count": 8,
   "metadata": {},
   "outputs": [
    {
     "name": "stdout",
     "output_type": "stream",
     "text": [
      "Measuring wp for sdss_sm10p0_sf sample of 44861 galaxies\n",
      "Measuring wp for sdss_sm10p0_gv sample of 18922 galaxies\n",
      "Measuring wp for sdss_sm10p0_q sample of 116676 galaxies\n",
      "Measuring wp for sdss_sm10p5_sf sample of 25237 galaxies\n",
      "Measuring wp for sdss_sm10p5_gv sample of 14227 galaxies\n",
      "Measuring wp for sdss_sm10p5_q sample of 98767 galaxies\n",
      "\u0007\n"
     ]
    }
   ],
   "source": [
    "save_wp_measurement(sdss_sm10p0_sf, output_dirname, 'sdss_sm10p0_sf', 10., sm_high)\n",
    "save_wp_measurement(sdss_sm10p0_gv, output_dirname, 'sdss_sm10p0_gv', 10., sm_high)\n",
    "save_wp_measurement(sdss_sm10p0_q, output_dirname, 'sdss_sm10p0_q', 10., sm_high)\n",
    "\n",
    "save_wp_measurement(sdss_sm10p5_sf, output_dirname, 'sdss_sm10p5_sf', 10.5, sm_high)\n",
    "save_wp_measurement(sdss_sm10p5_gv, output_dirname, 'sdss_sm10p5_gv', 10.5, sm_high)\n",
    "save_wp_measurement(sdss_sm10p5_q, output_dirname, 'sdss_sm10p5_q', 10.5, sm_high)\n",
    "print(\"\\a\")"
   ]
  },
  {
   "cell_type": "code",
   "execution_count": 9,
   "metadata": {},
   "outputs": [
    {
     "name": "stdout",
     "output_type": "stream",
     "text": [
      "Measuring wp for sdss_sm10p0_meert15_bulge_dom sample of 28547 galaxies\n",
      "Measuring wp for sdss_sm10p0_meert15_disk_dom sample of 45693 galaxies\n",
      "Measuring wp for sdss_sm10p5_meert15_bulge_dom sample of 24349 galaxies\n",
      "Measuring wp for sdss_sm10p5_meert15_disk_dom sample of 28588 galaxies\n",
      "\u0007\n"
     ]
    }
   ],
   "source": [
    "save_wp_measurement(sdss_sm10p0_meert15_bulge_dom, output_dirname, 'sdss_sm10p0_meert15_bulge_dom', 10., sm_high)\n",
    "save_wp_measurement(sdss_sm10p0_meert15_disk_dom, output_dirname, 'sdss_sm10p0_meert15_disk_dom', 10., sm_high)\n",
    "save_wp_measurement(sdss_sm10p5_meert15_bulge_dom, output_dirname, 'sdss_sm10p5_meert15_bulge_dom', 10.5, sm_high)\n",
    "save_wp_measurement(sdss_sm10p5_meert15_disk_dom, output_dirname, 'sdss_sm10p5_meert15_disk_dom', 10.5, sm_high)\n",
    "print(\"\\a\")"
   ]
  },
  {
   "cell_type": "code",
   "execution_count": 10,
   "metadata": {},
   "outputs": [
    {
     "name": "stdout",
     "output_type": "stream",
     "text": [
      "Measuring wp for sdss_sm10p0_mendel13_bulge_dom sample of 64486 galaxies\n",
      "Measuring wp for sdss_sm10p0_mendel13_disk_dom sample of 12704 galaxies\n",
      "Measuring wp for sdss_sm10p5_mendel13_bulge_dom sample of 52886 galaxies\n",
      "Measuring wp for sdss_sm10p5_mendel13_disk_dom sample of 5780 galaxies\n",
      "\u0007\n"
     ]
    }
   ],
   "source": [
    "save_wp_measurement(sdss_sm10p0_mendel13_bulge_dom, output_dirname, 'sdss_sm10p0_mendel13_bulge_dom', 10., sm_high)\n",
    "save_wp_measurement(sdss_sm10p0_mendel13_disk_dom, output_dirname, 'sdss_sm10p0_mendel13_disk_dom', 10., sm_high)\n",
    "save_wp_measurement(sdss_sm10p5_mendel13_bulge_dom, output_dirname, 'sdss_sm10p5_mendel13_bulge_dom', 10.5, sm_high)\n",
    "save_wp_measurement(sdss_sm10p5_mendel13_disk_dom, output_dirname, 'sdss_sm10p5_mendel13_disk_dom', 10.5, sm_high)\n",
    "print(\"\\a\")"
   ]
  },
  {
   "cell_type": "code",
   "execution_count": 11,
   "metadata": {},
   "outputs": [
    {
     "name": "stdout",
     "output_type": "stream",
     "text": [
      "Measuring wp for sdss_sm10p0_sf_meert15_bulge_dom sample of 2264 galaxies\n",
      "Measuring wp for sdss_sm10p0_sf_meert15_disk_dom sample of 26364 galaxies\n",
      "Measuring wp for sdss_sm10p5_sf_meert15_bulge_dom sample of 1574 galaxies\n",
      "Measuring wp for sdss_sm10p5_sf_meert15_disk_dom sample of 13291 galaxies\n",
      "\u0007\n"
     ]
    }
   ],
   "source": [
    "save_wp_measurement(sdss_sm10p0_sf_meert15_bulge_dom, output_dirname, 'sdss_sm10p0_sf_meert15_bulge_dom', 10., sm_high)\n",
    "save_wp_measurement(sdss_sm10p0_sf_meert15_disk_dom, output_dirname, 'sdss_sm10p0_sf_meert15_disk_dom', 10., sm_high)\n",
    "save_wp_measurement(sdss_sm10p5_sf_meert15_bulge_dom, output_dirname, 'sdss_sm10p5_sf_meert15_bulge_dom', 10.5, sm_high)\n",
    "save_wp_measurement(sdss_sm10p5_sf_meert15_disk_dom, output_dirname, 'sdss_sm10p5_sf_meert15_disk_dom', 10.5, sm_high)\n",
    "print(\"\\a\")"
   ]
  },
  {
   "cell_type": "code",
   "execution_count": 12,
   "metadata": {},
   "outputs": [
    {
     "name": "stdout",
     "output_type": "stream",
     "text": [
      "Measuring wp for sdss_sm10p0_sf_mendel13_bulge_dom sample of 11442 galaxies\n",
      "Measuring wp for sdss_sm10p0_sf_mendel13_disk_dom sample of 8454 galaxies\n",
      "Measuring wp for sdss_sm10p5_sf_mendel13_bulge_dom sample of 7943 galaxies\n",
      "Measuring wp for sdss_sm10p5_sf_mendel13_disk_dom sample of 2913 galaxies\n",
      "\u0007\n"
     ]
    }
   ],
   "source": [
    "save_wp_measurement(sdss_sm10p0_sf_mendel13_bulge_dom, output_dirname, 'sdss_sm10p0_sf_mendel13_bulge_dom', 10., sm_high)\n",
    "save_wp_measurement(sdss_sm10p0_sf_mendel13_disk_dom, output_dirname, 'sdss_sm10p0_sf_mendel13_disk_dom', 10., sm_high)\n",
    "save_wp_measurement(sdss_sm10p5_sf_mendel13_bulge_dom, output_dirname, 'sdss_sm10p5_sf_mendel13_bulge_dom', 10.5, sm_high)\n",
    "save_wp_measurement(sdss_sm10p5_sf_mendel13_disk_dom, output_dirname, 'sdss_sm10p5_sf_mendel13_disk_dom', 10.5, sm_high)\n",
    "print(\"\\a\")"
   ]
  },
  {
   "cell_type": "code",
   "execution_count": 13,
   "metadata": {},
   "outputs": [
    {
     "name": "stdout",
     "output_type": "stream",
     "text": [
      "Measuring wp for sdss_sm10p0_gv_meert15_bulge_dom sample of 1576 galaxies\n",
      "Measuring wp for sdss_sm10p0_gv_meert15_disk_dom sample of 7178 galaxies\n",
      "Measuring wp for sdss_sm10p5_gv_meert15_bulge_dom sample of 1235 galaxies\n",
      "Measuring wp for sdss_sm10p5_gv_meert15_disk_dom sample of 5266 galaxies\n",
      "Measuring wp for sdss_sm10p0_gv_mendel13_bulge_dom sample of 5391 galaxies\n",
      "Measuring wp for sdss_sm10p0_gv_mendel13_disk_dom sample of 1622 galaxies\n",
      "Measuring wp for sdss_sm10p5_gv_mendel13_bulge_dom sample of 4345 galaxies\n",
      "Measuring wp for sdss_sm10p5_gv_mendel13_disk_dom sample of 913 galaxies\n",
      "\u0007\n"
     ]
    }
   ],
   "source": [
    "save_wp_measurement(sdss_sm10p0_gv_meert15_bulge_dom, output_dirname, 'sdss_sm10p0_gv_meert15_bulge_dom', 10., sm_high)\n",
    "save_wp_measurement(sdss_sm10p0_gv_meert15_disk_dom, output_dirname, 'sdss_sm10p0_gv_meert15_disk_dom', 10., sm_high)\n",
    "save_wp_measurement(sdss_sm10p5_gv_meert15_bulge_dom, output_dirname, 'sdss_sm10p5_gv_meert15_bulge_dom', 10.5, sm_high)\n",
    "save_wp_measurement(sdss_sm10p5_gv_meert15_disk_dom, output_dirname, 'sdss_sm10p5_gv_meert15_disk_dom', 10.5, sm_high)\n",
    "\n",
    "save_wp_measurement(sdss_sm10p0_gv_mendel13_bulge_dom, output_dirname, 'sdss_sm10p0_gv_mendel13_bulge_dom', 10., sm_high)\n",
    "save_wp_measurement(sdss_sm10p0_gv_mendel13_disk_dom, output_dirname, 'sdss_sm10p0_gv_mendel13_disk_dom', 10., sm_high)\n",
    "save_wp_measurement(sdss_sm10p5_gv_mendel13_bulge_dom, output_dirname, 'sdss_sm10p5_gv_mendel13_bulge_dom', 10.5, sm_high)\n",
    "save_wp_measurement(sdss_sm10p5_gv_mendel13_disk_dom, output_dirname, 'sdss_sm10p5_gv_mendel13_disk_dom', 10.5, sm_high)\n",
    "print(\"\\a\")"
   ]
  },
  {
   "cell_type": "code",
   "execution_count": 21,
   "metadata": {},
   "outputs": [
    {
     "name": "stdout",
     "output_type": "stream",
     "text": [
      "Measuring wp for sdss_sm10p0_q_meert15_bulge_dom sample of 24707 galaxies\n",
      "Measuring wp for sdss_sm10p0_q_meert15_disk_dom sample of 12151 galaxies\n",
      "Measuring wp for sdss_sm10p5_q_meert15_bulge_dom sample of 21540 galaxies\n",
      "Measuring wp for sdss_sm10p5_q_meert15_disk_dom sample of 10031 galaxies\n",
      "Measuring wp for sdss_sm10p0_q_mendel13_bulge_dom sample of 47653 galaxies\n",
      "Measuring wp for sdss_sm10p0_q_mendel13_disk_dom sample of 2628 galaxies\n",
      "Measuring wp for sdss_sm10p5_q_mendel13_bulge_dom sample of 40598 galaxies\n",
      "Measuring wp for sdss_sm10p5_q_mendel13_disk_dom sample of 1954 galaxies\n",
      "\u0007\n"
     ]
    }
   ],
   "source": [
    "save_wp_measurement(sdss_sm10p0_q_meert15_bulge_dom, output_dirname, 'sdss_sm10p0_q_meert15_bulge_dom', 10., sm_high)\n",
    "save_wp_measurement(sdss_sm10p0_q_meert15_disk_dom, output_dirname, 'sdss_sm10p0_q_meert15_disk_dom', 10., sm_high)\n",
    "save_wp_measurement(sdss_sm10p5_q_meert15_bulge_dom, output_dirname, 'sdss_sm10p5_q_meert15_bulge_dom', 10.5, sm_high)\n",
    "save_wp_measurement(sdss_sm10p5_q_meert15_disk_dom, output_dirname, 'sdss_sm10p5_q_meert15_disk_dom', 10.5, sm_high)\n",
    "\n",
    "save_wp_measurement(sdss_sm10p0_q_mendel13_bulge_dom, output_dirname, 'sdss_sm10p0_q_mendel13_bulge_dom', 10., sm_high)\n",
    "save_wp_measurement(sdss_sm10p0_q_mendel13_disk_dom, output_dirname, 'sdss_sm10p0_q_mendel13_disk_dom', 10., sm_high)\n",
    "save_wp_measurement(sdss_sm10p5_q_mendel13_bulge_dom, output_dirname, 'sdss_sm10p5_q_mendel13_bulge_dom', 10.5, sm_high)\n",
    "save_wp_measurement(sdss_sm10p5_q_mendel13_disk_dom, output_dirname, 'sdss_sm10p5_q_mendel13_disk_dom', 10.5, sm_high)\n",
    "print(\"\\a\")"
   ]
  },
  {
   "cell_type": "markdown",
   "metadata": {},
   "source": [
    "## Now for size-split clustering measurements"
   ]
  },
  {
   "cell_type": "code",
   "execution_count": 15,
   "metadata": {},
   "outputs": [
    {
     "name": "stdout",
     "output_type": "stream",
     "text": [
      "Measuring wp for sdss_sm10p0_small sample of 91943 galaxies\n",
      "Measuring wp for sdss_sm10p0_large sample of 88516 galaxies\n",
      "Measuring wp for sdss_sm10p5_small sample of 70154 galaxies\n",
      "Measuring wp for sdss_sm10p5_large sample of 68077 galaxies\n"
     ]
    }
   ],
   "source": [
    "save_wp_measurement(sdss_sm10p0_small, output_dirname, 'sdss_sm10p0_small', 10., sm_high)\n",
    "save_wp_measurement(sdss_sm10p0_large, output_dirname, 'sdss_sm10p0_large', 10., sm_high)\n",
    "save_wp_measurement(sdss_sm10p5_small, output_dirname, 'sdss_sm10p5_small', 10.5, sm_high)\n",
    "save_wp_measurement(sdss_sm10p5_large, output_dirname, 'sdss_sm10p5_large', 10.5, sm_high)\n"
   ]
  },
  {
   "cell_type": "code",
   "execution_count": 17,
   "metadata": {},
   "outputs": [
    {
     "name": "stdout",
     "output_type": "stream",
     "text": [
      "Measuring wp for sdss_sm10p0_sf_small sample of 22641 galaxies\n",
      "Measuring wp for sdss_sm10p0_sf_large sample of 22220 galaxies\n",
      "Measuring wp for sdss_sm10p0_gv_small sample of 9618 galaxies\n",
      "Measuring wp for sdss_sm10p0_gv_large sample of 9304 galaxies\n",
      "Measuring wp for sdss_sm10p0_q_small sample of 59746 galaxies\n",
      "Measuring wp for sdss_sm10p0_q_large sample of 56930 galaxies\n"
     ]
    }
   ],
   "source": [
    "save_wp_measurement(sdss_sm10p0_sf_small, output_dirname, 'sdss_sm10p0_sf_small', 10., sm_high)\n",
    "save_wp_measurement(sdss_sm10p0_sf_large, output_dirname, 'sdss_sm10p0_sf_large', 10., sm_high)\n",
    "save_wp_measurement(sdss_sm10p0_gv_small, output_dirname, 'sdss_sm10p0_gv_small', 10., sm_high)\n",
    "save_wp_measurement(sdss_sm10p0_gv_large, output_dirname, 'sdss_sm10p0_gv_large', 10., sm_high)\n",
    "save_wp_measurement(sdss_sm10p0_q_small, output_dirname, 'sdss_sm10p0_q_small', 10., sm_high)\n",
    "save_wp_measurement(sdss_sm10p0_q_large, output_dirname, 'sdss_sm10p0_q_large', 10., sm_high)\n"
   ]
  },
  {
   "cell_type": "code",
   "execution_count": 18,
   "metadata": {},
   "outputs": [
    {
     "name": "stdout",
     "output_type": "stream",
     "text": [
      "Measuring wp for sdss_sm10p5_sf_small sample of 12664 galaxies\n",
      "Measuring wp for sdss_sm10p5_sf_large sample of 12573 galaxies\n",
      "Measuring wp for sdss_sm10p5_gv_small sample of 7200 galaxies\n",
      "Measuring wp for sdss_sm10p5_gv_large sample of 7027 galaxies\n",
      "Measuring wp for sdss_sm10p5_q_small sample of 50376 galaxies\n",
      "Measuring wp for sdss_sm10p5_q_large sample of 48391 galaxies\n"
     ]
    }
   ],
   "source": [
    "save_wp_measurement(sdss_sm10p5_sf_small, output_dirname, 'sdss_sm10p5_sf_small', 10.5, sm_high)\n",
    "save_wp_measurement(sdss_sm10p5_sf_large, output_dirname, 'sdss_sm10p5_sf_large', 10.5, sm_high)\n",
    "save_wp_measurement(sdss_sm10p5_gv_small, output_dirname, 'sdss_sm10p5_gv_small', 10.5, sm_high)\n",
    "save_wp_measurement(sdss_sm10p5_gv_large, output_dirname, 'sdss_sm10p5_gv_large', 10.5, sm_high)\n",
    "save_wp_measurement(sdss_sm10p5_q_small, output_dirname, 'sdss_sm10p5_q_small', 10.5, sm_high)\n",
    "save_wp_measurement(sdss_sm10p5_q_large, output_dirname, 'sdss_sm10p5_q_large', 10.5, sm_high)\n",
    "\n"
   ]
  },
  {
   "cell_type": "code",
   "execution_count": 19,
   "metadata": {},
   "outputs": [
    {
     "name": "stdout",
     "output_type": "stream",
     "text": [
      "Measuring wp for sdss_sm10p0_meert15_disk_dom_small sample of 23054 galaxies\n",
      "Measuring wp for sdss_sm10p0_meert15_disk_dom_large sample of 22639 galaxies\n",
      "Measuring wp for sdss_sm10p0_meert15_bulge_dom_small sample of 14677 galaxies\n",
      "Measuring wp for sdss_sm10p0_meert15_bulge_dom_large sample of 13870 galaxies\n"
     ]
    }
   ],
   "source": [
    "save_wp_measurement(sdss_sm10p0_meert15_disk_dom_small, output_dirname, 'sdss_sm10p0_meert15_disk_dom_small', 10., sm_high)\n",
    "save_wp_measurement(sdss_sm10p0_meert15_disk_dom_large, output_dirname, 'sdss_sm10p0_meert15_disk_dom_large', 10., sm_high)\n",
    "save_wp_measurement(sdss_sm10p0_meert15_bulge_dom_small, output_dirname, 'sdss_sm10p0_meert15_bulge_dom_small', 10., sm_high)\n",
    "save_wp_measurement(sdss_sm10p0_meert15_bulge_dom_large, output_dirname, 'sdss_sm10p0_meert15_bulge_dom_large', 10., sm_high)\n",
    "\n",
    "\n"
   ]
  },
  {
   "cell_type": "code",
   "execution_count": 20,
   "metadata": {},
   "outputs": [
    {
     "name": "stdout",
     "output_type": "stream",
     "text": [
      "Measuring wp for sdss_sm10p5_meert15_disk_dom_small sample of 14412 galaxies\n",
      "Measuring wp for sdss_sm10p5_meert15_disk_dom_large sample of 14176 galaxies\n",
      "Measuring wp for sdss_sm10p5_meert15_bulge_dom_small sample of 12443 galaxies\n",
      "Measuring wp for sdss_sm10p5_meert15_bulge_dom_large sample of 11906 galaxies\n"
     ]
    }
   ],
   "source": [
    "save_wp_measurement(sdss_sm10p5_meert15_disk_dom_small, output_dirname, 'sdss_sm10p5_meert15_disk_dom_small', 10.5, sm_high)\n",
    "save_wp_measurement(sdss_sm10p5_meert15_disk_dom_large, output_dirname, 'sdss_sm10p5_meert15_disk_dom_large', 10.5, sm_high)\n",
    "save_wp_measurement(sdss_sm10p5_meert15_bulge_dom_small, output_dirname, 'sdss_sm10p5_meert15_bulge_dom_small', 10.5, sm_high)\n",
    "save_wp_measurement(sdss_sm10p5_meert15_bulge_dom_large, output_dirname, 'sdss_sm10p5_meert15_bulge_dom_large', 10.5, sm_high)\n"
   ]
  },
  {
   "cell_type": "code",
   "execution_count": null,
   "metadata": {
    "collapsed": true
   },
   "outputs": [],
   "source": []
  },
  {
   "cell_type": "code",
   "execution_count": null,
   "metadata": {
    "collapsed": true
   },
   "outputs": [],
   "source": []
  },
  {
   "cell_type": "code",
   "execution_count": null,
   "metadata": {
    "collapsed": true
   },
   "outputs": [],
   "source": [
    "\n"
   ]
  },
  {
   "cell_type": "code",
   "execution_count": null,
   "metadata": {
    "collapsed": true
   },
   "outputs": [],
   "source": [
    "\n"
   ]
  },
  {
   "cell_type": "code",
   "execution_count": null,
   "metadata": {},
   "outputs": [],
   "source": [
    "fig, ax = plt.subplots(1, 1)\n",
    "\n",
    "__=ax.loglog()\n",
    "\n",
    "wp_dirname = \"../../galsize_models/measurements/data/two_point_functions/\"\n",
    "wp_fname = os.path.join(wp_dirname, 'sdss_sm10p0_wp.npy')\n",
    "wp2_fname = os.path.join(wp_dirname, 'sdss_sm10p5_wp.npy')\n",
    "rp_fname = os.path.join(wp_dirname, 'sdss_sm10p0_rp.npy')\n",
    "rp = np.load(rp_fname)\n",
    "wp = np.load(wp_fname)\n",
    "wp2 = np.load(wp2_fname)\n",
    "\n",
    "__=ax.plot(rp, wp)\n",
    "__=ax.plot(rp, wp2)"
   ]
  },
  {
   "cell_type": "code",
   "execution_count": null,
   "metadata": {},
   "outputs": [],
   "source": []
  },
  {
   "cell_type": "code",
   "execution_count": null,
   "metadata": {
    "collapsed": true
   },
   "outputs": [],
   "source": []
  },
  {
   "cell_type": "code",
   "execution_count": null,
   "metadata": {
    "collapsed": true
   },
   "outputs": [],
   "source": []
  },
  {
   "cell_type": "code",
   "execution_count": null,
   "metadata": {
    "collapsed": true
   },
   "outputs": [],
   "source": []
  },
  {
   "cell_type": "code",
   "execution_count": null,
   "metadata": {
    "collapsed": true
   },
   "outputs": [],
   "source": [
    "from scipy.stats import binned_statistic\n",
    "\n",
    "goodmask = ~np.isnan(umachine_sdss['r50_magr_kpc_meert15'])\n",
    "x = umachine_sdss['sm'][goodmask]\n",
    "values = umachine_sdss['r50_magr_kpc_meert15'][goodmask]\n",
    "median_size_all, sm_bins_all, __  = binned_statistic(x, values, statistic='median')\n",
    "sm_mids_all = 0.5*(sm_bins_all[:-1] + sm_bins_all[1:])\n",
    "size_cut_all = np.interp(umachine_sdss['sm'], sm_mids_all, median_size_all)\n",
    "low_size_mask_all = umachine_sdss['r50_magr_kpc_meert15'] < size_cut_all\n",
    "high_size_mask_all = umachine_sdss['r50_magr_kpc_meert15'] >= size_cut_all\n",
    "\n",
    "qmask = goodmask & (umachine_sdss['ssfr'] < -11)\n",
    "x = umachine_sdss['sm'][qmask]\n",
    "values = umachine_sdss['r50_magr_kpc_meert15'][qmask]\n",
    "median_size_q, sm_bins_q, __ = binned_statistic(x, values, statistic='median')\n",
    "sm_mids_q = 0.5*(sm_bins_q[:-1] + sm_bins_q[1:])\n",
    "size_cut_q = np.interp(umachine_sdss['sm'], sm_mids_q, median_size_q)\n",
    "low_size_mask_q = (umachine_sdss['r50_magr_kpc_meert15'] < size_cut_q)*(umachine_sdss['ssfr'] < -11)\n",
    "high_size_mask_q = (umachine_sdss['r50_magr_kpc_meert15'] >= size_cut_q)*(umachine_sdss['ssfr'] < -11)\n",
    "\n",
    "sfmask = goodmask & (umachine_sdss['ssfr'] < -11)\n",
    "x = umachine_sdss['sm'][sfmask]\n",
    "values = umachine_sdss['r50_magr_kpc_meert15'][sfmask]\n",
    "median_size_sf, sm_bins_sf, __ = binned_statistic(x, values, statistic='median')\n",
    "sm_mids_sf = 0.5*(sm_bins_sf[:-1] + sm_bins_sf[1:])\n",
    "size_cut_sf = np.interp(umachine_sdss['sm'], sm_mids_sf, median_size_sf)\n",
    "low_size_mask_sf = (umachine_sdss['r50_magr_kpc_meert15'] < size_cut_sf)*(umachine_sdss['ssfr'] >= -11)\n",
    "high_size_mask_sf = (umachine_sdss['r50_magr_kpc_meert15'] >= size_cut_sf)*(umachine_sdss['ssfr'] >= -11)\n"
   ]
  },
  {
   "cell_type": "code",
   "execution_count": null,
   "metadata": {
    "collapsed": true
   },
   "outputs": [],
   "source": [
    "from galsize_models.measurements.measure_sdss_clustering import get_wp_measurements, write_umachine_ascii\n",
    "import os\n",
    "dirname = \"/Users/aphearin/work/repositories/python/galsize_models/build/lib.macosx-10.9-x86_64-2.7\"\n",
    "\n",
    "q_fname = os.path.join(dirname, 'q.dat')\n",
    "sf_fname = os.path.join(dirname, 'sf.dat')\n",
    "\n",
    "low_sizes_q_fname = os.path.join(dirname, 'low_sizes_q.dat')\n",
    "low_sizes_sf_fname = os.path.join(dirname, 'low_sizes_sf.dat')\n",
    "high_sizes_q_fname = os.path.join(dirname, 'high_sizes_q.dat')\n",
    "high_sizes_sf_fname = os.path.join(dirname, 'high_sizes_sf.dat')\n",
    "\n",
    "low_sizes_all_fname = os.path.join(dirname, 'low_sizes_all.dat')\n",
    "high_sizes_all_fname = os.path.join(dirname, 'high_sizes_all.dat')\n",
    "\n",
    "\n",
    "write_umachine_ascii(umachine_sdss[low_size_mask_q], low_sizes_q_fname, overwrite=True)\n",
    "write_umachine_ascii(umachine_sdss[high_size_mask_q], high_sizes_q_fname, overwrite=True)\n",
    "write_umachine_ascii(umachine_sdss[low_size_mask_sf], low_sizes_sf_fname, overwrite=True)\n",
    "write_umachine_ascii(umachine_sdss[high_size_mask_sf], high_sizes_sf_fname, overwrite=True)\n",
    "write_umachine_ascii(umachine_sdss[high_size_mask_all], high_sizes_all_fname, overwrite=True)\n",
    "write_umachine_ascii(umachine_sdss[low_size_mask_all], low_sizes_all_fname, overwrite=True)\n",
    "\n",
    "\n",
    "write_umachine_ascii(umachine_sdss[qmask], q_fname, overwrite=True)\n",
    "write_umachine_ascii(umachine_sdss[sfmask], sf_fname, overwrite=True)\n"
   ]
  },
  {
   "cell_type": "code",
   "execution_count": null,
   "metadata": {
    "collapsed": true
   },
   "outputs": [],
   "source": [
    "sm_low, sm_high, npts = 10, 12, 20"
   ]
  },
  {
   "cell_type": "code",
   "execution_count": null,
   "metadata": {
    "collapsed": true
   },
   "outputs": [],
   "source": [
    "low_size_q_results = get_wp_measurements(low_sizes_q_fname, sm_low, sm_high, npts)\n",
    "rp_low_size_q, wp_low_size_q, wperr_low_size_q = low_size_q_results[:, 0], low_size_q_results[:, 1], low_size_q_results[:, 2]\n",
    "\n",
    "low_size_sf_results = get_wp_measurements(low_sizes_sf_fname, sm_low, sm_high, npts)\n",
    "rp_low_size_sf, wp_low_size_sf, wperr_low_size_sf = low_size_sf_results[:, 0], low_size_sf_results[:, 1], low_size_sf_results[:, 2]"
   ]
  },
  {
   "cell_type": "code",
   "execution_count": null,
   "metadata": {
    "collapsed": true
   },
   "outputs": [],
   "source": [
    "high_size_q_results = get_wp_measurements(high_sizes_q_fname, sm_low, sm_high, npts)\n",
    "rp_high_size_q, wp_high_size_q, wperr_high_size_q = high_size_q_results[:, 0], high_size_q_results[:, 1], high_size_q_results[:, 2]\n",
    "\n",
    "high_size_sf_results = get_wp_measurements(high_sizes_sf_fname, sm_low, sm_high, npts)\n",
    "rp_high_size_sf, wp_high_size_sf, wperr_high_size_sf = high_size_sf_results[:, 0], high_size_sf_results[:, 1], high_size_sf_results[:, 2]"
   ]
  },
  {
   "cell_type": "code",
   "execution_count": null,
   "metadata": {
    "collapsed": true
   },
   "outputs": [],
   "source": [
    "q_results = get_wp_measurements(q_fname, sm_low, sm_high, npts)\n",
    "rp_q, wp_q, wperr_q = q_results[:, 0], q_results[:, 1], q_results[:, 2]\n",
    "\n",
    "sf_results = get_wp_measurements(sf_fname, sm_low, sm_high, npts)\n",
    "rp_sf, wp_sf, wperr_sf = sf_results[:, 0], sf_results[:, 1], sf_results[:, 2]\n"
   ]
  },
  {
   "cell_type": "code",
   "execution_count": null,
   "metadata": {
    "collapsed": true
   },
   "outputs": [],
   "source": [
    "low_size_all_results = get_wp_measurements(low_sizes_all_fname, sm_low, sm_high, npts)\n",
    "rp_low_size_all, wp_low_size_all, wperr_low_size_all = low_size_all_results[:, 0], low_size_all_results[:, 1], low_size_all_results[:, 2]\n",
    "\n",
    "high_size_all_results = get_wp_measurements(high_sizes_all_fname, sm_low, sm_high, npts)\n",
    "rp_high_size_all, wp_high_size_all, wperr_high_size_all = high_size_all_results[:, 0], high_size_all_results[:, 1], high_size_all_results[:, 2]\n"
   ]
  },
  {
   "cell_type": "code",
   "execution_count": null,
   "metadata": {
    "collapsed": true
   },
   "outputs": [],
   "source": [
    "np.save('sdss_fracdiff_sf_10p0', fracdiff_sf)\n"
   ]
  },
  {
   "cell_type": "code",
   "execution_count": null,
   "metadata": {
    "collapsed": true
   },
   "outputs": [],
   "source": [
    "np.save('sdss_rp_sf', rp_sf)"
   ]
  },
  {
   "cell_type": "code",
   "execution_count": null,
   "metadata": {},
   "outputs": [],
   "source": [
    "wp_low_size_q_interp = np.interp(rp_q, rp_low_size_q, wp_low_size_q)\n",
    "wp_low_size_sf_interp = np.interp(rp_sf, rp_low_size_sf, wp_low_size_sf)\n",
    "wp_high_size_q_interp = np.interp(rp_q, rp_high_size_q, wp_high_size_q)\n",
    "wp_high_size_sf_interp = np.interp(rp_sf, rp_high_size_sf, wp_high_size_sf)\n",
    "\n",
    "fracdiff_q = (wp_high_size_q_interp - wp_low_size_q_interp)/wp_q\n",
    "fracdiff_sf = (wp_high_size_sf_interp - wp_low_size_sf_interp)/wp_sf\n",
    "\n",
    "# np.save('fracdiff_sf_9p75', fracdiff_sf)\n",
    "\n",
    "fracdiff_sf_10p0 = np.load('sdss_fracdiff_sf_10p0.npy')\n",
    "fracdiff_sf_10p5 = np.load('sdss_fracdiff_sf_10p5.npy')\n",
    "\n",
    "fig, ax = plt.subplots(1, 1)\n",
    "\n",
    "xscale = ax.set_xscale('log')\n",
    "\n",
    "# __=ax.plot(rp_q, fracdiff_q, color='red')\n",
    "__=ax.plot(rp_sf[5:], fracdiff_sf_10p5[5:], label=r'SDSS: $M_{\\ast} > 10^{10.5}M_{\\odot}$')\n",
    "__=ax.plot(rp_sf[5:], fracdiff_sf_10p0[5:], label=r'SDSS: $M_{\\ast} > 10^{10}M_{\\odot}$')\n",
    "\n",
    "__=ax.plot(np.logspace(-2, 2, 100), np.zeros(100), '--', color='k')\n",
    "\n",
    "xlim = ax.set_xlim(0.2, 20)\n",
    "ylim = ax.set_ylim(-0.3, 0.3)\n",
    "\n",
    "xlabel = ax.set_xlabel(r'$R_{\\rm p}$  [Mpc]')\n",
    "ylabel = ax.set_ylabel(r'$(w_{\\rm p}^{\\rm large} - w_{\\rm p}^{\\rm small})/w_{\\rm p}^{\\rm all}$')\n",
    "title = ax.set_title('size-dependence of main sequence clustering')\n",
    "legend = ax.legend()\n",
    "\n",
    "# fig.savefig('size_dependence_sf_clustering_SDSS.png', \n",
    "#             bbox_extra_artists=[xlabel, ylabel], bbox_inches='tight')"
   ]
  },
  {
   "cell_type": "code",
   "execution_count": null,
   "metadata": {
    "collapsed": true
   },
   "outputs": [],
   "source": [
    "fig, ax = plt.subplots(1, 1)\n",
    "\n",
    "__=ax.loglog()\n",
    "\n",
    "__=ax.plot(rp_low_size_q, wp_low_size_q, color='red')\n",
    "__=ax.plot(rp_high_size_q, wp_high_size_q, '--', color='red')\n",
    "\n",
    "__=ax.plot(rp_low_size_sf, wp_low_size_sf, color='blue')\n",
    "__=ax.plot(rp_high_size_sf, wp_high_size_sf, '--', color='blue')\n",
    "\n",
    "xlim = ax.set_xlim(0.1, 20)\n"
   ]
  },
  {
   "cell_type": "code",
   "execution_count": null,
   "metadata": {
    "collapsed": true
   },
   "outputs": [],
   "source": []
  }
 ],
 "metadata": {
  "kernelspec": {
   "display_name": "Python [conda root]",
   "language": "python",
   "name": "conda-root-py"
  },
  "language_info": {
   "codemirror_mode": {
    "name": "ipython",
    "version": 2
   },
   "file_extension": ".py",
   "mimetype": "text/x-python",
   "name": "python",
   "nbconvert_exporter": "python",
   "pygments_lexer": "ipython2",
   "version": "2.7.13"
  }
 },
 "nbformat": 4,
 "nbformat_minor": 2
}
