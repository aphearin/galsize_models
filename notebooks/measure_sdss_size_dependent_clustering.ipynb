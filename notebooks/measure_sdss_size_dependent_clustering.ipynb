{
 "cells": [
  {
   "cell_type": "code",
   "execution_count": 4,
   "metadata": {
    "collapsed": true
   },
   "outputs": [],
   "source": [
    "%matplotlib inline"
   ]
  },
  {
   "cell_type": "code",
   "execution_count": 5,
   "metadata": {
    "collapsed": true
   },
   "outputs": [],
   "source": [
    "from galsize_models.measurements import load_umachine_sdss_with_meert15\n",
    "umachine_sdss, is_complete = load_umachine_sdss_with_meert15()"
   ]
  },
  {
   "cell_type": "code",
   "execution_count": 6,
   "metadata": {
    "collapsed": true
   },
   "outputs": [],
   "source": [
    "from scipy.stats import binned_statistic\n",
    "\n",
    "goodmask = ~np.isnan(umachine_sdss['r50_magr_kpc_meert15'])\n",
    "x = umachine_sdss['sm'][goodmask]\n",
    "values = umachine_sdss['r50_magr_kpc_meert15'][goodmask]\n",
    "median_size_all, sm_bins_all, __  = binned_statistic(x, values, statistic='median')\n",
    "sm_mids_all = 0.5*(sm_bins_all[:-1] + sm_bins_all[1:])\n",
    "size_cut_all = np.interp(umachine_sdss['sm'], sm_mids_all, median_size_all)\n",
    "low_size_mask_all = umachine_sdss['r50_magr_kpc_meert15'] < size_cut_all\n",
    "high_size_mask_all = umachine_sdss['r50_magr_kpc_meert15'] >= size_cut_all\n",
    "\n",
    "qmask = goodmask & (umachine_sdss['ssfr'] < -11)\n",
    "x = umachine_sdss['sm'][qmask]\n",
    "values = umachine_sdss['r50_magr_kpc_meert15'][qmask]\n",
    "median_size_q, sm_bins_q, __ = binned_statistic(x, values, statistic='median')\n",
    "sm_mids_q = 0.5*(sm_bins_q[:-1] + sm_bins_q[1:])\n",
    "size_cut_q = np.interp(umachine_sdss['sm'], sm_mids_q, median_size_q)\n",
    "low_size_mask_q = (umachine_sdss['r50_magr_kpc_meert15'] < size_cut_q)*(umachine_sdss['ssfr'] < -11)\n",
    "high_size_mask_q = (umachine_sdss['r50_magr_kpc_meert15'] >= size_cut_q)*(umachine_sdss['ssfr'] < -11)\n",
    "\n",
    "sfmask = goodmask & (umachine_sdss['ssfr'] < -11)\n",
    "x = umachine_sdss['sm'][sfmask]\n",
    "values = umachine_sdss['r50_magr_kpc_meert15'][sfmask]\n",
    "median_size_sf, sm_bins_sf, __ = binned_statistic(x, values, statistic='median')\n",
    "sm_mids_sf = 0.5*(sm_bins_sf[:-1] + sm_bins_sf[1:])\n",
    "size_cut_sf = np.interp(umachine_sdss['sm'], sm_mids_sf, median_size_sf)\n",
    "low_size_mask_sf = (umachine_sdss['r50_magr_kpc_meert15'] < size_cut_sf)*(umachine_sdss['ssfr'] >= -11)\n",
    "high_size_mask_sf = (umachine_sdss['r50_magr_kpc_meert15'] >= size_cut_sf)*(umachine_sdss['ssfr'] >= -11)\n"
   ]
  },
  {
   "cell_type": "code",
   "execution_count": 7,
   "metadata": {
    "collapsed": true
   },
   "outputs": [],
   "source": [
    "from galsize_models.measurements.measure_sdss_clustering import get_wp_measurements, write_umachine_ascii\n",
    "import os\n",
    "dirname = \"/Users/aphearin/work/repositories/python/galsize_models/build/lib.macosx-10.9-x86_64-2.7\"\n",
    "\n",
    "q_fname = os.path.join(dirname, 'q.dat')\n",
    "sf_fname = os.path.join(dirname, 'sf.dat')\n",
    "\n",
    "low_sizes_q_fname = os.path.join(dirname, 'low_sizes_q.dat')\n",
    "low_sizes_sf_fname = os.path.join(dirname, 'low_sizes_sf.dat')\n",
    "high_sizes_q_fname = os.path.join(dirname, 'high_sizes_q.dat')\n",
    "high_sizes_sf_fname = os.path.join(dirname, 'high_sizes_sf.dat')\n",
    "\n",
    "low_sizes_all_fname = os.path.join(dirname, 'low_sizes_all.dat')\n",
    "high_sizes_all_fname = os.path.join(dirname, 'high_sizes_all.dat')\n",
    "\n",
    "\n",
    "write_umachine_ascii(umachine_sdss[low_size_mask_q], low_sizes_q_fname, overwrite=True)\n",
    "write_umachine_ascii(umachine_sdss[high_size_mask_q], high_sizes_q_fname, overwrite=True)\n",
    "write_umachine_ascii(umachine_sdss[low_size_mask_sf], low_sizes_sf_fname, overwrite=True)\n",
    "write_umachine_ascii(umachine_sdss[high_size_mask_sf], high_sizes_sf_fname, overwrite=True)\n",
    "write_umachine_ascii(umachine_sdss[high_size_mask_all], high_sizes_all_fname, overwrite=True)\n",
    "write_umachine_ascii(umachine_sdss[low_size_mask_all], low_sizes_all_fname, overwrite=True)\n",
    "\n",
    "\n",
    "write_umachine_ascii(umachine_sdss[qmask], q_fname, overwrite=True)\n",
    "write_umachine_ascii(umachine_sdss[sfmask], sf_fname, overwrite=True)\n"
   ]
  },
  {
   "cell_type": "code",
   "execution_count": 36,
   "metadata": {
    "collapsed": true
   },
   "outputs": [],
   "source": [
    "sm_low, sm_high, npts = 10, 12, 20"
   ]
  },
  {
   "cell_type": "code",
   "execution_count": 37,
   "metadata": {
    "collapsed": true
   },
   "outputs": [],
   "source": [
    "low_size_q_results = get_wp_measurements(low_sizes_q_fname, sm_low, sm_high, npts)\n",
    "rp_low_size_q, wp_low_size_q, wperr_low_size_q = low_size_q_results[:, 0], low_size_q_results[:, 1], low_size_q_results[:, 2]\n",
    "\n",
    "low_size_sf_results = get_wp_measurements(low_sizes_sf_fname, sm_low, sm_high, npts)\n",
    "rp_low_size_sf, wp_low_size_sf, wperr_low_size_sf = low_size_sf_results[:, 0], low_size_sf_results[:, 1], low_size_sf_results[:, 2]"
   ]
  },
  {
   "cell_type": "code",
   "execution_count": 38,
   "metadata": {
    "collapsed": true
   },
   "outputs": [],
   "source": [
    "high_size_q_results = get_wp_measurements(high_sizes_q_fname, sm_low, sm_high, npts)\n",
    "rp_high_size_q, wp_high_size_q, wperr_high_size_q = high_size_q_results[:, 0], high_size_q_results[:, 1], high_size_q_results[:, 2]\n",
    "\n",
    "high_size_sf_results = get_wp_measurements(high_sizes_sf_fname, sm_low, sm_high, npts)\n",
    "rp_high_size_sf, wp_high_size_sf, wperr_high_size_sf = high_size_sf_results[:, 0], high_size_sf_results[:, 1], high_size_sf_results[:, 2]"
   ]
  },
  {
   "cell_type": "code",
   "execution_count": 39,
   "metadata": {
    "collapsed": true
   },
   "outputs": [],
   "source": [
    "q_results = get_wp_measurements(q_fname, sm_low, sm_high, npts)\n",
    "rp_q, wp_q, wperr_q = q_results[:, 0], q_results[:, 1], q_results[:, 2]\n",
    "\n",
    "sf_results = get_wp_measurements(sf_fname, sm_low, sm_high, npts)\n",
    "rp_sf, wp_sf, wperr_sf = sf_results[:, 0], sf_results[:, 1], sf_results[:, 2]\n"
   ]
  },
  {
   "cell_type": "code",
   "execution_count": null,
   "metadata": {
    "collapsed": true
   },
   "outputs": [],
   "source": [
    "low_size_all_results = get_wp_measurements(low_sizes_all_fname, sm_low, sm_high, npts)\n",
    "rp_low_size_all, wp_low_size_all, wperr_low_size_all = low_size_all_results[:, 0], low_size_all_results[:, 1], low_size_all_results[:, 2]\n",
    "\n",
    "high_size_all_results = get_wp_measurements(high_sizes_all_fname, sm_low, sm_high, npts)\n",
    "rp_high_size_all, wp_high_size_all, wperr_high_size_all = high_size_all_results[:, 0], high_size_all_results[:, 1], high_size_all_results[:, 2]\n"
   ]
  },
  {
   "cell_type": "code",
   "execution_count": 40,
   "metadata": {
    "collapsed": true
   },
   "outputs": [],
   "source": [
    "np.save('sdss_fracdiff_sf_10p0', fracdiff_sf)\n"
   ]
  },
  {
   "cell_type": "code",
   "execution_count": 46,
   "metadata": {
    "collapsed": true
   },
   "outputs": [],
   "source": [
    "np.save('sdss_rp_sf', rp_sf)"
   ]
  },
  {
   "cell_type": "code",
   "execution_count": 45,
   "metadata": {},
   "outputs": [
    {
     "data": {
      "image/png": "[encoded data removed]",
      "text/plain": [
       "<matplotlib.figure.Figure at 0x11cca5610>"
      ]
     },
     "metadata": {},
     "output_type": "display_data"
    }
   ],
   "source": [
    "wp_low_size_q_interp = np.interp(rp_q, rp_low_size_q, wp_low_size_q)\n",
    "wp_low_size_sf_interp = np.interp(rp_sf, rp_low_size_sf, wp_low_size_sf)\n",
    "wp_high_size_q_interp = np.interp(rp_q, rp_high_size_q, wp_high_size_q)\n",
    "wp_high_size_sf_interp = np.interp(rp_sf, rp_high_size_sf, wp_high_size_sf)\n",
    "\n",
    "fracdiff_q = (wp_high_size_q_interp - wp_low_size_q_interp)/wp_q\n",
    "fracdiff_sf = (wp_high_size_sf_interp - wp_low_size_sf_interp)/wp_sf\n",
    "\n",
    "# np.save('fracdiff_sf_9p75', fracdiff_sf)\n",
    "\n",
    "fracdiff_sf_10p0 = np.load('sdss_fracdiff_sf_10p0.npy')\n",
    "fracdiff_sf_10p5 = np.load('sdss_fracdiff_sf_10p5.npy')\n",
    "\n",
    "fig, ax = plt.subplots(1, 1)\n",
    "\n",
    "xscale = ax.set_xscale('log')\n",
    "\n",
    "# __=ax.plot(rp_q, fracdiff_q, color='red')\n",
    "__=ax.plot(rp_sf[5:], fracdiff_sf_10p5[5:], label=r'SDSS: $M_{\\ast} > 10^{10.5}M_{\\odot}$')\n",
    "__=ax.plot(rp_sf[5:], fracdiff_sf_10p0[5:], label=r'SDSS: $M_{\\ast} > 10^{10}M_{\\odot}$')\n",
    "\n",
    "__=ax.plot(np.logspace(-2, 2, 100), np.zeros(100), '--', color='k')\n",
    "\n",
    "xlim = ax.set_xlim(0.2, 20)\n",
    "ylim = ax.set_ylim(-0.3, 0.3)\n",
    "\n",
    "xlabel = ax.set_xlabel(r'$R_{\\rm p}$  [Mpc]')\n",
    "ylabel = ax.set_ylabel(r'$(w_{\\rm p}^{\\rm large} - w_{\\rm p}^{\\rm small})/w_{\\rm p}^{\\rm all}$')\n",
    "title = ax.set_title('size-dependence of main sequence clustering')\n",
    "legend = ax.legend()\n",
    "\n",
    "# fig.savefig('size_dependence_sf_clustering_SDSS.png', \n",
    "#             bbox_extra_artists=[xlabel, ylabel], bbox_inches='tight')"
   ]
  },
  {
   "cell_type": "code",
   "execution_count": null,
   "metadata": {
    "collapsed": true
   },
   "outputs": [],
   "source": [
    "fig, ax = plt.subplots(1, 1)\n",
    "\n",
    "__=ax.loglog()\n",
    "\n",
    "__=ax.plot(rp_low_size_q, wp_low_size_q, color='red')\n",
    "__=ax.plot(rp_high_size_q, wp_high_size_q, '--', color='red')\n",
    "\n",
    "__=ax.plot(rp_low_size_sf, wp_low_size_sf, color='blue')\n",
    "__=ax.plot(rp_high_size_sf, wp_high_size_sf, '--', color='blue')\n",
    "\n",
    "xlim = ax.set_xlim(0.1, 20)\n"
   ]
  },
  {
   "cell_type": "code",
   "execution_count": null,
   "metadata": {
    "collapsed": true
   },
   "outputs": [],
   "source": []
  }
 ],
 "metadata": {
  "kernelspec": {
   "display_name": "Python [conda root]",
   "language": "python",
   "name": "conda-root-py"
  },
  "language_info": {
   "codemirror_mode": {
    "name": "ipython",
    "version": 2
   },
   "file_extension": ".py",
   "mimetype": "text/x-python",
   "name": "python",
   "nbconvert_exporter": "python",
   "pygments_lexer": "ipython2",
   "version": "2.7.13"
  }
 },
 "nbformat": 4,
 "nbformat_minor": 2
}
