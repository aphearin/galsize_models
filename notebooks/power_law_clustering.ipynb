{
 "cells": [
  {
   "cell_type": "code",
   "execution_count": null,
   "metadata": {
    "collapsed": true
   },
   "outputs": [],
   "source": [
    "%matplotlib inline"
   ]
  },
  {
   "cell_type": "code",
   "execution_count": null,
   "metadata": {},
   "outputs": [],
   "source": [
    "from galsize_models.measurements import load_umachine_sdss_with_meert15\n",
    "full_sdss, behroozi_complete = load_umachine_sdss_with_meert15()\n",
    "no_data_mask = np.isnan(full_sdss['Magr_tot_meert15'])\n",
    "\n",
    "mask = ~no_data_mask & behroozi_complete\n",
    "sdss = full_sdss[mask]\n",
    "\n",
    "from galsize_models.models.kravtsov13 import halo_radius_vs_stellar_mass\n",
    "sdss['rvir_halo_kpc'] = halo_radius_vs_stellar_mass(10**sdss['sm'])\n",
    "\n",
    "from galsize_models.models.load_baseline_catalogs import load_umachine_mock\n",
    "mock = load_umachine_mock()\n",
    "\n",
    "mask_sf = sdss['ssfr'] >= -10.75\n",
    "mask_gv = (sdss['ssfr'] < -10.75) & (sdss['ssfr'] >= -11.25)\n",
    "mask_q = (sdss['ssfr'] < -11.25)\n",
    "\n",
    "mock_mask_sf = mock['ssfr'] >= -10.75\n",
    "mock_mask_gv = (mock['ssfr'] < -10.75) & (mock['ssfr'] >= -11.25)\n",
    "mock_mask_q = (mock['ssfr'] < -11.25)"
   ]
  },
  {
   "cell_type": "code",
   "execution_count": null,
   "metadata": {},
   "outputs": [],
   "source": [
    "from galsize_models.models import component_size_vs_rhalo, galaxy_size_vs_rhalo\n",
    "scatter = 0.2\n",
    "norm_bulge, norm_disk = 0.02, 0.1\n",
    "alpha_bulge, alpha_disk = 1, 0.6\n",
    "\n",
    "mock['r50_magr_kpc_meert15'] = galaxy_size_vs_rhalo(mock['rvir_halo_kpc'], mock['bt_meert15_random'], \n",
    "                                   norm_bulge, norm_disk, alpha_bulge, alpha_disk, \n",
    "                                   scatter=scatter)\n",
    "\n",
    "from galsize_models.measurements import rvir_rhalf_power_law_fit\n",
    "\n",
    "log10_rhalo_max=np.log10(2000.)\n",
    "\n",
    "c1_all, c0_all = rvir_rhalf_power_law_fit(mock['r50_magr_kpc_meert15'], mock['rvir_halo_kpc'], \n",
    "                                         log10_rhalo_max=log10_rhalo_max)\n",
    "c1_sf, c0_sf = rvir_rhalf_power_law_fit(mock['r50_magr_kpc_meert15'][mock_mask_sf], \n",
    "                                        mock['rvir_halo_kpc'][mock_mask_sf], log10_rhalo_max=log10_rhalo_max)\n",
    "c1_q, c0_q = rvir_rhalf_power_law_fit(mock['r50_magr_kpc_meert15'][mock_mask_q], \n",
    "                                        mock['rvir_halo_kpc'][mock_mask_q], log10_rhalo_max=log10_rhalo_max)\n",
    "c1_gv, c0_gv = rvir_rhalf_power_law_fit(mock['r50_magr_kpc_meert15'][mock_mask_gv], \n",
    "                                        mock['rvir_halo_kpc'][mock_mask_gv], log10_rhalo_max=log10_rhalo_max)\n"
   ]
  },
  {
   "cell_type": "code",
   "execution_count": null,
   "metadata": {},
   "outputs": [],
   "source": [
    "fig, ((ax1, ax2), (ax3, ax4)) = plt.subplots(2, 2, sharex=True, sharey=True, figsize=(8, 8))\n",
    "\n",
    "axes = (ax1, ax2, ax3, ax4)\n",
    "for ax in axes:\n",
    "    __=ax.loglog()\n",
    "\n",
    "nskip = 20\n",
    "__=ax1.scatter(sdss['rvir_halo_kpc'][mask_sf][::nskip], \n",
    "              sdss['r50_magr_kpc_meert15'][mask_sf][::nskip], \n",
    "              color='blue', s=1, label='')\n",
    "__=ax2.scatter(sdss['rvir_halo_kpc'][mask_q][::nskip], \n",
    "              sdss['r50_magr_kpc_meert15'][mask_q][::nskip], \n",
    "              color='red', s=1, label='')\n",
    "__=ax3.scatter(sdss['rvir_halo_kpc'][mask_gv][::nskip], \n",
    "              sdss['r50_magr_kpc_meert15'][mask_gv][::nskip], \n",
    "              color='green', s=1, label='')\n",
    "__=ax4.scatter(sdss['rvir_halo_kpc'][::2*nskip], \n",
    "              sdss['r50_magr_kpc_meert15'][::2*nskip], \n",
    "              color='gray', s=1, label='')\n",
    "\n",
    "rhalo_abscissa = np.linspace(10, 25000, 200)\n",
    "__=ax1.plot(rhalo_abscissa, c0_sf*rhalo_abscissa**c1_sf, color='cyan')\n",
    "__=ax2.plot(rhalo_abscissa, c0_q*rhalo_abscissa**c1_q, color='orange')\n",
    "__=ax3.plot(rhalo_abscissa, c0_gv*rhalo_abscissa**c1_gv, color='purple')\n",
    "__=ax4.plot(rhalo_abscissa, c0_all*rhalo_abscissa**c1_all, color='k')\n",
    "\n",
    "\n",
    "xlabel, ylabel = r'$R_{\\rm vir}$ [kpc]', r'$R_{1/2}$ [kpc]'\n",
    "xlabel3 = ax3.set_xlabel(xlabel); xlabel4 = ax4.set_xlabel(xlabel)\n",
    "ylabel1 = ax1.set_ylabel(ylabel); ylabel3 = ax3.set_ylabel(ylabel)\n",
    "title1 = ax1.set_title('star-forming'); title2 = ax2.set_title('quiescent')\n",
    "title3 = ax3.set_title('green valley'); title4 = ax4.set_title('all')\n",
    "\n",
    "from matplotlib import ticker\n",
    "xticks,  yticks = (50, 100, 200, 500, 1000, 2500), (1, 10, 30)\n",
    "xmin, xmax = 50, 2500; ymin, ymax = 0.5, 30\n",
    "for ax in axes:\n",
    "    __=ax.set_xticks(xticks)\n",
    "    __=ax.set_yticks(yticks)\n",
    "    __=ax.set_xlim(xmin, xmax)\n",
    "    __=ax.set_ylim(ymin, ymax)\n",
    "    __=ax.get_xaxis().set_major_formatter(ticker.ScalarFormatter())\n",
    "    __=ax.get_xaxis().set_minor_formatter(ticker.NullFormatter())\n",
    "    __=ax.get_yaxis().set_major_formatter(ticker.ScalarFormatter())\n",
    "    __=ax.get_yaxis().set_minor_formatter(ticker.NullFormatter())\n",
    "\n"
   ]
  },
  {
   "cell_type": "code",
   "execution_count": null,
   "metadata": {},
   "outputs": [],
   "source": [
    "\n",
    "print(\"Power law coefficients:\\n\")\n",
    "print(\"               c0    c1\")\n",
    "print(\"              ----  ----\")\n",
    "print(\"Star-forming: {0:.2f}, {1:.2f}\".format(c0_sf, c1_sf))\n",
    "print(\"Green valley: {0:.2f}, {1:.2f}\".format(c0_gv, c1_gv))\n",
    "print(\"Quiescent:    {0:.2f}, {1:.2f}\".format(c0_q, c1_q))\n",
    "print(\"All galaxies: {0:.2f}, {1:.2f}\".format(c0_all, c1_all))\n"
   ]
  },
  {
   "cell_type": "markdown",
   "metadata": {},
   "source": [
    "## Now plot clustering"
   ]
  },
  {
   "cell_type": "code",
   "execution_count": null,
   "metadata": {},
   "outputs": [],
   "source": [
    "from galsize_models.measurements import wp_ssfr_sequence_mock\n",
    "\n",
    "rp_mids, wp_10p0_sf, wp_10p0_sf_small, wp_10p0_sf_large = wp_ssfr_sequence_mock(mock, 10, 'sf')\n",
    "fracdiff_10p0_sf = (wp_10p0_sf_large-wp_10p0_sf_small)/wp_10p0_sf\n",
    "\n",
    "fig, ax = plt.subplots(1, 1)\n",
    "\n",
    "xscale = ax.set_xscale('log')\n",
    "\n",
    "__=ax.plot(rp_mids, fracdiff_10p0_sf)\n",
    "__=ax.plot(np.logspace(-2, 2, 100), np.zeros(100), '--', color='k')\n",
    "\n",
    "xlim = ax.set_xlim(0.1, 20)\n",
    "ylim = ax.set_ylim(-1, 1)\n"
   ]
  },
  {
   "cell_type": "code",
   "execution_count": null,
   "metadata": {},
   "outputs": [],
   "source": []
  },
  {
   "cell_type": "code",
   "execution_count": null,
   "metadata": {
    "collapsed": true
   },
   "outputs": [],
   "source": []
  },
  {
   "cell_type": "code",
   "execution_count": null,
   "metadata": {
    "collapsed": true
   },
   "outputs": [],
   "source": []
  }
 ],
 "metadata": {
  "kernelspec": {
   "display_name": "Python [conda root]",
   "language": "python",
   "name": "conda-root-py"
  },
  "language_info": {
   "codemirror_mode": {
    "name": "ipython",
    "version": 2
   },
   "file_extension": ".py",
   "mimetype": "text/x-python",
   "name": "python",
   "nbconvert_exporter": "python",
   "pygments_lexer": "ipython2",
   "version": "2.7.13"
  }
 },
 "nbformat": 4,
 "nbformat_minor": 2
}
