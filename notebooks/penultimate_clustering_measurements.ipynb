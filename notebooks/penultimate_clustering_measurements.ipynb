{
 "cells": [
  {
   "cell_type": "code",
   "execution_count": 11,
   "metadata": {},
   "outputs": [],
   "source": [
    "%matplotlib inline\n",
    "import os\n",
    "from matplotlib import ticker"
   ]
  },
  {
   "cell_type": "code",
   "execution_count": 2,
   "metadata": {},
   "outputs": [
    {
     "name": "stdout",
     "output_type": "stream",
     "text": [
      "Number of M*-complete SDSS galaxies with good profile measurements = 229889\n"
     ]
    }
   ],
   "source": [
    "from galsize_models.measurements import load_umachine_sdss_with_meert15\n",
    "umachine_sdss, is_complete, good_profile_mask = load_umachine_sdss_with_meert15()\n",
    "\n",
    "mask = is_complete & good_profile_mask\n",
    "sdss = umachine_sdss[mask]\n",
    "print(\"Number of M*-complete SDSS galaxies with good profile measurements = {0}\".format(len(sdss)))\n",
    "\n",
    "completeness_table_dirname = \"/Users/aphearin/Dropbox/UniverseMachine/data/sdss\"\n",
    "completeness_table = np.loadtxt(os.path.join(completeness_table_dirname, 'completeness.dat'))\n",
    "completeness_dict = {}\n",
    "for i, sm in enumerate(completeness_table[:, 0]):\n",
    "    smkey = \"{0:.2f}\".format(sm)\n",
    "    completeness_dict[smkey] = completeness_table[i, 1]"
   ]
  },
  {
   "cell_type": "code",
   "execution_count": 3,
   "metadata": {},
   "outputs": [
    {
     "name": "stdout",
     "output_type": "stream",
     "text": [
      "9.75\n",
      "6.00\n",
      "10.25\n",
      "10.50\n",
      "10.75\n",
      "11.00\n",
      "11.25\n"
     ]
    }
   ],
   "source": [
    "from galsize_models.measurements.split_sdss_sample_rhalf import sdss_sample_below_median_size\n",
    "\n",
    "sm9p75_mask = (sdss['sm'] > 9.75) & (sdss['z'] < completeness_dict['9.75'])\n",
    "sm10p0_mask = sdss['sm'] > 10 & (sdss['z'] < completeness_dict['10.00'])\n",
    "sm10p25_mask = (sdss['sm'] > 10.25) & (sdss['z'] < completeness_dict['10.25'])\n",
    "sm10p5_mask = (sdss['sm'] > 10.5) & (sdss['z'] < completeness_dict['10.45'])\n",
    "sm10p75_mask = (sdss['sm'] > 10.75) & (sdss['z'] < completeness_dict['10.75'])\n",
    "sm11p0_mask = (sdss['sm'] > 11) & (sdss['z'] < completeness_dict['11.00'])\n",
    "sm11p25_mask = (sdss['sm'] > 11.25) & (sdss['z'] < completeness_dict['11.20'])\n",
    "\n",
    "sdss_sm9p75 = sdss[sm9p75_mask]\n",
    "sdss_sm10p0 = sdss[sm10p0_mask]\n",
    "sdss_sm10p25 = sdss[sm10p25_mask]\n",
    "sdss_sm10p5 = sdss[sm10p5_mask]\n",
    "sdss_sm10p75 = sdss[sm10p75_mask]\n",
    "sdss_sm11p0 = sdss[sm11p0_mask]\n",
    "sdss_sm11p25 = sdss[sm11p25_mask]\n",
    "\n",
    "print(\"{0:.2f}\".format(sdss_sm9p75['sm'].min()))\n",
    "print(\"{0:.2f}\".format(sdss_sm10p0['sm'].min()))\n",
    "print(\"{0:.2f}\".format(sdss_sm10p25['sm'].min()))\n",
    "print(\"{0:.2f}\".format(sdss_sm10p5['sm'].min()))\n",
    "print(\"{0:.2f}\".format(sdss_sm10p75['sm'].min()))\n",
    "print(\"{0:.2f}\".format(sdss_sm11p0['sm'].min()))\n",
    "print(\"{0:.2f}\".format(sdss_sm11p25['sm'].min()))\n",
    "\n",
    "\n",
    "sdss_sm9p75['small'] = sdss_sample_below_median_size(sdss_sm9p75)\n",
    "sdss_sm9p75_small = sdss_sm9p75[sdss_sm9p75['small']]\n",
    "sdss_sm9p75_large = sdss_sm9p75[~sdss_sm9p75['small']]\n",
    "\n",
    "sdss_sm10p0['small'] = sdss_sample_below_median_size(sdss_sm10p0)\n",
    "sdss_sm10p0_small = sdss_sm10p0[sdss_sm10p0['small']]\n",
    "sdss_sm10p0_large = sdss_sm10p0[~sdss_sm10p0['small']]\n",
    "\n",
    "sdss_sm10p25['small'] = sdss_sample_below_median_size(sdss_sm10p25)\n",
    "sdss_sm10p25_small = sdss_sm10p25[sdss_sm10p25['small']]\n",
    "sdss_sm10p25_large = sdss_sm10p25[~sdss_sm10p25['small']]\n",
    "\n",
    "sdss_sm10p5['small'] = sdss_sample_below_median_size(sdss_sm10p5)\n",
    "sdss_sm10p5_small = sdss_sm10p5[sdss_sm10p5['small']]\n",
    "sdss_sm10p5_large = sdss_sm10p5[~sdss_sm10p5['small']]\n",
    "\n",
    "sdss_sm10p75['small'] = sdss_sample_below_median_size(sdss_sm10p75)\n",
    "sdss_sm10p75_small = sdss_sm10p75[sdss_sm10p75['small']]\n",
    "sdss_sm10p75_large = sdss_sm10p75[~sdss_sm10p75['small']]\n",
    "\n",
    "sdss_sm11p0['small'] = sdss_sample_below_median_size(sdss_sm11p0)\n",
    "sdss_sm11p0_small = sdss_sm11p0[sdss_sm11p0['small']]\n",
    "sdss_sm11p0_large = sdss_sm11p0[~sdss_sm11p0['small']]\n",
    "\n",
    "sdss_sm11p25['small'] = sdss_sample_below_median_size(sdss_sm11p25)\n",
    "sdss_sm11p25_small = sdss_sm11p25[sdss_sm11p25['small']]\n",
    "sdss_sm11p25_large = sdss_sm11p25[~sdss_sm11p25['small']]\n"
   ]
  },
  {
   "cell_type": "code",
   "execution_count": 19,
   "metadata": {},
   "outputs": [
    {
     "data": {
      "image/png": "[encoded data removed]",
      "text/plain": [
       "<matplotlib.figure.Figure at 0x139005950>"
      ]
     },
     "metadata": {},
     "output_type": "display_data"
    }
   ],
   "source": [
    "sm_min = 10.25\n",
    "small, large = sdss_sm10p25_small, sdss_sm10p25_large\n",
    "sm_bins = np.linspace(sm_min, 11.75, 50)\n",
    "\n",
    "fig, (ax1, ax2) = plt.subplots(1, 2, figsize=(10, 4))\n",
    "xscale2 = ax2.set_xscale('log')\n",
    "\n",
    "xlim1 = ax1.set_xlim(10, 11.75)\n",
    "ylim2 = ax2.set_ylim(0, 3500)\n",
    "\n",
    "__=ax1.hist(small['sm'], bins=sm_bins, normed=True, alpha=0.8, \n",
    "            label='small galaxies', color='red')\n",
    "__=ax1.hist(large['sm'], bins=sm_bins, normed=True, alpha=0.8, \n",
    "            label='large galaxies', color='blue')\n",
    "\n",
    "r50_bins = np.logspace(-0.5, 1.25, 50)\n",
    "__=ax2.hist(small['r50_magr_kpc_meert15'], bins=r50_bins, alpha=0.8, \n",
    "           label='small galaxies', color='red')\n",
    "__=ax2.hist(large['r50_magr_kpc_meert15'], bins=r50_bins, alpha=0.8, \n",
    "           label='large galaxies', color='blue')\n",
    "\n",
    "__=ax2.get_xaxis().set_major_formatter(ticker.ScalarFormatter())\n",
    "__=ax2.get_xaxis().set_minor_formatter(ticker.NullFormatter())\n",
    "__=ax2.set_xticks((0.3, 1, 3, 10, 30))\n",
    "\n",
    "title1 = ax1.set_title(r'SDSS sample: $M_{\\ast}>10.25$')\n",
    "title2 = ax2.set_title(r'SDSS sample: $M_{\\ast}>10.25$')\n",
    "xlabel1 = ax1.set_xlabel(r'$\\log_{10}M_{\\ast}/M_{\\odot}$')\n",
    "xlabel2 = ax2.set_xlabel(r'$R_{1/2}$  $[{\\rm kpc}]$')\n",
    "\n",
    "legend1 = ax1.legend()\n",
    "legend2 = ax2.legend()\n",
    "\n",
    "figname = 'sdss_small_large_sample_definitions.pdf'\n",
    "fig.savefig(figname, bbox_extra_artists=[xlabel1], bbox_inches='tight')"
   ]
  },
  {
   "cell_type": "code",
   "execution_count": 5,
   "metadata": {},
   "outputs": [
    {
     "name": "stdout",
     "output_type": "stream",
     "text": [
      "['ra', 'dec', 'z', 'bptclass', 'sm', 'sfr', 'specsfr', 'sm_fib', 'sfr_fib', 'specsfr_fib', 'withinr', 'eligiblehost', 'sm_complete', 'eligiblehost2', 'd4000', 'd4000_sub', 'd4000_n', 'd4000_n_sub', 'has_match', 'logM_mendel13', 'logMB_mendel13', 'logMD_mendel13', 'pps_mendel13', 'type_mendel13', 'deltaBD_mendel13', 'dr7_objID', 'has_meert15_match', 'r50_magr_kpc_meert15', 'Magr_tot_meert15', 'Magr_bulge_meert15', 'Magr_disk_meert15', 'gr_bulge_meert15', 'gr_disk_meert15', 'morph_type_T_meert15', 'gr_kcorr_meert15', 'bulge_to_total_rband_meert15', 'logsm_bell03_meert15', 'ssfr', 'small']\n"
     ]
    }
   ],
   "source": [
    "print(small.keys())"
   ]
  },
  {
   "cell_type": "code",
   "execution_count": 6,
   "metadata": {},
   "outputs": [],
   "source": [
    "from galsize_models.measurements.measure_sdss_clustering import save_wp_measurement\n",
    "\n",
    "import os\n",
    "repo_dirname = \"/Users/aphearin/work/repositories/python/galsize_models\"\n",
    "output_subdirname = \"galsize_models/measurements/data/two_point_functions\"\n",
    "output_dirname = os.path.join(repo_dirname, output_subdirname)\n",
    "\n",
    "sm_high = 12\n"
   ]
  },
  {
   "cell_type": "code",
   "execution_count": 7,
   "metadata": {},
   "outputs": [
    {
     "name": "stdout",
     "output_type": "stream",
     "text": [
      "Measuring wp for sdss_mpajhu_sm9p75 sample of 27658 galaxies\n",
      "Measuring wp for sdss_mpajhu_sm10p0 sample of 229889 galaxies\n",
      "Measuring wp for sdss_mpajhu_sm10p25 sample of 48571 galaxies\n",
      "Measuring wp for sdss_mpajhu_sm10p5 sample of 52167 galaxies\n",
      "Measuring wp for sdss_mpajhu_sm10p75 sample of 52350 galaxies\n",
      "Measuring wp for sdss_mpajhu_sm11p0 sample of 33578 galaxies\n",
      "Measuring wp for sdss_mpajhu_sm11p25 sample of 12645 galaxies\n"
     ]
    }
   ],
   "source": [
    "save_wp_measurement(sdss_sm9p75, output_dirname, 'sdss_mpajhu_sm9p75', 9.75, sm_high)\n",
    "\n",
    "save_wp_measurement(sdss_sm10p0, output_dirname, 'sdss_mpajhu_sm10p0', 10., sm_high)\n",
    "save_wp_measurement(sdss_sm10p25, output_dirname, 'sdss_mpajhu_sm10p25', 10.25, sm_high)\n",
    "save_wp_measurement(sdss_sm10p5, output_dirname, 'sdss_mpajhu_sm10p5', 10.5, sm_high)\n",
    "save_wp_measurement(sdss_sm10p75, output_dirname, 'sdss_mpajhu_sm10p75', 10.75, sm_high)\n",
    "\n",
    "save_wp_measurement(sdss_sm11p0, output_dirname, 'sdss_mpajhu_sm11p0', 11., sm_high)\n",
    "save_wp_measurement(sdss_sm11p25, output_dirname, 'sdss_mpajhu_sm11p25', 11.25, sm_high)\n"
   ]
  },
  {
   "cell_type": "code",
   "execution_count": 8,
   "metadata": {},
   "outputs": [
    {
     "name": "stdout",
     "output_type": "stream",
     "text": [
      "Measuring wp for sdss_mpajhu_sm9p75_small sample of 13852 galaxies\n",
      "Measuring wp for sdss_mpajhu_sm10p0_small sample of 120751 galaxies\n",
      "Measuring wp for sdss_mpajhu_sm10p25_small sample of 24487 galaxies\n",
      "Measuring wp for sdss_mpajhu_sm10p5_small sample of 26413 galaxies\n",
      "Measuring wp for sdss_mpajhu_sm10p75_small sample of 26574 galaxies\n",
      "Measuring wp for sdss_mpajhu_sm11p0_small sample of 17073 galaxies\n",
      "Measuring wp for sdss_mpajhu_sm11p25_small sample of 6411 galaxies\n"
     ]
    }
   ],
   "source": [
    "save_wp_measurement(sdss_sm9p75_small, output_dirname, 'sdss_mpajhu_sm9p75_small', 9.75, sm_high)\n",
    "\n",
    "save_wp_measurement(sdss_sm10p0_small, output_dirname, 'sdss_mpajhu_sm10p0_small', 10., sm_high)\n",
    "save_wp_measurement(sdss_sm10p25_small, output_dirname, 'sdss_mpajhu_sm10p25_small', 10.25, sm_high)\n",
    "save_wp_measurement(sdss_sm10p5_small, output_dirname, 'sdss_mpajhu_sm10p5_small', 10.5, sm_high)\n",
    "save_wp_measurement(sdss_sm10p75_small, output_dirname, 'sdss_mpajhu_sm10p75_small', 10.75, sm_high)\n",
    "\n",
    "save_wp_measurement(sdss_sm11p0_small, output_dirname, 'sdss_mpajhu_sm11p0_small', 11., sm_high)\n",
    "save_wp_measurement(sdss_sm11p25_small, output_dirname, 'sdss_mpajhu_sm11p25_small', 11.25, sm_high)\n"
   ]
  },
  {
   "cell_type": "code",
   "execution_count": 9,
   "metadata": {},
   "outputs": [
    {
     "name": "stdout",
     "output_type": "stream",
     "text": [
      "Measuring wp for sdss_mpajhu_sm9p75_large sample of 13806 galaxies\n",
      "Measuring wp for sdss_mpajhu_sm10p0_large sample of 109138 galaxies\n",
      "Measuring wp for sdss_mpajhu_sm10p25_large sample of 24084 galaxies\n",
      "Measuring wp for sdss_mpajhu_sm10p5_large sample of 25754 galaxies\n",
      "Measuring wp for sdss_mpajhu_sm10p75_large sample of 25776 galaxies\n",
      "Measuring wp for sdss_mpajhu_sm11p0_large sample of 16505 galaxies\n",
      "Measuring wp for sdss_mpajhu_sm11p25_large sample of 6234 galaxies\n"
     ]
    }
   ],
   "source": [
    "save_wp_measurement(sdss_sm9p75_large, output_dirname, 'sdss_mpajhu_sm9p75_large', 9.75, sm_high)\n",
    "\n",
    "save_wp_measurement(sdss_sm10p0_large, output_dirname, 'sdss_mpajhu_sm10p0_large', 10., sm_high)\n",
    "save_wp_measurement(sdss_sm10p25_large, output_dirname, 'sdss_mpajhu_sm10p25_large', 10.25, sm_high)\n",
    "save_wp_measurement(sdss_sm10p5_large, output_dirname, 'sdss_mpajhu_sm10p5_large', 10.5, sm_high)\n",
    "save_wp_measurement(sdss_sm10p75_large, output_dirname, 'sdss_mpajhu_sm10p75_large', 10.75, sm_high)\n",
    "\n",
    "save_wp_measurement(sdss_sm11p0_large, output_dirname, 'sdss_mpajhu_sm11p0_large', 11., sm_high)\n",
    "save_wp_measurement(sdss_sm11p25_large, output_dirname, 'sdss_mpajhu_sm11p25_large', 11.25, sm_high)\n"
   ]
  },
  {
   "cell_type": "code",
   "execution_count": null,
   "metadata": {},
   "outputs": [],
   "source": []
  }
 ],
 "metadata": {
  "kernelspec": {
   "display_name": "Python [conda root]",
   "language": "python",
   "name": "conda-root-py"
  },
  "language_info": {
   "codemirror_mode": {
    "name": "ipython",
    "version": 2
   },
   "file_extension": ".py",
   "mimetype": "text/x-python",
   "name": "python",
   "nbconvert_exporter": "python",
   "pygments_lexer": "ipython2",
   "version": "2.7.14"
  }
 },
 "nbformat": 4,
 "nbformat_minor": 2
}
