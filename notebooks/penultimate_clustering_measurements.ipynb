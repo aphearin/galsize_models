{
 "cells": [
  {
   "cell_type": "code",
   "execution_count": 1,
   "metadata": {},
   "outputs": [],
   "source": [
    "%matplotlib inline"
   ]
  },
  {
   "cell_type": "code",
   "execution_count": 2,
   "metadata": {},
   "outputs": [
    {
     "name": "stdout",
     "output_type": "stream",
     "text": [
      "Number of M*-complete SDSS galaxies with good profile measurements = 229889\n"
     ]
    }
   ],
   "source": [
    "from galsize_models.measurements import load_umachine_sdss_with_meert15\n",
    "umachine_sdss, is_complete, good_profile_mask = load_umachine_sdss_with_meert15()\n",
    "\n",
    "mask = is_complete & good_profile_mask\n",
    "sdss = umachine_sdss[mask]\n",
    "print(\"Number of M*-complete SDSS galaxies with good profile measurements = {0}\".format(len(sdss)))\n"
   ]
  },
  {
   "cell_type": "code",
   "execution_count": 16,
   "metadata": {},
   "outputs": [],
   "source": [
    "from galsize_models.measurements.split_sdss_sample_rhalf import sdss_sample_below_median_size\n",
    "\n",
    "sdss['small'] = sdss_sample_below_median_size(sdss)"
   ]
  },
  {
   "cell_type": "code",
   "execution_count": 24,
   "metadata": {},
   "outputs": [
    {
     "name": "stdout",
     "output_type": "stream",
     "text": [
      "9.75\n",
      "10.00\n",
      "10.25\n",
      "10.50\n",
      "10.75\n",
      "11.00\n",
      "11.25\n"
     ]
    }
   ],
   "source": [
    "sm9p75_mask = sdss['sm'] > 9.75\n",
    "sm10p0_mask = sdss['sm'] > 10\n",
    "sm10p25_mask = sdss['sm'] > 10.25\n",
    "sm10p5_mask = sdss['sm'] > 10.5\n",
    "sm10p75_mask = sdss['sm'] > 10.75\n",
    "sm11p0_mask = sdss['sm'] > 11\n",
    "sm11p25_mask = sdss['sm'] > 11.25\n",
    "\n",
    "\n",
    "sdss_sm9p75 = sdss[sm9p75_mask]\n",
    "sdss_sm10p0 = sdss[sm10p0_mask]\n",
    "sdss_sm10p25 = sdss[sm10p25_mask]\n",
    "sdss_sm10p5 = sdss[sm10p5_mask]\n",
    "sdss_sm10p75 = sdss[sm10p75_mask]\n",
    "sdss_sm11p0 = sdss[sm11p0_mask]\n",
    "sdss_sm11p25 = sdss[sm11p25_mask]\n",
    "\n",
    "print(\"{0:.2f}\".format(sdss_sm9p75['sm'].min()))\n",
    "print(\"{0:.2f}\".format(sdss_sm10p0['sm'].min()))\n",
    "print(\"{0:.2f}\".format(sdss_sm10p25['sm'].min()))\n",
    "print(\"{0:.2f}\".format(sdss_sm10p5['sm'].min()))\n",
    "print(\"{0:.2f}\".format(sdss_sm10p75['sm'].min()))\n",
    "print(\"{0:.2f}\".format(sdss_sm11p0['sm'].min()))\n",
    "print(\"{0:.2f}\".format(sdss_sm11p25['sm'].min()))\n",
    "\n",
    "\n",
    "sdss_sm9p75_small = sdss_sm9p75[sdss_sm9p75['small']]\n",
    "sdss_sm10p0_small = sdss_sm10p0[sdss_sm10p0['small']]\n",
    "sdss_sm10p25_small = sdss_sm10p25[sdss_sm10p25['small']]\n",
    "sdss_sm10p5_small = sdss_sm10p5[sdss_sm10p5['small']]\n",
    "sdss_sm10p75_small = sdss_sm10p75[sdss_sm10p75['small']]\n",
    "sdss_sm11p0_small = sdss_sm11p0[sdss_sm11p0['small']]\n",
    "sdss_sm11p25_small = sdss_sm11p25[sdss_sm11p25['small']]\n",
    "\n",
    "sdss_sm9p75_large = sdss_sm9p75[~sdss_sm9p75['small']]\n",
    "sdss_sm10p0_large = sdss_sm10p0[~sdss_sm10p0['small']]\n",
    "sdss_sm10p25_large = sdss_sm10p25[~sdss_sm10p25['small']]\n",
    "sdss_sm10p5_large = sdss_sm10p5[~sdss_sm10p5['small']]\n",
    "sdss_sm10p75_large = sdss_sm10p75[~sdss_sm10p75['small']]\n",
    "sdss_sm11p0_large = sdss_sm11p0[~sdss_sm11p0['small']]\n",
    "sdss_sm11p25_large = sdss_sm11p25[~sdss_sm11p25['small']]\n"
   ]
  },
  {
   "cell_type": "code",
   "execution_count": 25,
   "metadata": {},
   "outputs": [],
   "source": [
    "from galsize_models.measurements.measure_sdss_clustering import save_wp_measurement\n",
    "\n",
    "import os\n",
    "repo_dirname = \"/Users/aphearin/work/repositories/python/galsize_models\"\n",
    "output_subdirname = \"galsize_models/measurements/data/two_point_functions\"\n",
    "output_dirname = os.path.join(repo_dirname, output_subdirname)\n",
    "\n",
    "sm_high = 12\n"
   ]
  },
  {
   "cell_type": "code",
   "execution_count": 27,
   "metadata": {},
   "outputs": [
    {
     "name": "stdout",
     "output_type": "stream",
     "text": [
      "Measuring wp for sdss_mpajhu_sm9p75 sample of 192547 galaxies\n",
      "Measuring wp for sdss_mpajhu_sm10p0 sample of 183135 galaxies\n",
      "Measuring wp for sdss_mpajhu_sm10p25 sample of 167394 galaxies\n",
      "Measuring wp for sdss_mpajhu_sm10p5 sample of 140122 galaxies\n",
      "Measuring wp for sdss_mpajhu_sm10p75 sample of 98858 galaxies\n",
      "Measuring wp for sdss_mpajhu_sm11p0 sample of 54389 galaxies\n",
      "Measuring wp for sdss_mpajhu_sm11p25 sample of 19881 galaxies\n"
     ]
    }
   ],
   "source": [
    "save_wp_measurement(sdss_sm9p75, output_dirname, 'sdss_mpajhu_sm9p75', 9.75, sm_high)\n",
    "\n",
    "save_wp_measurement(sdss_sm10p0, output_dirname, 'sdss_mpajhu_sm10p0', 10., sm_high)\n",
    "save_wp_measurement(sdss_sm10p25, output_dirname, 'sdss_mpajhu_sm10p25', 10.25, sm_high)\n",
    "save_wp_measurement(sdss_sm10p5, output_dirname, 'sdss_mpajhu_sm10p5', 10.5, sm_high)\n",
    "save_wp_measurement(sdss_sm10p75, output_dirname, 'sdss_mpajhu_sm10p75', 10.75, sm_high)\n",
    "\n",
    "save_wp_measurement(sdss_sm11p0, output_dirname, 'sdss_mpajhu_sm11p0', 11., sm_high)\n",
    "save_wp_measurement(sdss_sm11p25, output_dirname, 'sdss_mpajhu_sm11p25', 11.25, sm_high)\n"
   ]
  },
  {
   "cell_type": "code",
   "execution_count": 28,
   "metadata": {},
   "outputs": [
    {
     "name": "stdout",
     "output_type": "stream",
     "text": [
      "Measuring wp for sdss_mpajhu_sm9p75_small sample of 102021 galaxies\n",
      "Measuring wp for sdss_mpajhu_sm10p0_small sample of 96921 galaxies\n",
      "Measuring wp for sdss_mpajhu_sm10p25_small sample of 88324 galaxies\n",
      "Measuring wp for sdss_mpajhu_sm10p5_small sample of 72057 galaxies\n",
      "Measuring wp for sdss_mpajhu_sm10p75_small sample of 47122 galaxies\n",
      "Measuring wp for sdss_mpajhu_sm11p0_small sample of 22693 galaxies\n",
      "Measuring wp for sdss_mpajhu_sm11p25_small sample of 5726 galaxies\n"
     ]
    }
   ],
   "source": [
    "save_wp_measurement(sdss_sm9p75_small, output_dirname, 'sdss_mpajhu_sm9p75_small', 9.75, sm_high)\n",
    "\n",
    "save_wp_measurement(sdss_sm10p0_small, output_dirname, 'sdss_mpajhu_sm10p0_small', 10., sm_high)\n",
    "save_wp_measurement(sdss_sm10p25_small, output_dirname, 'sdss_mpajhu_sm10p25_small', 10.25, sm_high)\n",
    "save_wp_measurement(sdss_sm10p5_small, output_dirname, 'sdss_mpajhu_sm10p5_small', 10.5, sm_high)\n",
    "save_wp_measurement(sdss_sm10p75_small, output_dirname, 'sdss_mpajhu_sm10p75_small', 10.75, sm_high)\n",
    "\n",
    "save_wp_measurement(sdss_sm11p0_small, output_dirname, 'sdss_mpajhu_sm11p0_small', 11., sm_high)\n",
    "save_wp_measurement(sdss_sm11p25_small, output_dirname, 'sdss_mpajhu_sm11p25_small', 11.25, sm_high)\n"
   ]
  },
  {
   "cell_type": "code",
   "execution_count": 29,
   "metadata": {},
   "outputs": [
    {
     "name": "stdout",
     "output_type": "stream",
     "text": [
      "Measuring wp for sdss_mpajhu_sm9p75_large sample of 90526 galaxies\n",
      "Measuring wp for sdss_mpajhu_sm10p0_large sample of 86214 galaxies\n",
      "Measuring wp for sdss_mpajhu_sm10p25_large sample of 79070 galaxies\n",
      "Measuring wp for sdss_mpajhu_sm10p5_large sample of 68065 galaxies\n",
      "Measuring wp for sdss_mpajhu_sm10p75_large sample of 51736 galaxies\n",
      "Measuring wp for sdss_mpajhu_sm11p0_large sample of 31696 galaxies\n",
      "Measuring wp for sdss_mpajhu_sm11p25_large sample of 14155 galaxies\n"
     ]
    }
   ],
   "source": [
    "save_wp_measurement(sdss_sm9p75_large, output_dirname, 'sdss_mpajhu_sm9p75_large', 9.75, sm_high)\n",
    "\n",
    "save_wp_measurement(sdss_sm10p0_large, output_dirname, 'sdss_mpajhu_sm10p0_large', 10., sm_high)\n",
    "save_wp_measurement(sdss_sm10p25_large, output_dirname, 'sdss_mpajhu_sm10p25_large', 10.25, sm_high)\n",
    "save_wp_measurement(sdss_sm10p5_large, output_dirname, 'sdss_mpajhu_sm10p5_large', 10.5, sm_high)\n",
    "save_wp_measurement(sdss_sm10p75_large, output_dirname, 'sdss_mpajhu_sm10p75_large', 10.75, sm_high)\n",
    "\n",
    "save_wp_measurement(sdss_sm11p0_large, output_dirname, 'sdss_mpajhu_sm11p0_large', 11., sm_high)\n",
    "save_wp_measurement(sdss_sm11p25_large, output_dirname, 'sdss_mpajhu_sm11p25_large', 11.25, sm_high)\n"
   ]
  },
  {
   "cell_type": "code",
   "execution_count": null,
   "metadata": {},
   "outputs": [],
   "source": []
  }
 ],
 "metadata": {
  "kernelspec": {
   "display_name": "Python [conda root]",
   "language": "python",
   "name": "conda-root-py"
  },
  "language_info": {
   "codemirror_mode": {
    "name": "ipython",
    "version": 2
   },
   "file_extension": ".py",
   "mimetype": "text/x-python",
   "name": "python",
   "nbconvert_exporter": "python",
   "pygments_lexer": "ipython2",
   "version": "2.7.14"
  }
 },
 "nbformat": 4,
 "nbformat_minor": 2
}
