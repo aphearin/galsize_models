{
 "cells": [
  {
   "cell_type": "code",
   "execution_count": 1,
   "metadata": {
    "collapsed": true
   },
   "outputs": [],
   "source": [
    "%matplotlib inline"
   ]
  },
  {
   "cell_type": "code",
   "execution_count": 2,
   "metadata": {},
   "outputs": [
    {
     "name": "stdout",
     "output_type": "stream",
     "text": [
      "Number of M*-complete SDSS galaxies with good profile measurements = 229889\n"
     ]
    }
   ],
   "source": [
    "from galsize_models.measurements import load_umachine_sdss_with_meert15\n",
    "full_sdss, behroozi_complete, good_profile_mask = load_umachine_sdss_with_meert15()\n",
    "\n",
    "sdss = full_sdss[behroozi_complete & good_profile_mask]\n",
    "print(\"Number of M*-complete SDSS galaxies with good profile measurements = {0}\".format(len(sdss)))"
   ]
  },
  {
   "cell_type": "code",
   "execution_count": 3,
   "metadata": {},
   "outputs": [],
   "source": [
    "from scipy.stats import binned_statistic\n",
    "\n",
    "logsm_bins = np.linspace(9.5, 12, 20)\n",
    "logsm_table = 0.5*(logsm_bins[:-1] + logsm_bins[1:])\n",
    "median_rhalf_table, __, __ = binned_statistic(sdss['logsm_bell03_meert15'], \n",
    "                                      sdss['r50_magr_kpc_meert15'], \n",
    "                                     bins=logsm_bins)\n",
    "\n",
    "def frac_surviving_mstar(frac_surviving_dm, a=14.2):\n",
    "    return 1 - np.exp(-a*frac_surviving_dm)\n",
    "\n",
    "def frac_rhalf_reduction(mstar_init, frac_surviving_dm, a=14.2):\n",
    "    mstar_final = frac_surviving_mstar(frac_surviving_dm)*mstar_init\n",
    "    logsm_init, logsm_final = np.log10([mstar_init, mstar_final])\n",
    "    initial_rhalf, final_rhalf = np.interp([logsm_init, logsm_final], \n",
    "                                          logsm_table, median_rhalf_table)\n",
    "    return final_rhalf/initial_rhalf\n",
    "\n"
   ]
  },
  {
   "cell_type": "code",
   "execution_count": 4,
   "metadata": {},
   "outputs": [
    {
     "name": "stdout",
     "output_type": "stream",
     "text": [
      "Number of model galaxies with logM* > 9.0 = 1.21e+06\n"
     ]
    }
   ],
   "source": [
    "from galsize_models.models import moster13_based_mock\n",
    "mock = moster13_based_mock()\n",
    "print(\"Number of model galaxies with logM* > {0:.1f} = {1:.2e}\".format(np.log10(mock['mstar'].min()),len(mock)))"
   ]
  },
  {
   "cell_type": "code",
   "execution_count": 5,
   "metadata": {},
   "outputs": [],
   "source": [
    "from galsize_models.models import component_size_vs_rhalo\n",
    "\n",
    "rvir = mock['rvir_zpeak']\n",
    "normalization_all = 0.0125\n",
    "alpha_all = 1.\n",
    "scatter_all = 0.15\n",
    "size_seed=14041\n",
    "\n",
    "mock['r50'] = component_size_vs_rhalo(rvir, \n",
    "                        normalization_all, alpha_all, \n",
    "                        scatter=scatter_all, seed=size_seed)\n",
    "\n",
    "mock['r50_orig'] = mock['r50']\n",
    "\n",
    "from scipy.stats import binned_statistic\n",
    "logsm_bins = np.linspace(9, 12.25, 35)\n",
    "logsm_mids = 0.5*(logsm_bins[:-1] + logsm_bins[1:])\n",
    "\n",
    "median_rhalf_mock, __, __ = binned_statistic(\n",
    "        np.log10(mock['mstar']), mock['r50'], bins=logsm_bins)\n",
    "\n",
    "mock['r50_median'] = np.interp(np.log10(mock['mstar']), \n",
    "                              logsm_mids, median_rhalf_mock)\n",
    "\n",
    "from galsize_models.measurements import single_component_ratios\n",
    "result = single_component_ratios(mock, num_gals_max=int(5e5))\n",
    "rp_mids, fracdiff_sm9p75_mock, fracdiff_sm10p25_mock, \\\n",
    "fracdiff_sm10p75_mock, fracdiff_sm11p25_mock = result"
   ]
  },
  {
   "cell_type": "code",
   "execution_count": 6,
   "metadata": {},
   "outputs": [],
   "source": [
    "frac_surviving_dm = mock['mvir']/mock['mpeak']\n",
    "mock['r50'] = mock['r50_orig']*frac_rhalf_reduction(mock['mstar'], frac_surviving_dm)\n",
    "\n",
    "median_rhalf_mock, __, __ = binned_statistic(\n",
    "        np.log10(mock['mstar']), mock['r50'], bins=logsm_bins)\n",
    "\n",
    "mock['r50_median'] = np.interp(np.log10(mock['mstar']), \n",
    "                              logsm_mids, median_rhalf_mock)\n",
    "\n",
    "result = single_component_ratios(mock, num_gals_max=int(5e5))\n",
    "rp_mids, fracdiff_sm9p75_mock_stripping, fracdiff_sm10p25_mock_stripping, \\\n",
    "fracdiff_sm10p75_mock_stripping, fracdiff_sm11p25_mock_stripping = result"
   ]
  },
  {
   "cell_type": "code",
   "execution_count": 8,
   "metadata": {},
   "outputs": [],
   "source": [
    "import os\n",
    "repo_dirname = \"/Users/aphearin/work/repositories/python/galsize_models\"\n",
    "output_subdirname = \"galsize_models/measurements/data/two_point_functions\"\n",
    "output_dirname = os.path.join(repo_dirname, output_subdirname)\n",
    "\n",
    "rp = np.load(os.path.join(output_dirname, 'sdss_sm9p75_smbell_rp.npy'))\n",
    "wp_sdss_sm9p75_smbell = np.load(os.path.join(output_dirname, 'sdss_sm9p75_smbell_wp.npy'))\n",
    "wp_sdss_sm9p75_smbell_small = np.load(os.path.join(output_dirname, 'sdss_sm9p75_smbell_small_wp.npy'))\n",
    "wp_sdss_sm9p75_smbell_large = np.load(os.path.join(output_dirname, 'sdss_sm9p75_smbell_large_wp.npy'))\n",
    "fracdiff_sm9p75_smbell = (wp_sdss_sm9p75_smbell_large-wp_sdss_sm9p75_smbell_small)/wp_sdss_sm9p75_smbell\n",
    "\n",
    "wp_sdss_sm10p0_smbell = np.load(os.path.join(output_dirname, 'sdss_sm10p0_smbell_wp.npy'))\n",
    "wp_sdss_sm10p0_smbell_small = np.load(os.path.join(output_dirname, 'sdss_sm10p0_smbell_small_wp.npy'))\n",
    "wp_sdss_sm10p0_smbell_large = np.load(os.path.join(output_dirname, 'sdss_sm10p0_smbell_large_wp.npy'))\n",
    "fracdiff_sm10p0_smbell = (wp_sdss_sm10p0_smbell_large-wp_sdss_sm10p0_smbell_small)/wp_sdss_sm10p0_smbell\n",
    "\n",
    "wp_sdss_sm10p25_smbell = np.load(os.path.join(output_dirname, 'sdss_sm10p25_smbell_wp.npy'))\n",
    "wp_sdss_sm10p25_smbell_small = np.load(os.path.join(output_dirname, 'sdss_sm10p25_smbell_small_wp.npy'))\n",
    "wp_sdss_sm10p25_smbell_large = np.load(os.path.join(output_dirname, 'sdss_sm10p25_smbell_large_wp.npy'))\n",
    "fracdiff_sm10p25_smbell = (wp_sdss_sm10p25_smbell_large-wp_sdss_sm10p25_smbell_small)/wp_sdss_sm10p25_smbell\n",
    "\n",
    "wp_sdss_sm10p5_smbell = np.load(os.path.join(output_dirname, 'sdss_sm10p5_smbell_wp.npy'))\n",
    "wp_sdss_sm10p5_smbell_small = np.load(os.path.join(output_dirname, 'sdss_sm10p5_smbell_small_wp.npy'))\n",
    "wp_sdss_sm10p5_smbell_large = np.load(os.path.join(output_dirname, 'sdss_sm10p5_smbell_large_wp.npy'))\n",
    "fracdiff_sm10p5_smbell = (wp_sdss_sm10p5_smbell_large-wp_sdss_sm10p5_smbell_small)/wp_sdss_sm10p5_smbell\n",
    "\n",
    "wp_sdss_sm10p75_smbell = np.load(os.path.join(output_dirname, 'sdss_sm10p75_smbell_wp.npy'))\n",
    "wp_sdss_sm10p75_smbell_small = np.load(os.path.join(output_dirname, 'sdss_sm10p75_smbell_small_wp.npy'))\n",
    "wp_sdss_sm10p75_smbell_large = np.load(os.path.join(output_dirname, 'sdss_sm10p75_smbell_large_wp.npy'))\n",
    "fracdiff_sm10p75_smbell = (wp_sdss_sm10p75_smbell_large-wp_sdss_sm10p75_smbell_small)/wp_sdss_sm10p75_smbell\n",
    "\n",
    "wp_sdss_sm11_smbell = np.load(os.path.join(output_dirname, 'sdss_sm11_smbell_wp.npy'))\n",
    "wp_sdss_sm11_smbell_small = np.load(os.path.join(output_dirname, 'sdss_sm11_smbell_small_wp.npy'))\n",
    "wp_sdss_sm11_smbell_large = np.load(os.path.join(output_dirname, 'sdss_sm11_smbell_large_wp.npy'))\n",
    "fracdiff_sm11_smbell = (wp_sdss_sm11_smbell_large-wp_sdss_sm11_smbell_small)/wp_sdss_sm11_smbell\n",
    "\n",
    "wp_sdss_sm11p25_smbell = np.load(os.path.join(output_dirname, 'sdss_sm11p25_smbell_wp.npy'))\n",
    "wp_sdss_sm11p25_smbell_small = np.load(os.path.join(output_dirname, 'sdss_sm11p25_smbell_small_wp.npy'))\n",
    "wp_sdss_sm11p25_smbell_large = np.load(os.path.join(output_dirname, 'sdss_sm11p25_smbell_large_wp.npy'))\n",
    "fracdiff_sm11p25_smbell = (wp_sdss_sm11p25_smbell_large-wp_sdss_sm11p25_smbell_small)/wp_sdss_sm11p25_smbell"
   ]
  },
  {
   "cell_type": "code",
   "execution_count": 11,
   "metadata": {},
   "outputs": [
    {
     "data": {
      "image/png": "[encoded data removed]",
      "text/plain": [
       "<matplotlib.figure.Figure at 0x12496abd0>"
      ]
     },
     "metadata": {},
     "output_type": "display_data"
    }
   ],
   "source": [
    "fig, ((ax1, ax2), (ax3, ax4)) = plt.subplots(2, 2, sharex=True, sharey=True, \n",
    "                                             figsize=(8, 8))\n",
    "\n",
    "axes = ax1, ax2, ax3, ax4\n",
    "\n",
    "for ax in axes:\n",
    "    ylim = ax.set_ylim(-1.75, 0.2)\n",
    "    xlim = ax.set_xlim(0.1, 20)\n",
    "    xscale = ax.set_xscale('log')\n",
    "    __=ax.plot(np.logspace(-2, 2, 100), np.zeros(100), '--', color='k')\n",
    "\n",
    "    \n",
    "__=ax1.errorbar(rp, fracdiff_sm11p25_smbell, 0.1, fmt='.', color='red', label='SDSS')\n",
    "__=ax2.errorbar(rp, fracdiff_sm10p75_smbell, 0.1, fmt='.', color='orange')\n",
    "__=ax3.errorbar(rp, fracdiff_sm10p25_smbell, 0.1, fmt='.', color='green')\n",
    "__=ax4.errorbar(rp, fracdiff_sm9p75_smbell, 0.1, fmt='.', color='blue')\n",
    "\n",
    "\n",
    "__=ax1.plot(rp_mids[3:], fracdiff_sm11p25_mock[3:], color='red', \n",
    "            label=r'fiducial model')\n",
    "__=ax2.plot(rp_mids, fracdiff_sm10p75_mock, color='orange')\n",
    "__=ax3.plot(rp_mids, fracdiff_sm10p25_mock, color='green')\n",
    "__=ax4.plot(rp_mids, fracdiff_sm9p75_mock, color='blue')\n",
    "\n",
    "__=ax1.plot(rp_mids[3:], fracdiff_sm11p25_mock_stripping[3:], '--', color='red', \n",
    "            label=r'fiducial + stripping')\n",
    "__=ax2.plot(rp_mids, fracdiff_sm10p75_mock_stripping, '--', color='orange')\n",
    "__=ax3.plot(rp_mids, fracdiff_sm10p25_mock_stripping, '--', color='green')\n",
    "__=ax4.plot(rp_mids, fracdiff_sm9p75_mock_stripping,'--', color='blue')\n",
    "\n",
    "__=ax1.set_title(r'$M_{\\ast} > 10^{11.25}M_{\\odot}$')\n",
    "__=ax2.set_title(r'$M_{\\ast} > 10^{10.75}M_{\\odot}$')\n",
    "__=ax3.set_title(r'$M_{\\ast} > 10^{10.25}M_{\\odot}$')\n",
    "__=ax4.set_title(r'$M_{\\ast} > 10^{9.75}M_{\\odot}$')\n",
    "\n",
    "ylabel1 = ax1.set_ylabel(r'$(w_{\\rm p}^{\\rm large} - w_{\\rm p}^{\\rm small}) / w_{\\rm p}^{\\rm all}$')\n",
    "ylabel3 = ax3.set_ylabel(r'$(w_{\\rm p}^{\\rm large} - w_{\\rm p}^{\\rm small}) / w_{\\rm p}^{\\rm all}$')\n",
    "xlabel3 = ax3.set_xlabel(r'$R_{\\rm p}$  $[{\\rm Mpc}]$')\n",
    "xlabel4 = ax4.set_xlabel(r'$R_{\\rm p}$  $[{\\rm Mpc}]$')\n",
    "\n",
    "leg1 = ax1.legend()\n",
    "\n",
    "figname = 'size_clustering_ratios_stripping_model_vs_sdss.pdf'\n",
    "fig.savefig(figname, bbox_extra_artists=[xlabel3, ylabel3], bbox_inches='tight')\n"
   ]
  },
  {
   "cell_type": "code",
   "execution_count": null,
   "metadata": {},
   "outputs": [],
   "source": [
    "\n"
   ]
  },
  {
   "cell_type": "code",
   "execution_count": null,
   "metadata": {},
   "outputs": [],
   "source": [
    "\n"
   ]
  },
  {
   "cell_type": "code",
   "execution_count": null,
   "metadata": {
    "collapsed": true
   },
   "outputs": [],
   "source": []
  }
 ],
 "metadata": {
  "kernelspec": {
   "display_name": "Python [conda root]",
   "language": "python",
   "name": "conda-root-py"
  },
  "language_info": {
   "codemirror_mode": {
    "name": "ipython",
    "version": 2
   },
   "file_extension": ".py",
   "mimetype": "text/x-python",
   "name": "python",
   "nbconvert_exporter": "python",
   "pygments_lexer": "ipython2",
   "version": "2.7.13"
  }
 },
 "nbformat": 4,
 "nbformat_minor": 2
}
