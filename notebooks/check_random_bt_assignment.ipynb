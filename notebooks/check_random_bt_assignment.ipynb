{
 "cells": [
  {
   "cell_type": "code",
   "execution_count": 1,
   "metadata": {
    "collapsed": true
   },
   "outputs": [],
   "source": [
    "%matplotlib inline"
   ]
  },
  {
   "cell_type": "code",
   "execution_count": 4,
   "metadata": {},
   "outputs": [
    {
     "name": "stdout",
     "output_type": "stream",
     "text": [
      "['ra', 'dec', 'z', 'bptclass', 'sm', 'sfr', 'specsfr', 'sm_fib', 'sfr_fib', 'specsfr_fib', 'withinr', 'eligiblehost', 'sm_complete', 'eligiblehost2', 'd4000', 'd4000_sub', 'd4000_n', 'd4000_n_sub', 'has_match', 'logM_mendel13', 'logMB_mendel13', 'logMD_mendel13', 'pps_mendel13', 'type_mendel13', 'deltaBD_mendel13', 'dr7_objID', 'has_meert15_match', 'r50_magr_kpc_meert15', 'Magr_tot_meert15', 'Magr_bulge_meert15', 'Magr_disk_meert15', 'gr_bulge_meert15', 'gr_disk_meert15', 'morph_type_T_meert15', 'gr_kcorr_meert15', 'bulge_to_total_rband_meert15', 'ssfr']\n"
     ]
    }
   ],
   "source": [
    "from galsize_models.measurements import load_umachine_sdss_with_meert15\n",
    "full_sdss, behroozi_complete = load_umachine_sdss_with_meert15()\n",
    "no_data_mask = np.isnan(full_sdss['Magr_tot_meert15'])\n",
    "\n",
    "mask = ~no_data_mask & behroozi_complete\n",
    "sdss = full_sdss[mask]\n",
    "print(sdss.keys())"
   ]
  },
  {
   "cell_type": "code",
   "execution_count": 5,
   "metadata": {},
   "outputs": [
    {
     "name": "stdout",
     "output_type": "stream",
     "text": [
      "Total runtime = 3.26 seconds\n",
      "['obs_sfr', 'icl', 'upid', 'mpeak', 'sfr', 'halo_id', 'mvir', 'rvir', 'vmax_at_mpeak', 'vx', 'a_first_infall', 'sm', 'vy', 'y', 'x', 'vz', 'z', 'dvmax_zscore', 'obs_sm', 'halo_hostid', 'host_halo_rvir', 'host_halo_mvir', 'ssfr', 'is_main_sequence', 'is_green_valley', 'is_quenched', 'logsm', 'rvir_halo_kpc', 'bt_meert15_random']\n"
     ]
    }
   ],
   "source": [
    "from galsize_models.models.load_baseline_catalogs import load_umachine_mock\n",
    "mock = load_umachine_mock()\n",
    "print(mock.keys())"
   ]
  },
  {
   "cell_type": "code",
   "execution_count": 13,
   "metadata": {},
   "outputs": [
    {
     "data": {
      "image/png": "[encoded data removed]",
      "text/plain": [
       "<matplotlib.figure.Figure at 0x11e15b810>"
      ]
     },
     "metadata": {},
     "output_type": "display_data"
    }
   ],
   "source": [
    "sm_low, sm_high = 9.9, 10.1\n",
    "\n",
    "sdss_sm_mask = (sdss['sm'] > sm_low) & (sdss['sm'] < sm_high)\n",
    "mock_sm_mask = (mock['obs_sm'] > 10**sm_low) & (mock['obs_sm'] < 10**sm_high)\n",
    "\n",
    "fig, ax = plt.subplots(1, 1)\n",
    "\n",
    "bt_bins = np.linspace(0, 1, 25)\n",
    "\n",
    "__=ax.hist(sdss['bulge_to_total_rband_meert15'][sdss_sm_mask], bins=bt_bins, \n",
    "          alpha=0.8, normed=True, label='SDSS')\n",
    "__=ax.hist(mock['bt_meert15_random'][mock_sm_mask], bins=bt_bins, \n",
    "          alpha=0.8, normed=True, label='model')\n",
    "\n",
    "title = ax.set_title(r'All galaxies $M_{\\ast} \\approx 10^{10}M_{\\odot}$')\n",
    "legend = ax.legend()"
   ]
  },
  {
   "cell_type": "code",
   "execution_count": 19,
   "metadata": {},
   "outputs": [
    {
     "data": {
      "image/png": "[encoded data removed]",
      "text/plain": [
       "<matplotlib.figure.Figure at 0x11ec98b10>"
      ]
     },
     "metadata": {},
     "output_type": "display_data"
    }
   ],
   "source": [
    "sm_low, sm_high = 9.9, 10.1\n",
    "\n",
    "sdss_sm_mask = (sdss['sm'] > sm_low) & (sdss['sm'] < sm_high) \n",
    "sdss_sm_sf_mask = sdss_sm_mask & (sdss['ssfr'] > -10.75)\n",
    "sdss_sm_q_mask = sdss_sm_mask & (sdss['ssfr'] < -11.25)\n",
    "\n",
    "mock_sm_mask = (mock['obs_sm'] > 10**sm_low) & (mock['obs_sm'] < 10**sm_high)\n",
    "mock_sm_sf_mask = mock_sm_mask & (mock['ssfr'] > -10.75)\n",
    "mock_sm_q_mask = mock_sm_mask & (mock['ssfr'] < -11.25)\n",
    "\n",
    "fig, ax = plt.subplots(1, 1)\n",
    "\n",
    "bt_bins = np.linspace(0, 1, 25)\n",
    "\n",
    "# __=ax.hist(sdss['bulge_to_total_rband_meert15'][sdss_sm_sf_mask], bins=bt_bins, \n",
    "#           alpha=0.8, normed=True, label='SDSS star-forming')\n",
    "# __=ax.hist(mock['bt_meert15_random'][mock_sm_sf_mask], bins=bt_bins, \n",
    "#           alpha=0.8, normed=True, label='model star-forming')\n",
    "\n",
    "__=ax.hist(sdss['bulge_to_total_rband_meert15'][sdss_sm_q_mask], bins=bt_bins, \n",
    "          alpha=0.8, normed=True, label='SDSS quenched')\n",
    "__=ax.hist(mock['bt_meert15_random'][mock_sm_q_mask], bins=bt_bins, \n",
    "          alpha=0.8, normed=True, label='model quenched')\n",
    "\n",
    "title = ax.set_title(r'Star-forming galaxies $M_{\\ast} \\approx 10^{10}M_{\\odot}$')\n",
    "legend = ax.legend()"
   ]
  },
  {
   "cell_type": "code",
   "execution_count": null,
   "metadata": {
    "collapsed": true
   },
   "outputs": [],
   "source": []
  },
  {
   "cell_type": "code",
   "execution_count": null,
   "metadata": {
    "collapsed": true
   },
   "outputs": [],
   "source": []
  }
 ],
 "metadata": {
  "kernelspec": {
   "display_name": "Python [conda root]",
   "language": "python",
   "name": "conda-root-py"
  },
  "language_info": {
   "codemirror_mode": {
    "name": "ipython",
    "version": 2
   },
   "file_extension": ".py",
   "mimetype": "text/x-python",
   "name": "python",
   "nbconvert_exporter": "python",
   "pygments_lexer": "ipython2",
   "version": "2.7.13"
  }
 },
 "nbformat": 4,
 "nbformat_minor": 2
}
